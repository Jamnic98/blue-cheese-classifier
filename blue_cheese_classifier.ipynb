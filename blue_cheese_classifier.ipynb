{
  "nbformat": 4,
  "nbformat_minor": 0,
  "metadata": {
    "colab": {
      "name": "blue_cheese_classifier.ipynb",
      "provenance": [],
      "include_colab_link": true
    },
    "language_info": {
      "name": "python"
    },
    "kernelspec": {
      "name": "python3",
      "display_name": "Python 3"
    },
    "accelerator": "GPU"
  },
  "cells": [
    {
      "cell_type": "markdown",
      "metadata": {
        "id": "view-in-github",
        "colab_type": "text"
      },
      "source": [
        "<a href=\"https://colab.research.google.com/github/Jamnic98/blue-cheese-classifier/blob/main/blue_cheese_classifier.ipynb\" target=\"_parent\"><img src=\"https://colab.research.google.com/assets/colab-badge.svg\" alt=\"Open In Colab\"/></a>"
      ]
    },
    {
      "cell_type": "code",
      "metadata": {
        "id": "sLRp99la-75E",
        "colab": {
          "base_uri": "https://localhost:8080/"
        },
        "outputId": "2c8c19b1-64f7-4d6e-cf10-4e2f24093a86"
      },
      "source": [
        "# import modules\n",
        "import os\n",
        "import numpy as np\n",
        "import shutil.copy\n",
        "import sklearn.metrics as metrics\n",
        "import matplotlib.pyplot as plt\n",
        "from keras.preprocessing.image import ImageDataGenerator, load_img, img_to_array\n",
        "from keras.callbacks import EarlyStopping\n",
        "from keras.models import Sequential\n",
        "from keras.layers import Conv2D\n",
        "from keras.layers import MaxPooling2D\n",
        "from keras.layers import Flatten\n",
        "from keras.layers import Dense\n",
        "from contextlib import redirect_stdout\n",
        "\n",
        "# mount the google drive and change directory\n",
        "from google.colab import drive\n",
        "drive.mount('/content/drive')\n",
        "%cd drive/MyDrive/"
      ],
      "execution_count": null,
      "outputs": [
        {
          "output_type": "stream",
          "text": [
            "Drive already mounted at /content/drive; to attempt to forcibly remount, call drive.mount(\"/content/drive\", force_remount=True).\n",
            "[Errno 2] No such file or directory: 'drive/MyDrive/'\n",
            "/content/drive/MyDrive\n"
          ],
          "name": "stdout"
        }
      ]
    },
    {
      "cell_type": "code",
      "metadata": {
        "id": "iv8dF7s23psO"
      },
      "source": [
        "root_dir = '/content/drive/MyDrive/'\n",
        "class_names = ['blueCheese', 'notBlueCheese']\n",
        "all_cheese_image_dirs = {class_names[0]: [], class_names[1]: []}\n",
        "\n",
        "# create train, test and validation folders for each class of cheese\n",
        "for class_name in class_names:\n",
        "  # create train folder\n",
        "  os.makedirs(root_dir +'data/train/' + class_name)\n",
        "  # create test folder\n",
        "  os.makedirs(root_dir +'data/test/' + class_name)\n",
        "  # create validation folder\n",
        "  os.makedirs(root_dir +'data/val/' + class_name)\n",
        "\n",
        "  # compile a list of URIs for each type of cheese\n",
        "  cheeses = os.listdir(root_dir + class_name)\n",
        "  for cheese_name in cheeses:\n",
        "    cheese_dir = root_dir + class_name + '/' + cheese_name\n",
        "    all_cheese_image_dirs[class_name].extend(\n",
        "      [cheese_dir + '/'+ name for name in os.listdir(cheese_dir)]\n",
        "      )  "
      ],
      "execution_count": null,
      "outputs": []
    },
    {
      "cell_type": "code",
      "metadata": {
        "id": "q2B9aZZ47NGV",
        "colab": {
          "base_uri": "https://localhost:8080/"
        },
        "outputId": "d24e9226-7d72-4387-ab0d-2269a0180ab8"
      },
      "source": [
        "val_ratio = 0.05\n",
        "test_ratio = 0.15\n",
        "\n",
        "for class_name in class_names:\n",
        "  cheese_image_dirs = all_cheese_image_dirs[class_name]\n",
        "\n",
        "  # shuffle image URIs\n",
        "  np.random.shuffle(cheese_image_dirs)\n",
        "\n",
        "  train_FileNames, val_FileNames, test_FileNames = np.split(\n",
        "    np.array(cheese_image_dirs),\n",
        "    [int(len(cheese_image_dirs)* (1 - (val_ratio + test_ratio))), \n",
        "    int(len(cheese_image_dirs)* (1 - test_ratio))]\n",
        "  )\n",
        "\n",
        "  # print('In folder :', class_name)\n",
        "  # print('Total images: ', len(cheese_image_dirs))\n",
        "  # print('Training: ', len(train_FileNames))\n",
        "  # print('Validation: ', len(val_FileNames))\n",
        "  # print('Testing: ', len(test_FileNames))\n",
        "  # print('\\n')\n",
        "\n",
        "  # # Copy-pasting images\n",
        "  # for train_FileName in train_FileNames.tolist():\n",
        "  #   shutil.copy(train_FileName, root_dir +'data/train/' + class_name)\n",
        "\n",
        "  # for val_FileName in val_FileNames.tolist():\n",
        "  #   shutil.copy(val_FileName, root_dir +'data/val/' + class_name)\n",
        "\n",
        "  # for test_FileName in test_FileNames.tolist():\n",
        "  #   shutil.copy(test_FileName, root_dir +'data/test/' + class_name)"
      ],
      "execution_count": null,
      "outputs": [
        {
          "output_type": "stream",
          "text": [
            "In folder : blueCheese\n",
            "Total images:  1896\n",
            "Training:  1611\n",
            "Validation:  95\n",
            "Testing:  190\n",
            "\n",
            "\n",
            "In folder : notBlueCheese\n",
            "Total images:  1848\n",
            "Training:  1570\n",
            "Validation:  93\n",
            "Testing:  185\n",
            "\n",
            "\n"
          ],
          "name": "stdout"
        }
      ]
    },
    {
      "cell_type": "code",
      "metadata": {
        "id": "WDwQv-U2uwmo",
        "colab": {
          "base_uri": "https://localhost:8080/"
        },
        "outputId": "98692751-2485-473b-f181-f08ef1e78b04"
      },
      "source": [
        "augmented_images_dir = root_dir + 'augmented_images/'\n",
        "if not os.path.isdir(augmented_images_dir):\n",
        "  os.mkdir(augmented_images_dir)\n",
        "\n",
        "# augment the data that we have\n",
        "train_datagen = ImageDataGenerator(rescale=1./255,\n",
        "                                   shear_range=0.3,\n",
        "                                   zoom_range=0.3,\n",
        "                                   rotation_range=30,\n",
        "                                   horizontal_flip=True,\n",
        "                                   vertical_flip=True)\n",
        "\n",
        "test_datagen = ImageDataGenerator(rescale=1./255)\n",
        "\n",
        "# prepare training data\n",
        "augmented_train_images_dir = augmented_images_dir + 'train'\n",
        "if not os.path.isdir(augmented_train_images_dir):\n",
        "  os.mkdir(augmented_train_images_dir)\n",
        "training_data = train_datagen.flow_from_directory('data/train',\n",
        "                                                  # save_to_dir=augmented_train_images_dir,\n",
        "                                                  target_size=(256, 256),\n",
        "                                                  batch_size=32,\n",
        "                                                  class_mode='categorical'\n",
        "                                                  )\n",
        "\n",
        "# prepare test data\n",
        "augmented_test_images_dir = augmented_images_dir + 'test'\n",
        "if not os.path.isdir(augmented_test_images_dir):\n",
        "  os.mkdir(augmented_test_images_dir)\n",
        "test_data = test_datagen.flow_from_directory('data/test',\n",
        "                                              # save_to_dir=augmented_test_images_dir,\n",
        "                                              target_size = (256, 256),\n",
        "                                              batch_size = 32,\n",
        "                                              class_mode = 'categorical'\n",
        "                                              )\n",
        "\n",
        "# prepare validation data\n",
        "augmented_val_images_dir = augmented_images_dir + 'val'\n",
        "if not os.path.isdir(augmented_val_images_dir):\n",
        "  os.mkdir(augmented_val_images_dir)\n",
        "validation_data = test_datagen.flow_from_directory('data/val',\n",
        "                                                    # save_to_dir=augmented_val_images_dir,\n",
        "                                                    target_size = (256, 256),\n",
        "                                                    batch_size = 32,\n",
        "                                                    class_mode = 'categorical'\n",
        "                                                    )"
      ],
      "execution_count": null,
      "outputs": [
        {
          "output_type": "stream",
          "text": [
            "Found 2994 images belonging to 2 classes.\n",
            "Found 188 images belonging to 2 classes.\n",
            "Found 562 images belonging to 2 classes.\n"
          ],
          "name": "stdout"
        }
      ]
    },
    {
      "cell_type": "markdown",
      "metadata": {
        "id": "iRLX5u8AvTgL"
      },
      "source": [
        "## Build the model"
      ]
    },
    {
      "cell_type": "code",
      "metadata": {
        "id": "uNw0VHNr1Oam"
      },
      "source": [
        "# Initialising the CNN\n",
        "classifier = Sequential()\n",
        "\n",
        "# Step 1 - Convolution\n",
        "# make 32 feature detectors with a size of 3x3\n",
        "# choose the input-image's format to be 256x256 with 3 channels\n",
        "classifier.add(Conv2D(32, (3, 3), input_shape=(256, 256, 3), activation=\"relu\"))\n",
        "\n",
        "# Step 2 - Pooling\n",
        "classifier.add(MaxPooling2D(pool_size = (2, 2)))\n",
        "\n",
        "# Adding a second convolutional layer\n",
        "classifier.add(Conv2D(64, (3, 3), activation = 'relu'))\n",
        "classifier.add(MaxPooling2D(pool_size = (2, 2)))\n",
        "\n",
        "classifier.add(Conv2D(64, (3, 3), activation = 'relu'))\n",
        "classifier.add(MaxPooling2D(pool_size = (2, 2)))\n",
        "\n",
        "# Step 3 - Flattening\n",
        "classifier.add(Flatten())\n",
        "\n",
        "# Step 4 - Full connection\n",
        "classifier.add(Dense(activation=\"relu\", units=128))\n",
        "classifier.add(Dense(activation=\"softmax\", units=2))\n",
        "\n",
        "# Compiling the CNN\n",
        "classifier.compile(optimizer = 'adam', loss = 'binary_crossentropy', metrics = ['accuracy'])"
      ],
      "execution_count": null,
      "outputs": []
    },
    {
      "cell_type": "markdown",
      "metadata": {
        "id": "o3umvda_2CK7"
      },
      "source": [
        "## Train the model"
      ]
    },
    {
      "cell_type": "code",
      "metadata": {
        "id": "XMC2H2lL1Yno",
        "colab": {
          "base_uri": "https://localhost:8080/"
        },
        "outputId": "3156cb72-f392-4826-da0d-d15b7e97c0d8"
      },
      "source": [
        "history = classifier.fit(training_data,\n",
        "               #steps_per_epoch = (10),\n",
        "               epochs=100,\n",
        "               validation_data=validation_data,\n",
        "               validation_steps=10,\n",
        "               callbacks=[EarlyStopping(monitor='loss', patience=5)])"
      ],
      "execution_count": null,
      "outputs": [
        {
          "output_type": "stream",
          "text": [
            "Epoch 1/100\n",
            " 4/94 [>.............................] - ETA: 1:09 - loss: 1.3678 - accuracy: 0.4004"
          ],
          "name": "stdout"
        },
        {
          "output_type": "stream",
          "text": [
            "/usr/local/lib/python3.7/dist-packages/PIL/Image.py:960: UserWarning: Palette images with Transparency expressed in bytes should be converted to RGBA images\n",
            "  \"Palette images with Transparency expressed in bytes should be \"\n"
          ],
          "name": "stderr"
        },
        {
          "output_type": "stream",
          "text": [
            "93/94 [============================>.] - ETA: 0s - loss: 0.7803 - accuracy: 0.5658"
          ],
          "name": "stdout"
        },
        {
          "output_type": "stream",
          "text": [
            "/usr/local/lib/python3.7/dist-packages/PIL/TiffImagePlugin.py:770: UserWarning: Possibly corrupt EXIF data.  Expecting to read 19 bytes but only got 18. Skipping tag 42036\n",
            "  \" Skipping tag %s\" % (size, len(data), tag)\n"
          ],
          "name": "stderr"
        },
        {
          "output_type": "stream",
          "text": [
            "94/94 [==============================] - 77s 802ms/step - loss: 0.7779 - accuracy: 0.5673 - val_loss: 0.6192 - val_accuracy: 0.6406\n",
            "Epoch 2/100\n",
            "94/94 [==============================] - 75s 796ms/step - loss: 0.5996 - accuracy: 0.6747 - val_loss: 0.5963 - val_accuracy: 0.7219\n",
            "Epoch 3/100\n",
            "94/94 [==============================] - 74s 791ms/step - loss: 0.5751 - accuracy: 0.7143 - val_loss: 0.5553 - val_accuracy: 0.7625\n",
            "Epoch 4/100\n",
            "94/94 [==============================] - 74s 793ms/step - loss: 0.5810 - accuracy: 0.6884 - val_loss: 0.5184 - val_accuracy: 0.7437\n",
            "Epoch 5/100\n",
            "94/94 [==============================] - 75s 794ms/step - loss: 0.5541 - accuracy: 0.7115 - val_loss: 0.5857 - val_accuracy: 0.6562\n",
            "Epoch 6/100\n",
            "94/94 [==============================] - 75s 788ms/step - loss: 0.5563 - accuracy: 0.7153 - val_loss: 0.5162 - val_accuracy: 0.7250\n",
            "Epoch 7/100\n",
            "94/94 [==============================] - 74s 790ms/step - loss: 0.5174 - accuracy: 0.7288 - val_loss: 0.5097 - val_accuracy: 0.7281\n",
            "Epoch 8/100\n",
            "94/94 [==============================] - 74s 793ms/step - loss: 0.4929 - accuracy: 0.7499 - val_loss: 0.5107 - val_accuracy: 0.7281\n",
            "Epoch 9/100\n",
            "94/94 [==============================] - 74s 790ms/step - loss: 0.5005 - accuracy: 0.7504 - val_loss: 0.4888 - val_accuracy: 0.7406\n",
            "Epoch 10/100\n",
            "94/94 [==============================] - 75s 793ms/step - loss: 0.4686 - accuracy: 0.7722 - val_loss: 0.3891 - val_accuracy: 0.8188\n",
            "Epoch 11/100\n",
            "94/94 [==============================] - 75s 801ms/step - loss: 0.3953 - accuracy: 0.8201 - val_loss: 0.4374 - val_accuracy: 0.7750\n",
            "Epoch 12/100\n",
            "94/94 [==============================] - 74s 794ms/step - loss: 0.3889 - accuracy: 0.8133 - val_loss: 0.4897 - val_accuracy: 0.7469\n",
            "Epoch 13/100\n",
            "94/94 [==============================] - 75s 805ms/step - loss: 0.3859 - accuracy: 0.8191 - val_loss: 0.4875 - val_accuracy: 0.7625\n",
            "Epoch 14/100\n",
            "94/94 [==============================] - 74s 786ms/step - loss: 0.3426 - accuracy: 0.8458 - val_loss: 0.4408 - val_accuracy: 0.7906\n",
            "Epoch 15/100\n",
            "94/94 [==============================] - 75s 797ms/step - loss: 0.3493 - accuracy: 0.8514 - val_loss: 0.3278 - val_accuracy: 0.8500\n",
            "Epoch 16/100\n",
            "94/94 [==============================] - 74s 793ms/step - loss: 0.2743 - accuracy: 0.8866 - val_loss: 0.4387 - val_accuracy: 0.7812\n",
            "Epoch 17/100\n",
            "94/94 [==============================] - 76s 805ms/step - loss: 0.2601 - accuracy: 0.8955 - val_loss: 0.3181 - val_accuracy: 0.8562\n",
            "Epoch 18/100\n",
            "94/94 [==============================] - 75s 796ms/step - loss: 0.2387 - accuracy: 0.9020 - val_loss: 0.2890 - val_accuracy: 0.8719\n",
            "Epoch 19/100\n",
            "94/94 [==============================] - 74s 790ms/step - loss: 0.2642 - accuracy: 0.8936 - val_loss: 0.2716 - val_accuracy: 0.8938\n",
            "Epoch 20/100\n",
            "94/94 [==============================] - 75s 795ms/step - loss: 0.2309 - accuracy: 0.9022 - val_loss: 0.2980 - val_accuracy: 0.8750\n",
            "Epoch 21/100\n",
            "94/94 [==============================] - 76s 812ms/step - loss: 0.2177 - accuracy: 0.9160 - val_loss: 0.2727 - val_accuracy: 0.8969\n",
            "Epoch 22/100\n",
            "94/94 [==============================] - 75s 799ms/step - loss: 0.2201 - accuracy: 0.9154 - val_loss: 0.2406 - val_accuracy: 0.9031\n",
            "Epoch 23/100\n",
            "94/94 [==============================] - 74s 792ms/step - loss: 0.2216 - accuracy: 0.9120 - val_loss: 0.2655 - val_accuracy: 0.9031\n",
            "Epoch 24/100\n",
            "94/94 [==============================] - 74s 787ms/step - loss: 0.1920 - accuracy: 0.9242 - val_loss: 0.2812 - val_accuracy: 0.8750\n",
            "Epoch 25/100\n",
            "94/94 [==============================] - 74s 785ms/step - loss: 0.2017 - accuracy: 0.9226 - val_loss: 0.2714 - val_accuracy: 0.9094\n",
            "Epoch 26/100\n",
            "94/94 [==============================] - 76s 808ms/step - loss: 0.2044 - accuracy: 0.9133 - val_loss: 0.2771 - val_accuracy: 0.8938\n",
            "Epoch 27/100\n",
            "94/94 [==============================] - 75s 797ms/step - loss: 0.2089 - accuracy: 0.9189 - val_loss: 0.2327 - val_accuracy: 0.9219\n",
            "Epoch 28/100\n",
            "94/94 [==============================] - 73s 783ms/step - loss: 0.2070 - accuracy: 0.9137 - val_loss: 0.3314 - val_accuracy: 0.8719\n",
            "Epoch 29/100\n",
            "94/94 [==============================] - 75s 792ms/step - loss: 0.1796 - accuracy: 0.9218 - val_loss: 0.2486 - val_accuracy: 0.9156\n",
            "Epoch 30/100\n",
            "94/94 [==============================] - 76s 811ms/step - loss: 0.2021 - accuracy: 0.9172 - val_loss: 0.2519 - val_accuracy: 0.9031\n",
            "Epoch 31/100\n",
            "94/94 [==============================] - 74s 786ms/step - loss: 0.1907 - accuracy: 0.9254 - val_loss: 0.2295 - val_accuracy: 0.9219\n",
            "Epoch 32/100\n",
            "94/94 [==============================] - 74s 791ms/step - loss: 0.1608 - accuracy: 0.9348 - val_loss: 0.2734 - val_accuracy: 0.8969\n",
            "Epoch 33/100\n",
            "94/94 [==============================] - 74s 783ms/step - loss: 0.1723 - accuracy: 0.9265 - val_loss: 0.2993 - val_accuracy: 0.8813\n",
            "Epoch 34/100\n",
            "94/94 [==============================] - 76s 810ms/step - loss: 0.1790 - accuracy: 0.9350 - val_loss: 0.2297 - val_accuracy: 0.9094\n",
            "Epoch 35/100\n",
            "94/94 [==============================] - 74s 785ms/step - loss: 0.1839 - accuracy: 0.9300 - val_loss: 0.2434 - val_accuracy: 0.9156\n",
            "Epoch 36/100\n",
            "94/94 [==============================] - 74s 785ms/step - loss: 0.1582 - accuracy: 0.9470 - val_loss: 0.1926 - val_accuracy: 0.9219\n",
            "Epoch 37/100\n",
            "94/94 [==============================] - 74s 788ms/step - loss: 0.1627 - accuracy: 0.9393 - val_loss: 0.2458 - val_accuracy: 0.9219\n",
            "Epoch 38/100\n",
            "94/94 [==============================] - 74s 783ms/step - loss: 0.1369 - accuracy: 0.9466 - val_loss: 0.1767 - val_accuracy: 0.9250\n",
            "Epoch 39/100\n",
            "94/94 [==============================] - 76s 803ms/step - loss: 0.1376 - accuracy: 0.9483 - val_loss: 0.2747 - val_accuracy: 0.8656\n",
            "Epoch 40/100\n",
            "94/94 [==============================] - 74s 790ms/step - loss: 0.1392 - accuracy: 0.9443 - val_loss: 0.1520 - val_accuracy: 0.9469\n",
            "Epoch 41/100\n",
            "94/94 [==============================] - 73s 777ms/step - loss: 0.1569 - accuracy: 0.9411 - val_loss: 0.2260 - val_accuracy: 0.9094\n",
            "Epoch 42/100\n",
            "94/94 [==============================] - 73s 782ms/step - loss: 0.1344 - accuracy: 0.9467 - val_loss: 0.2366 - val_accuracy: 0.9094\n",
            "Epoch 43/100\n",
            "94/94 [==============================] - 76s 808ms/step - loss: 0.1398 - accuracy: 0.9456 - val_loss: 0.2467 - val_accuracy: 0.8781\n",
            "Epoch 44/100\n",
            "94/94 [==============================] - 74s 784ms/step - loss: 0.1294 - accuracy: 0.9504 - val_loss: 0.2356 - val_accuracy: 0.9062\n",
            "Epoch 45/100\n",
            "94/94 [==============================] - 74s 785ms/step - loss: 0.1247 - accuracy: 0.9511 - val_loss: 0.1700 - val_accuracy: 0.9375\n",
            "Epoch 46/100\n",
            "94/94 [==============================] - 74s 790ms/step - loss: 0.1345 - accuracy: 0.9536 - val_loss: 0.1805 - val_accuracy: 0.9344\n",
            "Epoch 47/100\n",
            "94/94 [==============================] - 75s 800ms/step - loss: 0.1436 - accuracy: 0.9432 - val_loss: 0.2412 - val_accuracy: 0.9156\n",
            "Epoch 48/100\n",
            "94/94 [==============================] - 76s 804ms/step - loss: 0.1144 - accuracy: 0.9591 - val_loss: 0.1761 - val_accuracy: 0.9344\n",
            "Epoch 49/100\n",
            "94/94 [==============================] - 74s 783ms/step - loss: 0.1154 - accuracy: 0.9602 - val_loss: 0.2135 - val_accuracy: 0.9250\n",
            "Epoch 50/100\n",
            "94/94 [==============================] - 74s 786ms/step - loss: 0.1247 - accuracy: 0.9534 - val_loss: 0.2640 - val_accuracy: 0.9187\n",
            "Epoch 51/100\n",
            "94/94 [==============================] - 74s 791ms/step - loss: 0.1250 - accuracy: 0.9529 - val_loss: 0.2625 - val_accuracy: 0.9094\n",
            "Epoch 52/100\n",
            "94/94 [==============================] - 75s 795ms/step - loss: 0.1000 - accuracy: 0.9659 - val_loss: 0.3545 - val_accuracy: 0.9156\n",
            "Epoch 53/100\n",
            "94/94 [==============================] - 74s 792ms/step - loss: 0.1210 - accuracy: 0.9566 - val_loss: 0.2214 - val_accuracy: 0.9250\n",
            "Epoch 54/100\n",
            "94/94 [==============================] - 74s 786ms/step - loss: 0.1114 - accuracy: 0.9573 - val_loss: 0.1527 - val_accuracy: 0.9406\n",
            "Epoch 55/100\n",
            "94/94 [==============================] - 75s 797ms/step - loss: 0.1517 - accuracy: 0.9442 - val_loss: 0.1901 - val_accuracy: 0.9219\n",
            "Epoch 56/100\n",
            "94/94 [==============================] - 74s 793ms/step - loss: 0.1360 - accuracy: 0.9513 - val_loss: 0.2118 - val_accuracy: 0.9000\n",
            "Epoch 57/100\n",
            "94/94 [==============================] - 75s 797ms/step - loss: 0.1176 - accuracy: 0.9501 - val_loss: 0.1549 - val_accuracy: 0.9312\n"
          ],
          "name": "stdout"
        }
      ]
    },
    {
      "cell_type": "code",
      "metadata": {
        "id": "l_2pHjyq1wRu",
        "colab": {
          "base_uri": "https://localhost:8080/"
        },
        "outputId": "311eafb4-8236-4973-fe79-9abd8a324d3a"
      },
      "source": [
        "generator= train_datagen.flow_from_directory(\"data/train\", batch_size=32)\n",
        "label_map = (generator.class_indices)\n",
        "label_map"
      ],
      "execution_count": null,
      "outputs": [
        {
          "output_type": "stream",
          "text": [
            "Found 2994 images belonging to 2 classes.\n"
          ],
          "name": "stdout"
        },
        {
          "output_type": "execute_result",
          "data": {
            "text/plain": [
              "{'blueCheese': 0, 'notBlueCheese': 1}"
            ]
          },
          "metadata": {
            "tags": []
          },
          "execution_count": 25
        }
      ]
    },
    {
      "cell_type": "code",
      "metadata": {
        "id": "D9EqY_wnMOZM"
      },
      "source": [
        "# from tensorflow import keras\n",
        "# classifier = keras.models.load_model(root_dir + 'my_model')"
      ],
      "execution_count": null,
      "outputs": []
    },
    {
      "cell_type": "code",
      "metadata": {
        "id": "Opy0uqfQ2R9g",
        "colab": {
          "base_uri": "https://localhost:8080/"
        },
        "outputId": "419de1e2-f12f-45ce-fcc7-9216e9701a29"
      },
      "source": [
        "## make predictions\n",
        "\n",
        "# resize image\n",
        "test_image = load_img('data/test/notBlueCheese/red_leicester101.jpg', target_size = (256, 256))\n",
        "test_image = img_to_array(test_image)\n",
        "test_image = np.expand_dims(test_image, axis = 0)\n",
        "result = classifier.predict(test_image)\n",
        "print('Predicted class: ', int(result[0][0]))\n",
        "# print(result)\n",
        "\n",
        "predictions = classifier.predict(test_data)\n",
        "# print(predictions)\n",
        "# Get most likely class\n",
        "predicted_classes = np.argmax(predictions, axis=1)\n",
        "\n",
        "true_classes = test_data.classes\n",
        "class_labels = list(test_data.class_indices.keys())\n",
        "\n",
        "report = metrics.classification_report(true_classes, predicted_classes, target_names=class_labels)\n",
        "# print(report)\n",
        "\n",
        "confusion_matrix = metrics.confusion_matrix(y_true=true_classes, y_pred=predicted_classes)\n",
        "confusion_matrix"
      ],
      "execution_count": null,
      "outputs": [
        {
          "output_type": "stream",
          "text": [
            "Predicted class:  0\n"
          ],
          "name": "stdout"
        },
        {
          "output_type": "stream",
          "text": [
            "/usr/local/lib/python3.7/dist-packages/PIL/Image.py:960: UserWarning: Palette images with Transparency expressed in bytes should be converted to RGBA images\n",
            "  \"Palette images with Transparency expressed in bytes should be \"\n"
          ],
          "name": "stderr"
        },
        {
          "output_type": "execute_result",
          "data": {
            "text/plain": [
              "array([[41, 54],\n",
              "       [49, 44]])"
            ]
          },
          "metadata": {
            "tags": []
          },
          "execution_count": 36
        }
      ]
    },
    {
      "cell_type": "code",
      "metadata": {
        "id": "2YCuMf6aIxts",
        "colab": {
          "base_uri": "https://localhost:8080/",
          "height": 350
        },
        "outputId": "9abdc2ef-292a-4147-a456-e00fb411e8a9"
      },
      "source": [
        "test_loss, test_acc = classifier.evaluate(test_data, verbose=2)\n",
        "plt.plot(history.history['accuracy'], label='accuracy')\n",
        "plt.plot(history.history['val_accuracy'], label = 'val_accuracy')\n",
        "plt.xlabel('Epoch')\n",
        "plt.ylabel('Accuracy')\n",
        "plt.ylim([0.5, 1])\n",
        "plt.legend(loc='lower right')\n",
        "\n",
        "print('Accuracy: ', test_acc)"
      ],
      "execution_count": null,
      "outputs": [
        {
          "output_type": "stream",
          "text": [
            "/usr/local/lib/python3.7/dist-packages/PIL/Image.py:960: UserWarning: Palette images with Transparency expressed in bytes should be converted to RGBA images\n",
            "  \"Palette images with Transparency expressed in bytes should be \"\n"
          ],
          "name": "stderr"
        },
        {
          "output_type": "stream",
          "text": [
            "6/6 - 2s - loss: 0.2158 - accuracy: 0.9202\n",
            "Accuracy:  0.9202127456665039\n"
          ],
          "name": "stdout"
        },
        {
          "output_type": "display_data",
          "data": {
            "image/png": "[encoded data removed]",
            "text/plain": [
              "<Figure size 432x288 with 1 Axes>"
            ]
          },
          "metadata": {
            "tags": [],
            "needs_background": "light"
          }
        }
      ]
    },
    {
      "cell_type": "code",
      "metadata": {
        "id": "SPGYg3WzSYGK",
        "colab": {
          "base_uri": "https://localhost:8080/"
        },
        "outputId": "eb573b56-79dc-4570-892f-d24a1952812a"
      },
      "source": [
        "model_name = 'my_model5'\n",
        "model_dir = root_dir + model_name\n",
        "os.mkdirs(model_dir)\n",
        "\n",
        "with open(f'{model_dir}/{model_name}.txt', 'w') as file:\n",
        "    with redirect_stdout(file):\n",
        "        classifier.summary()\n",
        "\n",
        "test_loss, test_acc = classifier.evaluate(test_data, verbose=2)\n",
        "with open(f'{model_dir}/{model_name}.txt', 'a') as file:\n",
        "  file.write(f'\\nAccuracy: {test_acc}')\n",
        "  file.write(f'\\nReport\\n: {report}')\n",
        "  file.write(f'\\nConfusion Matrix\\n: {confusion_matrix}')\n",
        "  \n",
        "\n",
        "\n",
        "classifier.save(model_dir)"
      ],
      "execution_count": null,
      "outputs": [
        {
          "output_type": "stream",
          "text": [
            "/usr/local/lib/python3.7/dist-packages/PIL/Image.py:960: UserWarning: Palette images with Transparency expressed in bytes should be converted to RGBA images\n",
            "  \"Palette images with Transparency expressed in bytes should be \"\n"
          ],
          "name": "stderr"
        },
        {
          "output_type": "stream",
          "text": [
            "6/6 - 2s - loss: 0.2158 - accuracy: 0.9202\n",
            "INFO:tensorflow:Assets written to: /content/drive/MyDrive/my_model5/assets\n"
          ],
          "name": "stdout"
        }
      ]
    }
  ]
}