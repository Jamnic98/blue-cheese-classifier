{
  "nbformat": 4,
  "nbformat_minor": 0,
  "metadata": {
    "colab": {
      "name": "blue_cheese_classifier.ipynb",
      "provenance": [],
      "include_colab_link": true
    },
    "language_info": {
      "name": "python"
    },
    "kernelspec": {
      "name": "python3",
      "display_name": "Python 3"
    },
    "accelerator": "GPU"
  },
  "cells": [
    {
      "cell_type": "markdown",
      "metadata": {
        "id": "view-in-github",
        "colab_type": "text"
      },
      "source": [
        "<a href=\"https://colab.research.google.com/github/Jamnic98/blue-cheese-classifier/blob/main/blue_cheese_classifier.ipynb\" target=\"_parent\"><img src=\"https://colab.research.google.com/assets/colab-badge.svg\" alt=\"Open In Colab\"/></a>"
      ]
    },
    {
      "cell_type": "markdown",
      "metadata": {
        "id": "rZFY0P2bK-Rw"
      },
      "source": [
        "## Import modules, mount the google drive and establish constants"
      ]
    },
    {
      "cell_type": "code",
      "metadata": {
        "id": "sLRp99la-75E",
        "colab": {
          "base_uri": "https://localhost:8080/"
        },
        "outputId": "2f32a072-9318-49da-de09-0481950ee267"
      },
      "source": [
        "# import modules\n",
        "import os\n",
        "import numpy as np\n",
        "import shutil\n",
        "import sklearn.metrics as metrics\n",
        "import matplotlib.pyplot as plt\n",
        "from keras.preprocessing.image import ImageDataGenerator, load_img, img_to_array\n",
        "from keras.callbacks import EarlyStopping\n",
        "from keras.models import Sequential\n",
        "from keras.layers import Conv2D\n",
        "from keras.layers import MaxPooling2D\n",
        "from keras.layers import Flatten\n",
        "from keras.layers import Dense\n",
        "from contextlib import redirect_stdout\n",
        "\n",
        "# mount the google drive and change directory\n",
        "from google.colab import drive\n",
        "drive.mount('/content/drive')\n",
        "%cd drive/MyDrive/\n",
        "\n",
        "# constants\n",
        "VAL_RATIO = 0.05\n",
        "TEST_RATIO = 0.10\n",
        "ROOT_DIR = '/content/drive/MyDrive/'\n",
        "CLASS_NAMES = ['blueCheese', 'notBlueCheese']"
      ],
      "execution_count": 20,
      "outputs": [
        {
          "output_type": "stream",
          "text": [
            "Drive already mounted at /content/drive; to attempt to forcibly remount, call drive.mount(\"/content/drive\", force_remount=True).\n",
            "[Errno 2] No such file or directory: 'drive/MyDrive/'\n",
            "/content/drive/MyDrive\n"
          ],
          "name": "stdout"
        }
      ]
    },
    {
      "cell_type": "markdown",
      "metadata": {
        "id": "h5VHWKSYVQQX"
      },
      "source": [
        "## Split images into train, test and validation folders"
      ]
    },
    {
      "cell_type": "code",
      "metadata": {
        "id": "iv8dF7s23psO"
      },
      "source": [
        "data_dir = ROOT_DIR +'data/'\n",
        "if not os.path.isdir(data_dir):\n",
        "    os.mkdir(data_dir)\n",
        "\n",
        "for class_name in CLASS_NAMES:\n",
        "  # create train folders\n",
        "  train_dir = data_dir + 'train/'\n",
        "  if not os.path.isdir(train_dir):\n",
        "    os.mkdir(train_dir)\n",
        "  class_train_dir = train_dir + class_name\n",
        "  if not os.path.isdir(class_train_dir):\n",
        "    os.mkdir(class_train_dir)\n",
        "  # create test folders\n",
        "  test_dir = data_dir + 'test/'\n",
        "  if not os.path.isdir(test_dir):\n",
        "    os.mkdir(test_dir)\n",
        "  class_test_dir = test_dir + class_name\n",
        "  if not os.path.isdir(class_test_dir):\n",
        "    os.mkdir(class_test_dir)\n",
        "  # create validation folders\n",
        "  val_dir = data_dir + 'val/'\n",
        "  if not os.path.isdir(val_dir):\n",
        "    os.mkdir(val_dir)\n",
        "  class_val_dir = val_dir + class_name\n",
        "  if not os.path.isdir(class_val_dir):\n",
        "    os.mkdir(class_val_dir)\n",
        "\n",
        "  image_URIs = []\n",
        "  # compile a complete list of image URIs\n",
        "  cheese_names = os.listdir(ROOT_DIR + class_name)\n",
        "  for cheese_name in cheese_names:\n",
        "    cheese_dir = ROOT_DIR + 'cheeses/' + class_name + '/'\n",
        "    image_URIs.extend(\n",
        "      [cheese_dir + cheese_image for cheese_image in os.listdir(cheese_dir)]\n",
        "    )\n",
        "\n",
        "  # shuffle image URIs\n",
        "  np.random.shuffle(image_URIs)\n",
        "\n",
        "  # split the data into train, test and validation sets\n",
        "  train_URIs, test_URIs, val_URIs = np.split(\n",
        "    np.array(image_URIs),\n",
        "    [int(len(image_URIs)* (1 - (VAL_RATIO + TEST_RATIO))), \n",
        "    int(len(image_URIs)* (1 - VAL_RATIO))]\n",
        "  )\n",
        "\n",
        "  # # Copy-pasting images\n",
        "  # for train_FileName in train_URIs.tolist():\n",
        "  #   shutil.copy(train_FileName, class_train_dir)\n",
        "  # for test_FileName in test_URIs.tolist():\n",
        "  #   shutil.copy(test_FileName, class_test_dir)\n",
        "  # for val_FileName in val_URIs.tolist():\n",
        "  #   shutil.copy(val_FileName, class_val_dir)\n"
      ],
      "execution_count": 12,
      "outputs": []
    },
    {
      "cell_type": "markdown",
      "metadata": {
        "id": "racVhw4gVLbh"
      },
      "source": [
        "## Generate augmented images and prepare training, testing and validation data"
      ]
    },
    {
      "cell_type": "code",
      "metadata": {
        "id": "WDwQv-U2uwmo",
        "colab": {
          "base_uri": "https://localhost:8080/"
        },
        "outputId": "493cc4f3-d68d-4043-d641-8ef2c7c1c3b0"
      },
      "source": [
        "augmented_images_dir = ROOT_DIR + 'augmented_images/'\n",
        "if not os.path.isdir(augmented_images_dir):\n",
        "  os.mkdir(augmented_images_dir)\n",
        "\n",
        "# augment the data that we have\n",
        "train_datagen = ImageDataGenerator(rescale=1./255,\n",
        "                                   shear_range=0.1,\n",
        "                                   zoom_range=0.1,\n",
        "                                   rotation_range=15)\n",
        "\n",
        "test_datagen = ImageDataGenerator(rescale=1./255)\n",
        "\n",
        "# prepare training data\n",
        "augmented_train_images_dir = augmented_images_dir + 'train/'\n",
        "if not os.path.isdir(augmented_train_images_dir):\n",
        "  os.mkdir(augmented_train_images_dir)\n",
        "training_data = train_datagen.flow_from_directory('data/train',\n",
        "                                                  # save_to_dir=augmented_train_images_dir,\n",
        "                                                  target_size=(256, 256),\n",
        "                                                  batch_size=32,\n",
        "                                                  class_mode='categorical'\n",
        "                                                  )\n",
        "\n",
        "# prepare test data\n",
        "augmented_test_images_dir = augmented_images_dir + 'test/'\n",
        "if not os.path.isdir(augmented_test_images_dir):\n",
        "  os.mkdir(augmented_test_images_dir)\n",
        "test_data = test_datagen.flow_from_directory('data/test',\n",
        "                                              # save_to_dir=augmented_test_images_dir,\n",
        "                                              target_size = (256, 256),\n",
        "                                              batch_size = 32,\n",
        "                                              class_mode = 'categorical'\n",
        "                                              )\n",
        "\n",
        "# prepare validation data\n",
        "augmented_val_images_dir = augmented_images_dir + 'val/'\n",
        "if not os.path.isdir(augmented_val_images_dir):\n",
        "  os.mkdir(augmented_val_images_dir)\n",
        "validation_data = test_datagen.flow_from_directory('data/val',\n",
        "                                                    # save_to_dir=augmented_val_images_dir,\n",
        "                                                    target_size = (256, 256),\n",
        "                                                    batch_size = 32,\n",
        "                                                    class_mode = 'categorical'\n",
        "                                                    )"
      ],
      "execution_count": 21,
      "outputs": [
        {
          "output_type": "stream",
          "text": [
            "Found 1206 images belonging to 2 classes.\n",
            "Found 776 images belonging to 2 classes.\n",
            "Found 476 images belonging to 2 classes.\n"
          ],
          "name": "stdout"
        }
      ]
    },
    {
      "cell_type": "markdown",
      "metadata": {
        "id": "iRLX5u8AvTgL"
      },
      "source": [
        "## Build the model"
      ]
    },
    {
      "cell_type": "code",
      "metadata": {
        "id": "uNw0VHNr1Oam"
      },
      "source": [
        "# Initialising the CNN\n",
        "classifier = Sequential()\n",
        "\n",
        "# Step 1 - Convolution\n",
        "# make 32 feature detectors with a size of 3x3\n",
        "# choose the input-image's format to be 256x256 with 3 channels\n",
        "classifier.add(Conv2D(32, (3, 3), input_shape=(256, 256, 3), activation=\"relu\"))\n",
        "\n",
        "# Step 2 - Pooling\n",
        "classifier.add(MaxPooling2D(pool_size=(2, 2)))\n",
        "\n",
        "# Adding a second convolutional layer\n",
        "classifier.add(Conv2D(64, (3, 3), activation='relu'))\n",
        "classifier.add(MaxPooling2D(pool_size=(2, 2)))\n",
        "\n",
        "classifier.add(Conv2D(128, (3, 3), activation='relu'))\n",
        "classifier.add(MaxPooling2D(pool_size=(2, 2)))\n",
        "\n",
        "# Step 3 - Flattening\n",
        "classifier.add(Flatten())\n",
        "\n",
        "# Step 4 - Full connection\n",
        "classifier.add(Dense(activation=\"relu\", units=128))\n",
        "classifier.add(Dense(activation=\"softmax\", units=2))\n",
        "\n",
        "# Compiling the CNN\n",
        "classifier.compile(optimizer='adam', loss='binary_crossentropy', metrics=['accuracy'])"
      ],
      "execution_count": 22,
      "outputs": []
    },
    {
      "cell_type": "markdown",
      "metadata": {
        "id": "o3umvda_2CK7"
      },
      "source": [
        "## Train the model"
      ]
    },
    {
      "cell_type": "code",
      "metadata": {
        "id": "XMC2H2lL1Yno",
        "colab": {
          "base_uri": "https://localhost:8080/"
        },
        "outputId": "17a05463-9a3b-44f5-9b8b-fa37c2d20971"
      },
      "source": [
        "history = classifier.fit(training_data,\n",
        "               #steps_per_epoch = (10),\n",
        "               epochs=200,\n",
        "               validation_data=validation_data,\n",
        "               validation_steps=10,\n",
        "               callbacks=[EarlyStopping(monitor='loss', patience=5)])"
      ],
      "execution_count": 23,
      "outputs": [
        {
          "output_type": "stream",
          "text": [
            "Epoch 1/200\n",
            "38/38 [==============================] - 24s 591ms/step - loss: 0.9652 - accuracy: 0.5288 - val_loss: 0.6442 - val_accuracy: 0.6281\n",
            "Epoch 2/200\n",
            "38/38 [==============================] - 22s 571ms/step - loss: 0.6247 - accuracy: 0.6407 - val_loss: 0.5725 - val_accuracy: 0.6687\n",
            "Epoch 3/200\n",
            "38/38 [==============================] - 22s 572ms/step - loss: 0.5734 - accuracy: 0.6823 - val_loss: 0.5532 - val_accuracy: 0.6687\n",
            "Epoch 4/200\n",
            "38/38 [==============================] - 22s 573ms/step - loss: 0.5594 - accuracy: 0.6940 - val_loss: 0.4668 - val_accuracy: 0.7812\n",
            "Epoch 5/200\n",
            "38/38 [==============================] - 22s 570ms/step - loss: 0.5051 - accuracy: 0.7676 - val_loss: 0.4579 - val_accuracy: 0.7750\n",
            "Epoch 6/200\n",
            "38/38 [==============================] - 22s 574ms/step - loss: 0.4535 - accuracy: 0.7982 - val_loss: 0.4404 - val_accuracy: 0.8000\n",
            "Epoch 7/200\n",
            "38/38 [==============================] - 22s 576ms/step - loss: 0.4360 - accuracy: 0.8068 - val_loss: 0.3348 - val_accuracy: 0.8500\n",
            "Epoch 8/200\n",
            "38/38 [==============================] - 22s 571ms/step - loss: 0.4178 - accuracy: 0.8102 - val_loss: 0.4058 - val_accuracy: 0.7906\n",
            "Epoch 9/200\n",
            "38/38 [==============================] - 22s 574ms/step - loss: 0.4122 - accuracy: 0.8169 - val_loss: 0.3739 - val_accuracy: 0.8313\n",
            "Epoch 10/200\n",
            "38/38 [==============================] - 22s 580ms/step - loss: 0.3563 - accuracy: 0.8548 - val_loss: 0.2965 - val_accuracy: 0.8687\n",
            "Epoch 11/200\n",
            "38/38 [==============================] - 22s 573ms/step - loss: 0.3352 - accuracy: 0.8409 - val_loss: 0.2604 - val_accuracy: 0.8844\n",
            "Epoch 12/200\n",
            "38/38 [==============================] - 22s 572ms/step - loss: 0.3089 - accuracy: 0.8502 - val_loss: 0.2692 - val_accuracy: 0.8719\n",
            "Epoch 13/200\n",
            "38/38 [==============================] - 22s 575ms/step - loss: 0.2461 - accuracy: 0.9024 - val_loss: 0.1894 - val_accuracy: 0.9125\n",
            "Epoch 14/200\n",
            "38/38 [==============================] - 22s 576ms/step - loss: 0.2337 - accuracy: 0.9061 - val_loss: 0.1656 - val_accuracy: 0.9312\n",
            "Epoch 15/200\n",
            "38/38 [==============================] - 22s 571ms/step - loss: 0.2044 - accuracy: 0.9090 - val_loss: 0.1436 - val_accuracy: 0.9469\n",
            "Epoch 16/200\n",
            "38/38 [==============================] - 22s 566ms/step - loss: 0.1918 - accuracy: 0.9194 - val_loss: 0.1564 - val_accuracy: 0.9500\n",
            "Epoch 17/200\n",
            "38/38 [==============================] - 22s 576ms/step - loss: 0.1598 - accuracy: 0.9440 - val_loss: 0.1705 - val_accuracy: 0.9187\n",
            "Epoch 18/200\n",
            "38/38 [==============================] - 22s 584ms/step - loss: 0.1451 - accuracy: 0.9447 - val_loss: 0.1355 - val_accuracy: 0.9500\n",
            "Epoch 19/200\n",
            "38/38 [==============================] - 22s 585ms/step - loss: 0.1935 - accuracy: 0.9251 - val_loss: 0.1040 - val_accuracy: 0.9656\n",
            "Epoch 20/200\n",
            "38/38 [==============================] - 22s 585ms/step - loss: 0.1272 - accuracy: 0.9514 - val_loss: 0.1748 - val_accuracy: 0.9156\n",
            "Epoch 21/200\n",
            "38/38 [==============================] - 22s 580ms/step - loss: 0.1535 - accuracy: 0.9416 - val_loss: 0.1232 - val_accuracy: 0.9500\n",
            "Epoch 22/200\n",
            "38/38 [==============================] - 22s 585ms/step - loss: 0.1440 - accuracy: 0.9448 - val_loss: 0.0955 - val_accuracy: 0.9656\n",
            "Epoch 23/200\n",
            "38/38 [==============================] - 22s 576ms/step - loss: 0.1334 - accuracy: 0.9574 - val_loss: 0.0940 - val_accuracy: 0.9688\n",
            "Epoch 24/200\n",
            "38/38 [==============================] - 22s 574ms/step - loss: 0.1297 - accuracy: 0.9522 - val_loss: 0.0807 - val_accuracy: 0.9719\n",
            "Epoch 25/200\n",
            "38/38 [==============================] - 22s 579ms/step - loss: 0.1194 - accuracy: 0.9539 - val_loss: 0.0509 - val_accuracy: 0.9875\n",
            "Epoch 26/200\n",
            "38/38 [==============================] - 22s 581ms/step - loss: 0.0776 - accuracy: 0.9742 - val_loss: 0.0967 - val_accuracy: 0.9688\n",
            "Epoch 27/200\n",
            "38/38 [==============================] - 22s 577ms/step - loss: 0.0919 - accuracy: 0.9609 - val_loss: 0.1084 - val_accuracy: 0.9531\n",
            "Epoch 28/200\n",
            "38/38 [==============================] - 22s 583ms/step - loss: 0.1146 - accuracy: 0.9565 - val_loss: 0.0680 - val_accuracy: 0.9750\n",
            "Epoch 29/200\n",
            "38/38 [==============================] - 22s 574ms/step - loss: 0.1086 - accuracy: 0.9618 - val_loss: 0.1084 - val_accuracy: 0.9531\n",
            "Epoch 30/200\n",
            "38/38 [==============================] - 22s 586ms/step - loss: 0.0873 - accuracy: 0.9687 - val_loss: 0.0421 - val_accuracy: 0.9875\n",
            "Epoch 31/200\n",
            "38/38 [==============================] - 22s 582ms/step - loss: 0.0880 - accuracy: 0.9623 - val_loss: 0.0657 - val_accuracy: 0.9719\n",
            "Epoch 32/200\n",
            "38/38 [==============================] - 22s 579ms/step - loss: 0.1219 - accuracy: 0.9634 - val_loss: 0.0515 - val_accuracy: 0.9875\n",
            "Epoch 33/200\n",
            "38/38 [==============================] - 22s 582ms/step - loss: 0.0617 - accuracy: 0.9731 - val_loss: 0.0859 - val_accuracy: 0.9625\n",
            "Epoch 34/200\n",
            "38/38 [==============================] - 22s 584ms/step - loss: 0.0894 - accuracy: 0.9669 - val_loss: 0.0533 - val_accuracy: 0.9875\n",
            "Epoch 35/200\n",
            "38/38 [==============================] - 22s 580ms/step - loss: 0.0599 - accuracy: 0.9845 - val_loss: 0.0243 - val_accuracy: 0.9937\n",
            "Epoch 36/200\n",
            "38/38 [==============================] - 22s 579ms/step - loss: 0.0610 - accuracy: 0.9793 - val_loss: 0.0572 - val_accuracy: 0.9844\n",
            "Epoch 37/200\n",
            "38/38 [==============================] - 22s 578ms/step - loss: 0.0759 - accuracy: 0.9734 - val_loss: 0.0420 - val_accuracy: 0.9937\n",
            "Epoch 38/200\n",
            "38/38 [==============================] - 22s 586ms/step - loss: 0.0602 - accuracy: 0.9866 - val_loss: 0.0414 - val_accuracy: 0.9844\n",
            "Epoch 39/200\n",
            "38/38 [==============================] - 22s 584ms/step - loss: 0.0678 - accuracy: 0.9769 - val_loss: 0.0251 - val_accuracy: 0.9906\n",
            "Epoch 40/200\n",
            "38/38 [==============================] - 22s 587ms/step - loss: 0.0483 - accuracy: 0.9843 - val_loss: 0.0144 - val_accuracy: 0.9969\n",
            "Epoch 41/200\n",
            "38/38 [==============================] - 22s 584ms/step - loss: 0.0435 - accuracy: 0.9878 - val_loss: 0.0158 - val_accuracy: 0.9969\n",
            "Epoch 42/200\n",
            "38/38 [==============================] - 22s 583ms/step - loss: 0.0517 - accuracy: 0.9821 - val_loss: 0.0362 - val_accuracy: 0.9875\n",
            "Epoch 43/200\n",
            "38/38 [==============================] - 22s 583ms/step - loss: 0.0398 - accuracy: 0.9880 - val_loss: 0.0443 - val_accuracy: 0.9875\n",
            "Epoch 44/200\n",
            "38/38 [==============================] - 22s 584ms/step - loss: 0.0444 - accuracy: 0.9856 - val_loss: 0.0302 - val_accuracy: 0.9937\n",
            "Epoch 45/200\n",
            "38/38 [==============================] - 22s 584ms/step - loss: 0.0334 - accuracy: 0.9898 - val_loss: 0.0358 - val_accuracy: 0.9875\n"
          ],
          "name": "stdout"
        }
      ]
    },
    {
      "cell_type": "markdown",
      "metadata": {
        "id": "gqrJ0LjrWYAF"
      },
      "source": [
        "## Load a previously trained model"
      ]
    },
    {
      "cell_type": "code",
      "metadata": {
        "id": "D9EqY_wnMOZM"
      },
      "source": [
        "# from tensorflow import keras\n",
        "# classifier = keras.models.load_model(ROOT_DIR + 'my_model14')"
      ],
      "execution_count": 16,
      "outputs": []
    },
    {
      "cell_type": "markdown",
      "metadata": {
        "id": "g5wEvevdWdfW"
      },
      "source": [
        "## Make predictions"
      ]
    },
    {
      "cell_type": "code",
      "metadata": {
        "id": "Opy0uqfQ2R9g",
        "colab": {
          "base_uri": "https://localhost:8080/"
        },
        "outputId": "bc2472fe-b9e9-483d-d47a-939a9a0f3abf"
      },
      "source": [
        "# resize image\n",
        "test_image = load_img('cheeses/notBlueCheese/brie137.jpg', target_size = (256, 256))\n",
        "test_image = img_to_array(test_image)\n",
        "test_image = np.expand_dims(test_image, axis = 0)\n",
        "result = classifier.predict(test_image)\n",
        "print('Predicted class: ', int(result[0][0]))\n",
        "\n",
        "predictions = classifier.predict(test_data)\n",
        "predicted_classes = np.argmax(predictions, axis=1)\n",
        "\n",
        "true_classes = test_data.classes\n",
        "class_labels = list(test_data.class_indices.keys())\n",
        "\n",
        "report = metrics.classification_report(true_classes, predicted_classes, target_names=class_labels)\n",
        "print(report)\n",
        "\n",
        "confusion_matrix = metrics.confusion_matrix(y_true=true_classes, y_pred=predicted_classes)\n",
        "confusion_matrix"
      ],
      "execution_count": 29,
      "outputs": [
        {
          "output_type": "stream",
          "text": [
            "Predicted class:  0\n",
            "               precision    recall  f1-score   support\n",
            "\n",
            "   blueCheese       0.56      0.55      0.56       413\n",
            "notBlueCheese       0.50      0.51      0.50       363\n",
            "\n",
            "     accuracy                           0.53       776\n",
            "    macro avg       0.53      0.53      0.53       776\n",
            " weighted avg       0.53      0.53      0.53       776\n",
            "\n"
          ],
          "name": "stdout"
        },
        {
          "output_type": "execute_result",
          "data": {
            "text/plain": [
              "array([[229, 184],\n",
              "       [179, 184]])"
            ]
          },
          "metadata": {
            "tags": []
          },
          "execution_count": 29
        }
      ]
    },
    {
      "cell_type": "code",
      "metadata": {
        "id": "2YCuMf6aIxts",
        "colab": {
          "base_uri": "https://localhost:8080/",
          "height": 317
        },
        "outputId": "68761d78-1360-4a1a-b21d-a63d706158c3"
      },
      "source": [
        "test_loss, test_acc = classifier.evaluate(test_data, verbose=2)\n",
        "plt.plot(history.history['accuracy'], label='accuracy')\n",
        "plt.plot(history.history['val_accuracy'], label = 'val_accuracy')\n",
        "plt.xlabel('Epoch')\n",
        "plt.ylabel('Accuracy')\n",
        "plt.ylim([0.5, 1])\n",
        "plt.legend(loc='lower right')\n",
        "\n",
        "print('Accuracy: ', test_acc)"
      ],
      "execution_count": 18,
      "outputs": [
        {
          "output_type": "stream",
          "text": [
            "25/25 - 3s - loss: 0.1849 - accuracy: 0.9317\n",
            "Accuracy:  0.9317010045051575\n"
          ],
          "name": "stdout"
        },
        {
          "output_type": "display_data",
          "data": {
            "image/png": "[encoded data removed]",
            "text/plain": [
              "<Figure size 432x288 with 1 Axes>"
            ]
          },
          "metadata": {
            "tags": [],
            "needs_background": "light"
          }
        }
      ]
    },
    {
      "cell_type": "markdown",
      "metadata": {
        "id": "M_juV7qmWO8v"
      },
      "source": [
        "## Save the model"
      ]
    },
    {
      "cell_type": "code",
      "metadata": {
        "id": "SPGYg3WzSYGK",
        "colab": {
          "base_uri": "https://localhost:8080/"
        },
        "outputId": "559653a3-5127-4f8c-8a0f-7922fed6950c"
      },
      "source": [
        "model_name = 'my_model15'\n",
        "model_dir = ROOT_DIR + model_name + '/'\n",
        "if not os.path.isdir(model_dir):\n",
        "  os.mkdir(model_dir)\n",
        "\n",
        "with open(f'{model_dir}/{model_name}.txt', 'w') as file:\n",
        "    with redirect_stdout(file):\n",
        "        classifier.summary()\n",
        "\n",
        "test_loss, test_acc = classifier.evaluate(test_data, verbose=2)\n",
        "with open(f'{model_dir}/{model_name}.txt', 'a') as file:\n",
        "  file.write(f'\\nAccuracy: {test_acc}')\n",
        "  file.write(f'\\nReport\\n: {report}')\n",
        "  file.write(f'\\nConfusion Matrix\\n: {confusion_matrix}')\n",
        "  \n",
        "classifier.save(model_dir)"
      ],
      "execution_count": 30,
      "outputs": [
        {
          "output_type": "stream",
          "text": [
            "25/25 - 3s - loss: 0.0318 - accuracy: 0.9910\n",
            "INFO:tensorflow:Assets written to: /content/drive/MyDrive/my_model15/assets\n"
          ],
          "name": "stdout"
        }
      ]
    }
  ]
}