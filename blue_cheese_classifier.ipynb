{
  "nbformat": 4,
  "nbformat_minor": 0,
  "metadata": {
    "colab": {
      "name": "blue_cheese_classifier.ipynb",
      "provenance": [],
      "include_colab_link": true
    },
    "language_info": {
      "name": "python"
    },
    "kernelspec": {
      "name": "python3",
      "display_name": "Python 3"
    },
    "accelerator": "GPU"
  },
  "cells": [
    {
      "cell_type": "markdown",
      "metadata": {
        "id": "view-in-github",
        "colab_type": "text"
      },
      "source": [
        "<a href=\"https://colab.research.google.com/github/Jamnic98/blue-cheese-classifier/blob/main/blue_cheese_classifier.ipynb\" target=\"_parent\"><img src=\"https://colab.research.google.com/assets/colab-badge.svg\" alt=\"Open In Colab\"/></a>"
      ]
    },
    {
      "cell_type": "code",
      "metadata": {
        "id": "sLRp99la-75E",
        "colab": {
          "base_uri": "https://localhost:8080/"
        },
        "outputId": "2bd19a63-ac13-477e-e6ab-dcb7dd5c7971"
      },
      "source": [
        "import os\n",
        "import numpy as np\n",
        "\n",
        "# mount the google drive\n",
        "from google.colab import drive\n",
        "drive.mount('/content/drive')\n",
        "%cd drive/MyDrive/"
      ],
      "execution_count": 1,
      "outputs": [
        {
          "output_type": "stream",
          "text": [
            "Mounted at /content/drive\n",
            "/content/drive/MyDrive\n"
          ],
          "name": "stdout"
        }
      ]
    },
    {
      "cell_type": "code",
      "metadata": {
        "id": "iv8dF7s23psO"
      },
      "source": [
        "root_dir = '/content/drive/MyDrive/'\n",
        "class_names = ['blueCheese', 'notBlueCheese']\n",
        "all_cheese_image_dirs = {class_names[0]: [], class_names[1]: []}\n",
        "\n",
        "# create train, test and validation folders for each class of cheese\n",
        "for class_name in class_names:\n",
        "  train_URI = root_dir +'data/train/' + class_name\n",
        "  if not os.path.isdir(train_URI):\n",
        "    os.makedirs(train_URI)\n",
        "  \n",
        "  test_URI = root_dir +'data/test/' + class_name\n",
        "  if not os.path.isdir(test_URI):\n",
        "    os.makedirs(test_URI)\n",
        "  \n",
        "  val_URI = root_dir +'data/val/' + class_name\n",
        "  if not os.path.isdir(val_URI):\n",
        "    os.makedirs(val_URI)\n",
        "\n",
        "  # compile a list of URIs for every cheese image\n",
        "  cheeses = os.listdir(root_dir + class_name)\n",
        "  for cheese_name in cheeses:\n",
        "    cheese_dir = root_dir + class_name + '/' + cheese_name\n",
        "\n",
        "    all_cheese_image_dirs[class_name].extend(\n",
        "      [cheese_dir + '/'+ name for name in os.listdir(cheese_dir)]\n",
        "      )  "
      ],
      "execution_count": 2,
      "outputs": []
    },
    {
      "cell_type": "code",
      "metadata": {
        "id": "q2B9aZZ47NGV",
        "colab": {
          "base_uri": "https://localhost:8080/"
        },
        "outputId": "c837d229-a9ee-4fc7-f202-268f22f5e9a3"
      },
      "source": [
        "import shutil\n",
        "\n",
        "val_ratio = 0.2\n",
        "test_ratio = 0.2\n",
        "\n",
        "for class_name in class_names:\n",
        "  cheese_image_dirs = all_cheese_image_dirs[class_name]\n",
        "\n",
        "  # shuffle image URIs\n",
        "  np.random.shuffle(cheese_image_dirs)\n",
        "\n",
        "  train_FileNames, val_FileNames, test_FileNames = np.split(\n",
        "    np.array(cheese_image_dirs),\n",
        "    [int(len(cheese_image_dirs)* (1 - (val_ratio + test_ratio))), \n",
        "    int(len(cheese_image_dirs)* (1 - test_ratio))]\n",
        "  )\n",
        "\n",
        "  print('In folder :', class_name)\n",
        "  print('Total images: ', len(cheese_image_dirs))\n",
        "  print('Training: ', len(train_FileNames))\n",
        "  print('Validation: ', len(val_FileNames))\n",
        "  print('Testing: ', len(test_FileNames))\n",
        "  print('\\n')\n",
        "\n",
        "  # # Copy-pasting images\n",
        "  # for train_FileName in train_FileNames.tolist():\n",
        "  #   shutil.copy(train_FileName, root_dir +'data/train/' + class_name)\n",
        "\n",
        "  # for val_FileName in val_FileNames.tolist():\n",
        "  #   shutil.copy(val_FileName, root_dir +'data/val/' + class_name)\n",
        "\n",
        "  # for test_FileName in test_FileNames.tolist():\n",
        "  #   shutil.copy(test_FileName, root_dir +'data/test/' + class_name)"
      ],
      "execution_count": 3,
      "outputs": [
        {
          "output_type": "stream",
          "text": [
            "In folder : blueCheese\n",
            "Total images:  1896\n",
            "Training:  1137\n",
            "Validation:  379\n",
            "Testing:  380\n",
            "\n",
            "\n",
            "In folder : notBlueCheese\n",
            "Total images:  1848\n",
            "Training:  1108\n",
            "Validation:  370\n",
            "Testing:  370\n",
            "\n",
            "\n"
          ],
          "name": "stdout"
        }
      ]
    },
    {
      "cell_type": "code",
      "metadata": {
        "id": "WDwQv-U2uwmo",
        "colab": {
          "base_uri": "https://localhost:8080/"
        },
        "outputId": "9d48cad3-06ff-4382-8949-605e62e42f8f"
      },
      "source": [
        "# use ImageDataGenerator to preprocess the data\n",
        "from keras.preprocessing.image import ImageDataGenerator\n",
        "\n",
        "augmented_images_dir=root_dir + 'augmented_images/'\n",
        "if not os.path.isdir(augmented_images_dir):\n",
        "  os.mkdir(augmented_images_dir)\n",
        "\n",
        "# augment the data that we have\n",
        "train_datagen = ImageDataGenerator(rescale=1./255,\n",
        "                                   shear_range=0.3,\n",
        "                                   zoom_range=0.3,\n",
        "                                   rotation_range=30,\n",
        "                                   horizontal_flip=True,\n",
        "                                   vertical_flip=True)\n",
        "\n",
        "test_datagen = ImageDataGenerator(rescale = 1./255)\n",
        "\n",
        "# prepare training data\n",
        "augmented_train_images_dir = augmented_images_dir + 'train'\n",
        "if not os.path.isdir(augmented_train_images_dir):\n",
        "  os.mkdir(augmented_train_images_dir)\n",
        "training_data = train_datagen.flow_from_directory('data/train',\n",
        "                                                  # save_to_dir=augmented_train_images_dir,\n",
        "                                                  target_size=(256, 256),\n",
        "                                                  batch_size=32,\n",
        "                                                  class_mode='categorical'\n",
        "                                                  )\n",
        "\n",
        "# prepare test data\n",
        "augmented_test_images_dir = augmented_images_dir + 'test'\n",
        "if not os.path.isdir(augmented_test_images_dir):\n",
        "  os.mkdir(augmented_test_images_dir)\n",
        "test_data = test_datagen.flow_from_directory('data/test',\n",
        "                                              # save_to_dir=augmented_test_images_dir,\n",
        "                                              target_size = (256, 256),\n",
        "                                              batch_size = 32,\n",
        "                                              class_mode = 'categorical'\n",
        "                                              )\n",
        "\n",
        "# prepare validation data\n",
        "augmented_val_images_dir = augmented_images_dir + 'val'\n",
        "if not os.path.isdir(augmented_val_images_dir):\n",
        "  os.mkdir(augmented_val_images_dir)\n",
        "validation_data = test_datagen.flow_from_directory('data/val',\n",
        "                                                    # save_to_dir=augmented_val_images_dir,\n",
        "                                                    target_size = (256, 256),\n",
        "                                                    batch_size = 32,\n",
        "                                                    class_mode = 'categorical'\n",
        "                                                    )"
      ],
      "execution_count": 4,
      "outputs": [
        {
          "output_type": "stream",
          "text": [
            "Found 2994 images belonging to 2 classes.\n",
            "Found 188 images belonging to 2 classes.\n",
            "Found 562 images belonging to 2 classes.\n"
          ],
          "name": "stdout"
        }
      ]
    },
    {
      "cell_type": "code",
      "metadata": {
        "id": "uNw0VHNr1Oam"
      },
      "source": [
        "### Build the model\n",
        "# Importing the Keras libraries and packages for building\n",
        "from keras.models import Sequential\n",
        "from keras.layers import Conv2D\n",
        "from keras.layers import MaxPooling2D\n",
        "from keras.layers import Flatten\n",
        "from keras.layers import Dense\n",
        "\n",
        "# Initialising the CNN\n",
        "classifier = Sequential()\n",
        "\n",
        "# Step 1 - Convolution\n",
        "# make 32 feature detectors with a size of 3x3\n",
        "# choose the input-image's format to be 256x256 with 3 channels\n",
        "classifier.add(Conv2D(32, (3, 3), input_shape=(256, 256, 3), activation=\"relu\"))\n",
        "\n",
        "# Step 2 - Pooling\n",
        "classifier.add(MaxPooling2D(pool_size = (2, 2)))\n",
        "\n",
        "# Adding a second convolutional layer\n",
        "classifier.add(Conv2D(64, (3, 3), activation = 'relu'))\n",
        "classifier.add(MaxPooling2D(pool_size = (2, 2)))\n",
        "\n",
        "# Step 3 - Flattening\n",
        "classifier.add(Flatten())\n",
        "\n",
        "# Step 4 - Full connection\n",
        "classifier.add(Dense(activation=\"relu\", units=128))\n",
        "classifier.add(Dense(activation=\"softmax\", units=2))\n",
        "\n",
        "# Compiling the CNN\n",
        "classifier.compile(optimizer = 'adam', loss = 'binary_crossentropy', metrics = ['accuracy'])"
      ],
      "execution_count": 5,
      "outputs": []
    },
    {
      "cell_type": "markdown",
      "metadata": {
        "id": "o3umvda_2CK7"
      },
      "source": [
        "### **Change code below this message**"
      ]
    },
    {
      "cell_type": "code",
      "metadata": {
        "id": "XMC2H2lL1Yno",
        "colab": {
          "base_uri": "https://localhost:8080/"
        },
        "outputId": "496b0d31-c11f-43d8-b39d-4c09ded76d58"
      },
      "source": [
        "from keras.callbacks import EarlyStopping\n",
        "\n",
        "history = classifier.fit(training_data,\n",
        "               #steps_per_epoch = (10),\n",
        "               epochs=100,\n",
        "               validation_data=validation_data,\n",
        "               validation_steps=10,\n",
        "               callbacks=[EarlyStopping(monitor='loss', patience=5)])"
      ],
      "execution_count": 8,
      "outputs": [
        {
          "output_type": "stream",
          "text": [
            "Epoch 1/100\n",
            " 3/94 [..............................] - ETA: 8:49 - loss: 9.6051 - accuracy: 0.4462"
          ],
          "name": "stdout"
        },
        {
          "output_type": "stream",
          "text": [
            "/usr/local/lib/python3.7/dist-packages/PIL/Image.py:960: UserWarning: Palette images with Transparency expressed in bytes should be converted to RGBA images\n",
            "  \"Palette images with Transparency expressed in bytes should be \"\n"
          ],
          "name": "stderr"
        },
        {
          "output_type": "stream",
          "text": [
            "73/94 [======================>.......] - ETA: 4:07 - loss: 2.7786 - accuracy: 0.5209"
          ],
          "name": "stdout"
        },
        {
          "output_type": "stream",
          "text": [
            "/usr/local/lib/python3.7/dist-packages/PIL/TiffImagePlugin.py:770: UserWarning: Possibly corrupt EXIF data.  Expecting to read 19 bytes but only got 18. Skipping tag 42036\n",
            "  \" Skipping tag %s\" % (size, len(data), tag)\n"
          ],
          "name": "stderr"
        },
        {
          "output_type": "stream",
          "text": [
            "94/94 [==============================] - 1277s 13s/step - loss: 2.4038 - accuracy: 0.5354 - val_loss: 0.6107 - val_accuracy: 0.7125\n",
            "Epoch 2/100\n",
            "94/94 [==============================] - 118s 1s/step - loss: 0.6125 - accuracy: 0.6800 - val_loss: 0.5960 - val_accuracy: 0.7063\n",
            "Epoch 3/100\n",
            "94/94 [==============================] - 91s 966ms/step - loss: 0.5986 - accuracy: 0.7019 - val_loss: 0.5388 - val_accuracy: 0.6875\n",
            "Epoch 4/100\n",
            "94/94 [==============================] - 82s 879ms/step - loss: 0.5720 - accuracy: 0.6993 - val_loss: 0.6071 - val_accuracy: 0.6875\n",
            "Epoch 5/100\n",
            "94/94 [==============================] - 78s 833ms/step - loss: 0.5895 - accuracy: 0.6770 - val_loss: 0.5800 - val_accuracy: 0.7063\n",
            "Epoch 6/100\n",
            "94/94 [==============================] - 77s 822ms/step - loss: 0.5859 - accuracy: 0.6852 - val_loss: 0.5256 - val_accuracy: 0.7188\n",
            "Epoch 7/100\n",
            "94/94 [==============================] - 75s 796ms/step - loss: 0.5736 - accuracy: 0.7025 - val_loss: 0.5770 - val_accuracy: 0.6969\n",
            "Epoch 8/100\n",
            "94/94 [==============================] - 75s 797ms/step - loss: 0.5621 - accuracy: 0.7039 - val_loss: 0.5440 - val_accuracy: 0.7500\n",
            "Epoch 9/100\n",
            "94/94 [==============================] - 76s 807ms/step - loss: 0.5510 - accuracy: 0.7181 - val_loss: 0.5486 - val_accuracy: 0.7094\n",
            "Epoch 10/100\n",
            "94/94 [==============================] - 75s 793ms/step - loss: 0.5354 - accuracy: 0.7289 - val_loss: 0.5314 - val_accuracy: 0.7219\n",
            "Epoch 11/100\n",
            "94/94 [==============================] - 75s 796ms/step - loss: 0.5477 - accuracy: 0.7061 - val_loss: 0.5455 - val_accuracy: 0.6969\n",
            "Epoch 12/100\n",
            "94/94 [==============================] - 74s 789ms/step - loss: 0.5234 - accuracy: 0.7107 - val_loss: 0.5885 - val_accuracy: 0.6969\n",
            "Epoch 13/100\n",
            "94/94 [==============================] - 75s 794ms/step - loss: 0.5093 - accuracy: 0.7331 - val_loss: 0.5123 - val_accuracy: 0.7375\n",
            "Epoch 14/100\n",
            "94/94 [==============================] - 74s 789ms/step - loss: 0.4980 - accuracy: 0.7347 - val_loss: 0.4515 - val_accuracy: 0.7656\n",
            "Epoch 15/100\n",
            "94/94 [==============================] - 74s 790ms/step - loss: 0.5009 - accuracy: 0.7461 - val_loss: 0.5102 - val_accuracy: 0.7375\n",
            "Epoch 16/100\n",
            "94/94 [==============================] - 75s 797ms/step - loss: 0.5071 - accuracy: 0.7245 - val_loss: 0.4982 - val_accuracy: 0.7375\n",
            "Epoch 17/100\n",
            "94/94 [==============================] - 76s 806ms/step - loss: 0.4901 - accuracy: 0.7574 - val_loss: 0.4751 - val_accuracy: 0.7625\n",
            "Epoch 18/100\n",
            "94/94 [==============================] - 75s 797ms/step - loss: 0.4793 - accuracy: 0.7602 - val_loss: 0.5247 - val_accuracy: 0.7406\n",
            "Epoch 19/100\n",
            "94/94 [==============================] - 74s 788ms/step - loss: 0.4657 - accuracy: 0.7733 - val_loss: 0.4115 - val_accuracy: 0.7781\n",
            "Epoch 20/100\n",
            "94/94 [==============================] - 74s 788ms/step - loss: 0.4200 - accuracy: 0.7945 - val_loss: 0.5327 - val_accuracy: 0.7500\n",
            "Epoch 21/100\n",
            "94/94 [==============================] - 75s 797ms/step - loss: 0.4480 - accuracy: 0.7908 - val_loss: 0.4513 - val_accuracy: 0.7844\n",
            "Epoch 22/100\n",
            "94/94 [==============================] - 74s 791ms/step - loss: 0.3913 - accuracy: 0.8263 - val_loss: 0.4330 - val_accuracy: 0.8031\n",
            "Epoch 23/100\n",
            "94/94 [==============================] - 74s 788ms/step - loss: 0.3747 - accuracy: 0.8272 - val_loss: 0.3924 - val_accuracy: 0.8344\n",
            "Epoch 24/100\n",
            "94/94 [==============================] - 74s 793ms/step - loss: 0.3759 - accuracy: 0.8258 - val_loss: 0.4287 - val_accuracy: 0.7875\n",
            "Epoch 25/100\n",
            "94/94 [==============================] - 75s 793ms/step - loss: 0.3368 - accuracy: 0.8581 - val_loss: 0.3690 - val_accuracy: 0.8313\n",
            "Epoch 26/100\n",
            "94/94 [==============================] - 75s 797ms/step - loss: 0.3466 - accuracy: 0.8376 - val_loss: 0.3906 - val_accuracy: 0.8281\n",
            "Epoch 27/100\n",
            "94/94 [==============================] - 75s 797ms/step - loss: 0.3235 - accuracy: 0.8597 - val_loss: 0.3616 - val_accuracy: 0.8406\n",
            "Epoch 28/100\n",
            "94/94 [==============================] - 75s 793ms/step - loss: 0.3229 - accuracy: 0.8567 - val_loss: 0.3509 - val_accuracy: 0.8500\n",
            "Epoch 29/100\n",
            "94/94 [==============================] - 74s 790ms/step - loss: 0.3245 - accuracy: 0.8614 - val_loss: 0.3845 - val_accuracy: 0.8375\n",
            "Epoch 30/100\n",
            "94/94 [==============================] - 74s 789ms/step - loss: 0.2738 - accuracy: 0.8810 - val_loss: 0.3302 - val_accuracy: 0.8531\n",
            "Epoch 31/100\n",
            "94/94 [==============================] - 75s 795ms/step - loss: 0.2907 - accuracy: 0.8713 - val_loss: 0.3873 - val_accuracy: 0.8125\n",
            "Epoch 32/100\n",
            "94/94 [==============================] - 75s 799ms/step - loss: 0.2990 - accuracy: 0.8724 - val_loss: 0.3609 - val_accuracy: 0.8500\n",
            "Epoch 33/100\n",
            "94/94 [==============================] - 74s 784ms/step - loss: 0.2763 - accuracy: 0.8876 - val_loss: 0.3439 - val_accuracy: 0.8375\n",
            "Epoch 34/100\n",
            "94/94 [==============================] - 73s 779ms/step - loss: 0.2435 - accuracy: 0.8994 - val_loss: 0.2705 - val_accuracy: 0.8781\n",
            "Epoch 35/100\n",
            "94/94 [==============================] - 75s 796ms/step - loss: 0.2556 - accuracy: 0.8912 - val_loss: 0.2780 - val_accuracy: 0.8750\n",
            "Epoch 36/100\n",
            "94/94 [==============================] - 75s 795ms/step - loss: 0.2752 - accuracy: 0.8919 - val_loss: 0.3205 - val_accuracy: 0.8719\n",
            "Epoch 37/100\n",
            "94/94 [==============================] - 74s 785ms/step - loss: 0.2531 - accuracy: 0.8970 - val_loss: 0.3029 - val_accuracy: 0.8813\n",
            "Epoch 38/100\n",
            "94/94 [==============================] - 74s 787ms/step - loss: 0.2657 - accuracy: 0.8766 - val_loss: 0.3273 - val_accuracy: 0.8594\n",
            "Epoch 39/100\n",
            "94/94 [==============================] - 74s 793ms/step - loss: 0.2793 - accuracy: 0.8903 - val_loss: 0.2798 - val_accuracy: 0.8844\n",
            "Epoch 40/100\n",
            "94/94 [==============================] - 74s 783ms/step - loss: 0.2211 - accuracy: 0.9191 - val_loss: 0.3524 - val_accuracy: 0.8156\n",
            "Epoch 41/100\n",
            "94/94 [==============================] - 75s 794ms/step - loss: 0.2466 - accuracy: 0.9033 - val_loss: 0.3103 - val_accuracy: 0.8656\n",
            "Epoch 42/100\n",
            "94/94 [==============================] - 74s 789ms/step - loss: 0.2148 - accuracy: 0.9090 - val_loss: 0.2356 - val_accuracy: 0.9219\n",
            "Epoch 43/100\n",
            "94/94 [==============================] - 75s 793ms/step - loss: 0.2209 - accuracy: 0.9090 - val_loss: 0.2840 - val_accuracy: 0.8938\n",
            "Epoch 44/100\n",
            "94/94 [==============================] - 75s 803ms/step - loss: 0.2266 - accuracy: 0.9002 - val_loss: 0.3229 - val_accuracy: 0.8687\n",
            "Epoch 45/100\n",
            "94/94 [==============================] - 74s 792ms/step - loss: 0.2397 - accuracy: 0.9077 - val_loss: 0.2766 - val_accuracy: 0.8844\n",
            "Epoch 46/100\n",
            "94/94 [==============================] - 73s 784ms/step - loss: 0.2127 - accuracy: 0.9115 - val_loss: 0.2828 - val_accuracy: 0.8781\n",
            "Epoch 47/100\n",
            "94/94 [==============================] - 74s 791ms/step - loss: 0.1999 - accuracy: 0.9115 - val_loss: 0.2476 - val_accuracy: 0.9094\n",
            "Epoch 48/100\n",
            "94/94 [==============================] - 76s 806ms/step - loss: 0.1715 - accuracy: 0.9343 - val_loss: 0.2600 - val_accuracy: 0.8781\n",
            "Epoch 49/100\n",
            "94/94 [==============================] - 74s 785ms/step - loss: 0.2066 - accuracy: 0.9117 - val_loss: 0.2285 - val_accuracy: 0.9125\n",
            "Epoch 50/100\n",
            "94/94 [==============================] - 74s 791ms/step - loss: 0.1885 - accuracy: 0.9186 - val_loss: 0.2962 - val_accuracy: 0.8719\n",
            "Epoch 51/100\n",
            "94/94 [==============================] - 74s 784ms/step - loss: 0.2097 - accuracy: 0.9104 - val_loss: 0.2728 - val_accuracy: 0.9031\n",
            "Epoch 52/100\n",
            "94/94 [==============================] - 74s 791ms/step - loss: 0.2001 - accuracy: 0.9240 - val_loss: 0.2851 - val_accuracy: 0.8938\n",
            "Epoch 53/100\n",
            "94/94 [==============================] - 75s 798ms/step - loss: 0.1835 - accuracy: 0.9218 - val_loss: 0.2742 - val_accuracy: 0.8969\n",
            "Epoch 54/100\n",
            "94/94 [==============================] - 74s 787ms/step - loss: 0.1661 - accuracy: 0.9305 - val_loss: 0.2804 - val_accuracy: 0.8781\n",
            "Epoch 55/100\n",
            "94/94 [==============================] - 74s 786ms/step - loss: 0.1600 - accuracy: 0.9334 - val_loss: 0.2284 - val_accuracy: 0.9125\n",
            "Epoch 56/100\n",
            "94/94 [==============================] - 74s 786ms/step - loss: 0.2009 - accuracy: 0.9160 - val_loss: 0.2793 - val_accuracy: 0.8938\n",
            "Epoch 57/100\n",
            "94/94 [==============================] - 76s 809ms/step - loss: 0.1860 - accuracy: 0.9219 - val_loss: 0.2316 - val_accuracy: 0.9062\n",
            "Epoch 58/100\n",
            "94/94 [==============================] - 75s 792ms/step - loss: 0.1293 - accuracy: 0.9488 - val_loss: 0.3055 - val_accuracy: 0.8813\n",
            "Epoch 59/100\n",
            "94/94 [==============================] - 75s 800ms/step - loss: 0.1724 - accuracy: 0.9324 - val_loss: 0.2454 - val_accuracy: 0.9250\n",
            "Epoch 60/100\n",
            "94/94 [==============================] - 74s 792ms/step - loss: 0.1361 - accuracy: 0.9445 - val_loss: 0.2437 - val_accuracy: 0.9094\n",
            "Epoch 61/100\n",
            "94/94 [==============================] - 75s 800ms/step - loss: 0.1443 - accuracy: 0.9423 - val_loss: 0.2244 - val_accuracy: 0.9000\n",
            "Epoch 62/100\n",
            "94/94 [==============================] - 75s 795ms/step - loss: 0.1569 - accuracy: 0.9415 - val_loss: 0.2521 - val_accuracy: 0.9125\n",
            "Epoch 63/100\n",
            "94/94 [==============================] - 75s 795ms/step - loss: 0.1430 - accuracy: 0.9389 - val_loss: 0.2858 - val_accuracy: 0.8906\n",
            "Epoch 64/100\n",
            "94/94 [==============================] - 74s 790ms/step - loss: 0.1575 - accuracy: 0.9384 - val_loss: 0.2829 - val_accuracy: 0.8844\n",
            "Epoch 65/100\n",
            "94/94 [==============================] - 74s 790ms/step - loss: 0.1649 - accuracy: 0.9372 - val_loss: 0.2641 - val_accuracy: 0.8969\n"
          ],
          "name": "stdout"
        }
      ]
    },
    {
      "cell_type": "code",
      "metadata": {
        "id": "l_2pHjyq1wRu",
        "colab": {
          "base_uri": "https://localhost:8080/"
        },
        "outputId": "c120e944-6d8a-4d7e-deb3-7dff9e32b785"
      },
      "source": [
        "generator= train_datagen.flow_from_directory(\"data/train\", batch_size=32)\n",
        "label_map = (generator.class_indices)\n",
        "label_map"
      ],
      "execution_count": 9,
      "outputs": [
        {
          "output_type": "stream",
          "text": [
            "Found 2994 images belonging to 2 classes.\n"
          ],
          "name": "stdout"
        },
        {
          "output_type": "execute_result",
          "data": {
            "text/plain": [
              "{'blueCheese': 0, 'notBlueCheese': 1}"
            ]
          },
          "metadata": {
            "tags": []
          },
          "execution_count": 9
        }
      ]
    },
    {
      "cell_type": "code",
      "metadata": {
        "id": "D9EqY_wnMOZM"
      },
      "source": [
        "# from tensorflow import keras\n",
        "# classifier = keras.models.load_model(root_dir + 'my_model')"
      ],
      "execution_count": 10,
      "outputs": []
    },
    {
      "cell_type": "code",
      "metadata": {
        "id": "SPGYg3WzSYGK",
        "colab": {
          "base_uri": "https://localhost:8080/"
        },
        "outputId": "2eb17fc0-a2fd-493b-c748-3abe3e1e701c"
      },
      "source": [
        "from contextlib import redirect_stdout\n",
        "\n",
        "model_name = 'my_model4'\n",
        "model_dir = root_dir + model_name\n",
        "\n",
        "if not os.path.isdir(model_dir):\n",
        "  os.mkdir(model_dir)\n",
        "\n",
        "with open(f'{model_dir}/{model_name}.txt', 'w') as file:\n",
        "    with redirect_stdout(file):\n",
        "        classifier.summary()\n",
        "\n",
        "test_loss, test_acc = classifier.evaluate(test_data, verbose=2)\n",
        "with open(f'{model_dir}/{model_name}.txt', 'a') as file:\n",
        "  file.write(f'\\nAccuracy: {test_acc}')\n",
        "\n",
        "classifier.save(model_dir)"
      ],
      "execution_count": 18,
      "outputs": [
        {
          "output_type": "stream",
          "text": [
            "/usr/local/lib/python3.7/dist-packages/PIL/Image.py:960: UserWarning: Palette images with Transparency expressed in bytes should be converted to RGBA images\n",
            "  \"Palette images with Transparency expressed in bytes should be \"\n"
          ],
          "name": "stderr"
        },
        {
          "output_type": "stream",
          "text": [
            "6/6 - 2s - loss: 0.2557 - accuracy: 0.9096\n",
            "INFO:tensorflow:Assets written to: /content/drive/MyDrive/my_model4/assets\n"
          ],
          "name": "stdout"
        }
      ]
    },
    {
      "cell_type": "code",
      "metadata": {
        "id": "Opy0uqfQ2R9g",
        "colab": {
          "base_uri": "https://localhost:8080/"
        },
        "outputId": "7472bbbc-d94b-4f5b-b197-0023bc8fec03"
      },
      "source": [
        "## make predictions\n",
        "from keras.preprocessing import image\n",
        "# we have to resize our image if we haven't already\n",
        "test_image = image.load_img('data/test/notBlueCheese/comte103.jpg', target_size = (256, 256))\n",
        "test_image = image.img_to_array(test_image)\n",
        "test_image = np.expand_dims(test_image, axis = 0)\n",
        "result = classifier.predict(test_image)\n",
        "print('Predicted class: ', int(result[0][0]))\n",
        "print(result)\n",
        "\n",
        "predictions = classifier.predict(training_data)\n",
        "print(predictions)\n",
        "# Get most likely class\n",
        "predicted_classes = np.argmax(predictions, axis=1)\n",
        "\n",
        "true_classes = training_data.classes\n",
        "class_labels = list(training_data.class_indices.keys())\n",
        "\n",
        "\n",
        "import sklearn.metrics as metrics\n",
        "report = metrics.classification_report(true_classes, predicted_classes, target_names=class_labels)\n",
        "print(report)\n",
        "\n",
        "confusion_matrix = metrics.confusion_matrix(y_true=true_classes, y_pred=predicted_classes)\n",
        "confusion_matrix"
      ],
      "execution_count": 11,
      "outputs": [
        {
          "output_type": "stream",
          "text": [
            "Predicted class:  0\n",
            "[[0. 1.]]\n"
          ],
          "name": "stdout"
        },
        {
          "output_type": "stream",
          "text": [
            "/usr/local/lib/python3.7/dist-packages/PIL/TiffImagePlugin.py:770: UserWarning: Possibly corrupt EXIF data.  Expecting to read 19 bytes but only got 18. Skipping tag 42036\n",
            "  \" Skipping tag %s\" % (size, len(data), tag)\n",
            "/usr/local/lib/python3.7/dist-packages/PIL/Image.py:960: UserWarning: Palette images with Transparency expressed in bytes should be converted to RGBA images\n",
            "  \"Palette images with Transparency expressed in bytes should be \"\n"
          ],
          "name": "stderr"
        },
        {
          "output_type": "stream",
          "text": [
            "[[9.9997568e-01 2.4289351e-05]\n",
            " [1.0000000e+00 8.9639868e-10]\n",
            " [2.8463799e-01 7.1536201e-01]\n",
            " ...\n",
            " [8.6870670e-01 1.3129330e-01]\n",
            " [1.2800494e-01 8.7199503e-01]\n",
            " [9.9977082e-01 2.2921806e-04]]\n",
            "               precision    recall  f1-score   support\n",
            "\n",
            "   blueCheese       0.51      0.50      0.50      1516\n",
            "notBlueCheese       0.49      0.50      0.49      1478\n",
            "\n",
            "     accuracy                           0.50      2994\n",
            "    macro avg       0.50      0.50      0.50      2994\n",
            " weighted avg       0.50      0.50      0.50      2994\n",
            "\n"
          ],
          "name": "stdout"
        },
        {
          "output_type": "execute_result",
          "data": {
            "text/plain": [
              "array([[759, 757],\n",
              "       [743, 735]])"
            ]
          },
          "metadata": {
            "tags": []
          },
          "execution_count": 11
        }
      ]
    },
    {
      "cell_type": "code",
      "metadata": {
        "id": "2YCuMf6aIxts",
        "colab": {
          "base_uri": "https://localhost:8080/",
          "height": 350
        },
        "outputId": "6b779b70-3639-4894-f2a3-d43ed5ba88f2"
      },
      "source": [
        "import matplotlib.pyplot as plt\n",
        "test_loss, test_acc = classifier.evaluate(test_data, verbose=2)\n",
        "plt.plot(history.history['accuracy'], label='accuracy')\n",
        "plt.plot(history.history['val_accuracy'], label = 'val_accuracy')\n",
        "plt.xlabel('Epoch')\n",
        "plt.ylabel('Accuracy')\n",
        "plt.ylim([0.5, 1])\n",
        "plt.legend(loc='lower right')\n",
        "\n",
        "print('Accuracy: ', test_acc)"
      ],
      "execution_count": 14,
      "outputs": [
        {
          "output_type": "stream",
          "text": [
            "/usr/local/lib/python3.7/dist-packages/PIL/Image.py:960: UserWarning: Palette images with Transparency expressed in bytes should be converted to RGBA images\n",
            "  \"Palette images with Transparency expressed in bytes should be \"\n"
          ],
          "name": "stderr"
        },
        {
          "output_type": "stream",
          "text": [
            "6/6 - 59s - loss: 0.2557 - accuracy: 0.9096\n",
            "Accuracy:  0.9095744490623474\n"
          ],
          "name": "stdout"
        },
        {
          "output_type": "display_data",
          "data": {
            "image/png": "[encoded data removed]",
            "text/plain": [
              "<Figure size 432x288 with 1 Axes>"
            ]
          },
          "metadata": {
            "tags": [],
            "needs_background": "light"
          }
        }
      ]
    }
  ]
}