{
  "nbformat": 4,
  "nbformat_minor": 0,
  "metadata": {
    "colab": {
      "name": "blue_cheese_classifier.ipynb",
      "provenance": [],
      "include_colab_link": true
    },
    "language_info": {
      "name": "python"
    },
    "kernelspec": {
      "name": "python3",
      "display_name": "Python 3"
    },
    "accelerator": "GPU"
  },
  "cells": [
    {
      "cell_type": "markdown",
      "metadata": {
        "id": "view-in-github",
        "colab_type": "text"
      },
      "source": [
        "<a href=\"https://colab.research.google.com/github/Jamnic98/blue-cheese-classifier/blob/main/blue_cheese_classifier.ipynb\" target=\"_parent\"><img src=\"https://colab.research.google.com/assets/colab-badge.svg\" alt=\"Open In Colab\"/></a>"
      ]
    },
    {
      "cell_type": "markdown",
      "metadata": {
        "id": "rZFY0P2bK-Rw"
      },
      "source": [
        "## Import modules, mount the google drive and establish constants"
      ]
    },
    {
      "cell_type": "code",
      "metadata": {
        "id": "sLRp99la-75E",
        "colab": {
          "base_uri": "https://localhost:8080/"
        },
        "outputId": "60765873-198c-46d1-e5d6-94577a9587f2"
      },
      "source": [
        "# import modules\n",
        "import os\n",
        "import numpy as np\n",
        "import shutil\n",
        "import sklearn.metrics as metrics\n",
        "import matplotlib.pyplot as plt\n",
        "from keras.preprocessing.image import ImageDataGenerator, load_img, img_to_array\n",
        "from keras.callbacks import EarlyStopping\n",
        "from keras.models import Sequential\n",
        "from keras.layers import Conv2D\n",
        "from keras.layers import MaxPooling2D\n",
        "from keras.layers import Flatten\n",
        "from keras.layers import Dense\n",
        "from contextlib import redirect_stdout\n",
        "\n",
        "# mount the google drive and change directory\n",
        "from google.colab import drive\n",
        "drive.mount('/content/drive')\n",
        "%cd drive/MyDrive/\n",
        "\n",
        "# constants\n",
        "VAL_RATIO = 0.05\n",
        "TEST_RATIO = 0.15\n",
        "ROOT_DIR = '/content/drive/MyDrive/'\n",
        "CLASS_NAMES = ['blueCheese', 'notBlueCheese']"
      ],
      "execution_count": 14,
      "outputs": [
        {
          "output_type": "stream",
          "text": [
            "Drive already mounted at /content/drive; to attempt to forcibly remount, call drive.mount(\"/content/drive\", force_remount=True).\n",
            "[Errno 2] No such file or directory: 'drive/MyDrive/'\n",
            "/content/drive/MyDrive\n"
          ],
          "name": "stdout"
        }
      ]
    },
    {
      "cell_type": "markdown",
      "metadata": {
        "id": "h5VHWKSYVQQX"
      },
      "source": [
        "## Split images into train, test and validation folders"
      ]
    },
    {
      "cell_type": "code",
      "metadata": {
        "id": "iv8dF7s23psO",
        "colab": {
          "base_uri": "https://localhost:8080/"
        },
        "outputId": "44e53622-9a5e-4b6b-88a5-44272c0c5351"
      },
      "source": [
        "data_dir = ROOT_DIR +'data/'\n",
        "if not os.path.isdir(data_dir):\n",
        "    os.mkdir(data_dir)\n",
        "\n",
        "for class_name in CLASS_NAMES:\n",
        "  # create train, test and validation folders\n",
        "  test_dir = data_dir + 'test/' + class_name\n",
        "  if not os.path.isdir(test_dir):\n",
        "    os.mkdir(test_dir)\n",
        "  train_dir = data_dir + 'train/' + class_name\n",
        "  if not os.path.isdir(train_dir):\n",
        "    os.mkdir(train_dir)\n",
        "  val_dir = data_dir + 'val/' + class_name\n",
        "  if not os.path.isdir(val_dir):\n",
        "    os.mkdir(val_dir)\n",
        "\n",
        "  # compile a complete list of image URIs\n",
        "  image_URIs = []\n",
        "  cheese_names = os.listdir(ROOT_DIR + class_name)\n",
        "  for cheese_name in cheese_names:\n",
        "    cheese_dir = ROOT_DIR + 'cheeses/' + class_name + '/'\n",
        "    image_URIs.extend(\n",
        "      [cheese_dir + cheese_image for cheese_image in os.listdir(cheese_dir)]\n",
        "    )\n",
        "\n",
        "  # shuffle image URIs\n",
        "  np.random.shuffle(image_URIs)\n",
        "\n",
        "  # split the data into train, test and validation sets\n",
        "  train_URIs, test_URIs, val_URIs = np.split(\n",
        "    np.array(image_URIs),\n",
        "    [int(len(image_URIs)* (1 - (VAL_RATIO + TEST_RATIO))), \n",
        "    int(len(image_URIs)* (1 - VAL_RATIO))]\n",
        "  )\n",
        "\n",
        "  print('In folder:', class_name)\n",
        "  print('Total images: ', len(image_URIs))\n",
        "  print('Training: ', len(train_URIs))\n",
        "  print('Testing: ', len(test_URIs))\n",
        "  print('Validation: ', len(val_URIs))\n",
        "  print('\\n')\n",
        "\n",
        "  # # Copy-pasting images\n",
        "  # for train_FileName in train_URIs.tolist():\n",
        "  #   shutil.copy(train_FileName, val_dir)\n",
        "\n",
        "  # for test_FileName in test_URIs.tolist():\n",
        "  #   shutil.copy(test_FileName, test_dir)\n",
        "\n",
        "  # for val_FileName in val_URIs.tolist():\n",
        "  #   shutil.copy(val_FileName, val_dir)\n"
      ],
      "execution_count": 15,
      "outputs": [
        {
          "output_type": "stream",
          "text": [
            "In folder: blueCheese\n",
            "Total images:  1760\n",
            "Training:  1408\n",
            "Testing:  264\n",
            "Validation:  88\n",
            "\n",
            "\n",
            "In folder: notBlueCheese\n",
            "Total images:  1970\n",
            "Training:  1576\n",
            "Testing:  295\n",
            "Validation:  99\n",
            "\n",
            "\n"
          ],
          "name": "stdout"
        }
      ]
    },
    {
      "cell_type": "markdown",
      "metadata": {
        "id": "racVhw4gVLbh"
      },
      "source": [
        "## Generate augmented images and prepare training, testing and validation data"
      ]
    },
    {
      "cell_type": "code",
      "metadata": {
        "id": "WDwQv-U2uwmo",
        "colab": {
          "base_uri": "https://localhost:8080/"
        },
        "outputId": "d01ed298-e9fe-4b00-decd-4063dee575ee"
      },
      "source": [
        "augmented_images_dir = ROOT_DIR + 'augmented_images/'\n",
        "if not os.path.isdir(augmented_images_dir):\n",
        "  os.mkdir(augmented_images_dir)\n",
        "\n",
        "# augment the data that we have\n",
        "train_datagen = ImageDataGenerator(rescale=1./255,\n",
        "                                   shear_range=0.3,\n",
        "                                   zoom_range=0.3,\n",
        "                                   rotation_range=30,\n",
        "                                   horizontal_flip=True,\n",
        "                                   vertical_flip=True)\n",
        "\n",
        "test_datagen = ImageDataGenerator(rescale=1./255)\n",
        "\n",
        "# prepare training data\n",
        "augmented_train_images_dir = augmented_images_dir + 'train/'\n",
        "if not os.path.isdir(augmented_train_images_dir):\n",
        "  os.mkdir(augmented_train_images_dir)\n",
        "training_data = train_datagen.flow_from_directory('data/train',\n",
        "                                                  # save_to_dir=augmented_train_images_dir,\n",
        "                                                  target_size=(256, 256),\n",
        "                                                  batch_size=32,\n",
        "                                                  class_mode='categorical'\n",
        "                                                  )\n",
        "\n",
        "# prepare test data\n",
        "augmented_test_images_dir = augmented_images_dir + 'test/'\n",
        "if not os.path.isdir(augmented_test_images_dir):\n",
        "  os.mkdir(augmented_test_images_dir)\n",
        "test_data = test_datagen.flow_from_directory('data/test',\n",
        "                                              # save_to_dir=augmented_test_images_dir,\n",
        "                                              target_size = (256, 256),\n",
        "                                              batch_size = 32,\n",
        "                                              class_mode = 'categorical'\n",
        "                                              )\n",
        "\n",
        "# prepare validation data\n",
        "augmented_val_images_dir = augmented_images_dir + 'val/'\n",
        "if not os.path.isdir(augmented_val_images_dir):\n",
        "  os.mkdir(augmented_val_images_dir)\n",
        "validation_data = test_datagen.flow_from_directory('data/val',\n",
        "                                                    # save_to_dir=augmented_val_images_dir,\n",
        "                                                    target_size = (256, 256),\n",
        "                                                    batch_size = 32,\n",
        "                                                    class_mode = 'categorical'\n",
        "                                                    )"
      ],
      "execution_count": 6,
      "outputs": [
        {
          "output_type": "stream",
          "text": [
            "Found 2994 images belonging to 2 classes.\n",
            "Found 188 images belonging to 2 classes.\n",
            "Found 562 images belonging to 2 classes.\n"
          ],
          "name": "stdout"
        }
      ]
    },
    {
      "cell_type": "markdown",
      "metadata": {
        "id": "iRLX5u8AvTgL"
      },
      "source": [
        "## Build the model"
      ]
    },
    {
      "cell_type": "code",
      "metadata": {
        "id": "uNw0VHNr1Oam"
      },
      "source": [
        "# Initialising the CNN\n",
        "classifier = Sequential()\n",
        "\n",
        "# Step 1 - Convolution\n",
        "# make 32 feature detectors with a size of 3x3\n",
        "# choose the input-image's format to be 256x256 with 3 channels\n",
        "classifier.add(Conv2D(32, (3, 3), input_shape=(256, 256, 3), activation=\"relu\"))\n",
        "\n",
        "# Step 2 - Pooling\n",
        "classifier.add(MaxPooling2D(pool_size = (2, 2)))\n",
        "\n",
        "# Adding a second convolutional layer\n",
        "classifier.add(Conv2D(64, (3, 3), activation = 'relu'))\n",
        "classifier.add(MaxPooling2D(pool_size = (2, 2)))\n",
        "\n",
        "# Step 3 - Flattening\n",
        "classifier.add(Flatten())\n",
        "\n",
        "# Step 4 - Full connection\n",
        "classifier.add(Dense(activation=\"relu\", units=128))\n",
        "classifier.add(Dense(activation=\"softmax\", units=2))\n",
        "\n",
        "# Compiling the CNN\n",
        "classifier.compile(optimizer = 'adam', loss = 'binary_crossentropy', metrics = ['accuracy'])"
      ],
      "execution_count": 7,
      "outputs": []
    },
    {
      "cell_type": "markdown",
      "metadata": {
        "id": "o3umvda_2CK7"
      },
      "source": [
        "## Train the model"
      ]
    },
    {
      "cell_type": "code",
      "metadata": {
        "id": "XMC2H2lL1Yno",
        "colab": {
          "base_uri": "https://localhost:8080/"
        },
        "outputId": "d3017a30-16ee-4a92-eebb-72ea55e26c4e"
      },
      "source": [
        "history = classifier.fit(training_data,\n",
        "               #steps_per_epoch = (10),\n",
        "               epochs=100,\n",
        "               validation_data=validation_data,\n",
        "               validation_steps=10,\n",
        "               callbacks=[EarlyStopping(monitor='loss', patience=3)])"
      ],
      "execution_count": 8,
      "outputs": [
        {
          "output_type": "stream",
          "text": [
            "Epoch 1/100\n",
            " 2/94 [..............................] - ETA: 9s - loss: 2.8404 - accuracy: 0.4844     "
          ],
          "name": "stdout"
        },
        {
          "output_type": "stream",
          "text": [
            "/usr/local/lib/python3.7/dist-packages/PIL/TiffImagePlugin.py:770: UserWarning: Possibly corrupt EXIF data.  Expecting to read 19 bytes but only got 18. Skipping tag 42036\n",
            "  \" Skipping tag %s\" % (size, len(data), tag)\n"
          ],
          "name": "stderr"
        },
        {
          "output_type": "stream",
          "text": [
            "\b\b\b\b\b\b\b\b\b\b\b\b\b\b\b\b\b\b\b\b\b\b\b\b\b\b\b\b\b\b\b\b\b\b\b\b\b\b\b\b\b\b\b\b\b\b\b\b\b\b\b\b\b\b\b\b\b\b\b\b\b\b\b\b\b\b\b\b\b\b\b\b\b\b\b\b\b\b\b\b\b\b\r 3/94 [..............................] - ETA: 14:14 - loss: 3.6019 - accuracy: 0.5000"
          ],
          "name": "stdout"
        },
        {
          "output_type": "stream",
          "text": [
            "/usr/local/lib/python3.7/dist-packages/PIL/Image.py:960: UserWarning: Palette images with Transparency expressed in bytes should be converted to RGBA images\n",
            "  \"Palette images with Transparency expressed in bytes should be \"\n"
          ],
          "name": "stderr"
        },
        {
          "output_type": "stream",
          "text": [
            "94/94 [==============================] - 1735s 18s/step - loss: 1.4239 - accuracy: 0.5862 - val_loss: 0.5949 - val_accuracy: 0.7531\n",
            "Epoch 2/100\n",
            "94/94 [==============================] - 149s 2s/step - loss: 0.6024 - accuracy: 0.6745 - val_loss: 0.5828 - val_accuracy: 0.7312\n",
            "Epoch 3/100\n",
            "94/94 [==============================] - 105s 1s/step - loss: 0.5917 - accuracy: 0.6821 - val_loss: 0.5613 - val_accuracy: 0.7344\n",
            "Epoch 4/100\n",
            "94/94 [==============================] - 97s 1s/step - loss: 0.5868 - accuracy: 0.6797 - val_loss: 0.5763 - val_accuracy: 0.7000\n",
            "Epoch 5/100\n",
            "94/94 [==============================] - 90s 953ms/step - loss: 0.5725 - accuracy: 0.6838 - val_loss: 0.5790 - val_accuracy: 0.6844\n",
            "Epoch 6/100\n",
            "94/94 [==============================] - 87s 924ms/step - loss: 0.5793 - accuracy: 0.6865 - val_loss: 0.5468 - val_accuracy: 0.7000\n",
            "Epoch 7/100\n",
            "94/94 [==============================] - 85s 903ms/step - loss: 0.5487 - accuracy: 0.7204 - val_loss: 0.6033 - val_accuracy: 0.7156\n",
            "Epoch 8/100\n",
            "94/94 [==============================] - 85s 902ms/step - loss: 0.5845 - accuracy: 0.6860 - val_loss: 0.5455 - val_accuracy: 0.7281\n",
            "Epoch 9/100\n",
            "94/94 [==============================] - 85s 903ms/step - loss: 0.5566 - accuracy: 0.7151 - val_loss: 0.5381 - val_accuracy: 0.7563\n",
            "Epoch 10/100\n",
            "94/94 [==============================] - 84s 892ms/step - loss: 0.5513 - accuracy: 0.7084 - val_loss: 0.5295 - val_accuracy: 0.7437\n",
            "Epoch 11/100\n",
            "94/94 [==============================] - 86s 912ms/step - loss: 0.5579 - accuracy: 0.7047 - val_loss: 0.4979 - val_accuracy: 0.7594\n",
            "Epoch 12/100\n",
            "94/94 [==============================] - 85s 910ms/step - loss: 0.5513 - accuracy: 0.7172 - val_loss: 0.5698 - val_accuracy: 0.7312\n",
            "Epoch 13/100\n",
            "94/94 [==============================] - 87s 924ms/step - loss: 0.5328 - accuracy: 0.7313 - val_loss: 0.5221 - val_accuracy: 0.7500\n",
            "Epoch 14/100\n",
            "94/94 [==============================] - 87s 927ms/step - loss: 0.5400 - accuracy: 0.7118 - val_loss: 0.5277 - val_accuracy: 0.7063\n",
            "Epoch 15/100\n",
            "94/94 [==============================] - 86s 919ms/step - loss: 0.5519 - accuracy: 0.7089 - val_loss: 0.5102 - val_accuracy: 0.7500\n",
            "Epoch 16/100\n",
            "94/94 [==============================] - 86s 917ms/step - loss: 0.5245 - accuracy: 0.7469 - val_loss: 0.4756 - val_accuracy: 0.7625\n",
            "Epoch 17/100\n",
            "94/94 [==============================] - 85s 906ms/step - loss: 0.5222 - accuracy: 0.7272 - val_loss: 0.5151 - val_accuracy: 0.7469\n",
            "Epoch 18/100\n",
            "94/94 [==============================] - 84s 898ms/step - loss: 0.5241 - accuracy: 0.7397 - val_loss: 0.5041 - val_accuracy: 0.7594\n",
            "Epoch 19/100\n",
            "94/94 [==============================] - 84s 894ms/step - loss: 0.5153 - accuracy: 0.7465 - val_loss: 0.5215 - val_accuracy: 0.7094\n",
            "Epoch 20/100\n",
            "94/94 [==============================] - 84s 897ms/step - loss: 0.5046 - accuracy: 0.7521 - val_loss: 0.5443 - val_accuracy: 0.7344\n",
            "Epoch 21/100\n",
            "94/94 [==============================] - 87s 929ms/step - loss: 0.5075 - accuracy: 0.7369 - val_loss: 0.4810 - val_accuracy: 0.7469\n",
            "Epoch 22/100\n",
            "94/94 [==============================] - 86s 916ms/step - loss: 0.4973 - accuracy: 0.7582 - val_loss: 0.5199 - val_accuracy: 0.7375\n",
            "Epoch 23/100\n",
            "94/94 [==============================] - 85s 901ms/step - loss: 0.4926 - accuracy: 0.7555 - val_loss: 0.5577 - val_accuracy: 0.7094\n",
            "Epoch 24/100\n",
            "94/94 [==============================] - 85s 905ms/step - loss: 0.5098 - accuracy: 0.7547 - val_loss: 0.4922 - val_accuracy: 0.7688\n",
            "Epoch 25/100\n",
            "94/94 [==============================] - 86s 914ms/step - loss: 0.4746 - accuracy: 0.7682 - val_loss: 0.5585 - val_accuracy: 0.7125\n",
            "Epoch 26/100\n",
            "94/94 [==============================] - 86s 917ms/step - loss: 0.4922 - accuracy: 0.7513 - val_loss: 0.5374 - val_accuracy: 0.7156\n",
            "Epoch 27/100\n",
            "94/94 [==============================] - 86s 918ms/step - loss: 0.4824 - accuracy: 0.7578 - val_loss: 0.5287 - val_accuracy: 0.7281\n",
            "Epoch 28/100\n",
            "94/94 [==============================] - 86s 911ms/step - loss: 0.4649 - accuracy: 0.7612 - val_loss: 0.4926 - val_accuracy: 0.7531\n",
            "Epoch 29/100\n",
            "94/94 [==============================] - 84s 891ms/step - loss: 0.4809 - accuracy: 0.7600 - val_loss: 0.4786 - val_accuracy: 0.7688\n",
            "Epoch 30/100\n",
            "94/94 [==============================] - 85s 904ms/step - loss: 0.4638 - accuracy: 0.7664 - val_loss: 0.4870 - val_accuracy: 0.7469\n",
            "Epoch 31/100\n",
            "94/94 [==============================] - 85s 911ms/step - loss: 0.4594 - accuracy: 0.7796 - val_loss: 0.5287 - val_accuracy: 0.7375\n",
            "Epoch 32/100\n",
            "94/94 [==============================] - 86s 918ms/step - loss: 0.4550 - accuracy: 0.7842 - val_loss: 0.5433 - val_accuracy: 0.7437\n",
            "Epoch 33/100\n",
            "94/94 [==============================] - 86s 921ms/step - loss: 0.4566 - accuracy: 0.7684 - val_loss: 0.4593 - val_accuracy: 0.7688\n",
            "Epoch 34/100\n",
            "94/94 [==============================] - 87s 928ms/step - loss: 0.4025 - accuracy: 0.8178 - val_loss: 0.3813 - val_accuracy: 0.8344\n",
            "Epoch 35/100\n",
            "94/94 [==============================] - 86s 915ms/step - loss: 0.4037 - accuracy: 0.8110 - val_loss: 0.3957 - val_accuracy: 0.8000\n",
            "Epoch 36/100\n",
            "94/94 [==============================] - 85s 902ms/step - loss: 0.3830 - accuracy: 0.8295 - val_loss: 0.4404 - val_accuracy: 0.7937\n",
            "Epoch 37/100\n",
            "94/94 [==============================] - 84s 896ms/step - loss: 0.3721 - accuracy: 0.8284 - val_loss: 0.4491 - val_accuracy: 0.7844\n",
            "Epoch 38/100\n",
            "94/94 [==============================] - 85s 905ms/step - loss: 0.3859 - accuracy: 0.8171 - val_loss: 0.4547 - val_accuracy: 0.8125\n",
            "Epoch 39/100\n",
            "94/94 [==============================] - 85s 905ms/step - loss: 0.3678 - accuracy: 0.8313 - val_loss: 0.4385 - val_accuracy: 0.7906\n",
            "Epoch 40/100\n",
            "94/94 [==============================] - 84s 893ms/step - loss: 0.3246 - accuracy: 0.8482 - val_loss: 0.3352 - val_accuracy: 0.8406\n",
            "Epoch 41/100\n",
            "94/94 [==============================] - 84s 889ms/step - loss: 0.3197 - accuracy: 0.8568 - val_loss: 0.3620 - val_accuracy: 0.8469\n",
            "Epoch 42/100\n",
            "94/94 [==============================] - 84s 890ms/step - loss: 0.3099 - accuracy: 0.8703 - val_loss: 0.3662 - val_accuracy: 0.8438\n",
            "Epoch 43/100\n",
            "94/94 [==============================] - 84s 898ms/step - loss: 0.3450 - accuracy: 0.8609 - val_loss: 0.4148 - val_accuracy: 0.8188\n",
            "Epoch 44/100\n",
            "94/94 [==============================] - 85s 900ms/step - loss: 0.2879 - accuracy: 0.8763 - val_loss: 0.3708 - val_accuracy: 0.8750\n",
            "Epoch 45/100\n",
            "94/94 [==============================] - 85s 905ms/step - loss: 0.2964 - accuracy: 0.8675 - val_loss: 0.3539 - val_accuracy: 0.8281\n",
            "Epoch 46/100\n",
            "94/94 [==============================] - 85s 902ms/step - loss: 0.2900 - accuracy: 0.8723 - val_loss: 0.3408 - val_accuracy: 0.8500\n",
            "Epoch 47/100\n",
            "94/94 [==============================] - 84s 888ms/step - loss: 0.2666 - accuracy: 0.8870 - val_loss: 0.4066 - val_accuracy: 0.8281\n",
            "Epoch 48/100\n",
            "94/94 [==============================] - 84s 900ms/step - loss: 0.2790 - accuracy: 0.8841 - val_loss: 0.3654 - val_accuracy: 0.8219\n",
            "Epoch 49/100\n",
            "94/94 [==============================] - 87s 931ms/step - loss: 0.2704 - accuracy: 0.8876 - val_loss: 0.3201 - val_accuracy: 0.8625\n",
            "Epoch 50/100\n",
            "94/94 [==============================] - 86s 916ms/step - loss: 0.2509 - accuracy: 0.8948 - val_loss: 0.3341 - val_accuracy: 0.8500\n",
            "Epoch 51/100\n",
            "94/94 [==============================] - 84s 900ms/step - loss: 0.2516 - accuracy: 0.8980 - val_loss: 0.3382 - val_accuracy: 0.8687\n",
            "Epoch 52/100\n",
            "94/94 [==============================] - 83s 878ms/step - loss: 0.2544 - accuracy: 0.8937 - val_loss: 0.2902 - val_accuracy: 0.8875\n",
            "Epoch 53/100\n",
            "94/94 [==============================] - 84s 890ms/step - loss: 0.2344 - accuracy: 0.9063 - val_loss: 0.3394 - val_accuracy: 0.8719\n",
            "Epoch 54/100\n",
            "94/94 [==============================] - 85s 903ms/step - loss: 0.2269 - accuracy: 0.9052 - val_loss: 0.3387 - val_accuracy: 0.8875\n",
            "Epoch 55/100\n",
            "94/94 [==============================] - 83s 886ms/step - loss: 0.2242 - accuracy: 0.9102 - val_loss: 0.2628 - val_accuracy: 0.9000\n",
            "Epoch 56/100\n",
            "94/94 [==============================] - 85s 903ms/step - loss: 0.2333 - accuracy: 0.9035 - val_loss: 0.3474 - val_accuracy: 0.8781\n",
            "Epoch 57/100\n",
            "94/94 [==============================] - 82s 878ms/step - loss: 0.2176 - accuracy: 0.9144 - val_loss: 0.3480 - val_accuracy: 0.8719\n",
            "Epoch 58/100\n",
            "94/94 [==============================] - 83s 885ms/step - loss: 0.2545 - accuracy: 0.9020 - val_loss: 0.2390 - val_accuracy: 0.9031\n",
            "Epoch 59/100\n",
            "94/94 [==============================] - 83s 879ms/step - loss: 0.1975 - accuracy: 0.9221 - val_loss: 0.2960 - val_accuracy: 0.8844\n",
            "Epoch 60/100\n",
            "94/94 [==============================] - 84s 897ms/step - loss: 0.2202 - accuracy: 0.9099 - val_loss: 0.2915 - val_accuracy: 0.8969\n",
            "Epoch 61/100\n",
            "94/94 [==============================] - 84s 891ms/step - loss: 0.2453 - accuracy: 0.9002 - val_loss: 0.3530 - val_accuracy: 0.8438\n",
            "Epoch 62/100\n",
            "94/94 [==============================] - 83s 881ms/step - loss: 0.2157 - accuracy: 0.9082 - val_loss: 0.2761 - val_accuracy: 0.8844\n",
            "Epoch 63/100\n",
            "94/94 [==============================] - 83s 883ms/step - loss: 0.1970 - accuracy: 0.9233 - val_loss: 0.2884 - val_accuracy: 0.8594\n",
            "Epoch 64/100\n",
            "94/94 [==============================] - 84s 889ms/step - loss: 0.2053 - accuracy: 0.9153 - val_loss: 0.2747 - val_accuracy: 0.8906\n",
            "Epoch 65/100\n",
            "94/94 [==============================] - 84s 895ms/step - loss: 0.1761 - accuracy: 0.9306 - val_loss: 0.2473 - val_accuracy: 0.9125\n",
            "Epoch 66/100\n",
            "94/94 [==============================] - 83s 884ms/step - loss: 0.1956 - accuracy: 0.9298 - val_loss: 0.2695 - val_accuracy: 0.8875\n",
            "Epoch 67/100\n",
            "94/94 [==============================] - 83s 880ms/step - loss: 0.1997 - accuracy: 0.9232 - val_loss: 0.2729 - val_accuracy: 0.9000\n",
            "Epoch 68/100\n",
            "94/94 [==============================] - 87s 925ms/step - loss: 0.1726 - accuracy: 0.9327 - val_loss: 0.2620 - val_accuracy: 0.9094\n",
            "Epoch 69/100\n",
            "94/94 [==============================] - 86s 916ms/step - loss: 0.1854 - accuracy: 0.9293 - val_loss: 0.1777 - val_accuracy: 0.9344\n",
            "Epoch 70/100\n",
            "94/94 [==============================] - 87s 930ms/step - loss: 0.1852 - accuracy: 0.9283 - val_loss: 0.2408 - val_accuracy: 0.9187\n",
            "Epoch 71/100\n",
            "94/94 [==============================] - 87s 921ms/step - loss: 0.1905 - accuracy: 0.9241 - val_loss: 0.2217 - val_accuracy: 0.9187\n",
            "Epoch 72/100\n",
            "94/94 [==============================] - 86s 918ms/step - loss: 0.1996 - accuracy: 0.9151 - val_loss: 0.2472 - val_accuracy: 0.9156\n",
            "Epoch 73/100\n",
            "94/94 [==============================] - 85s 901ms/step - loss: 0.1588 - accuracy: 0.9417 - val_loss: 0.2846 - val_accuracy: 0.9219\n",
            "Epoch 74/100\n",
            "94/94 [==============================] - 86s 916ms/step - loss: 0.1686 - accuracy: 0.9342 - val_loss: 0.3177 - val_accuracy: 0.9000\n",
            "Epoch 75/100\n",
            "94/94 [==============================] - 87s 925ms/step - loss: 0.1478 - accuracy: 0.9396 - val_loss: 0.2978 - val_accuracy: 0.9031\n",
            "Epoch 76/100\n",
            "94/94 [==============================] - 87s 928ms/step - loss: 0.1423 - accuracy: 0.9422 - val_loss: 0.2923 - val_accuracy: 0.9187\n",
            "Epoch 77/100\n",
            "94/94 [==============================] - 86s 910ms/step - loss: 0.1930 - accuracy: 0.9261 - val_loss: 0.2997 - val_accuracy: 0.9031\n",
            "Epoch 78/100\n",
            "94/94 [==============================] - 86s 916ms/step - loss: 0.1504 - accuracy: 0.9453 - val_loss: 0.3284 - val_accuracy: 0.8781\n",
            "Epoch 79/100\n",
            "94/94 [==============================] - 85s 906ms/step - loss: 0.1352 - accuracy: 0.9470 - val_loss: 0.2573 - val_accuracy: 0.9125\n",
            "Epoch 80/100\n",
            "94/94 [==============================] - 86s 908ms/step - loss: 0.1858 - accuracy: 0.9259 - val_loss: 0.2381 - val_accuracy: 0.8969\n",
            "Epoch 81/100\n",
            "94/94 [==============================] - 85s 906ms/step - loss: 0.1582 - accuracy: 0.9395 - val_loss: 0.2400 - val_accuracy: 0.9281\n",
            "Epoch 82/100\n",
            "94/94 [==============================] - 86s 915ms/step - loss: 0.1791 - accuracy: 0.9282 - val_loss: 0.2838 - val_accuracy: 0.9125\n",
            "Epoch 83/100\n",
            "94/94 [==============================] - 85s 901ms/step - loss: 0.1605 - accuracy: 0.9397 - val_loss: 0.1922 - val_accuracy: 0.9219\n",
            "Epoch 84/100\n",
            "94/94 [==============================] - 87s 927ms/step - loss: 0.1455 - accuracy: 0.9406 - val_loss: 0.3380 - val_accuracy: 0.9000\n"
          ],
          "name": "stdout"
        }
      ]
    },
    {
      "cell_type": "code",
      "metadata": {
        "id": "l_2pHjyq1wRu",
        "colab": {
          "base_uri": "https://localhost:8080/"
        },
        "outputId": "4d61dca6-c95a-412f-f5a7-b44ae2181827"
      },
      "source": [
        "generator = train_datagen.flow_from_directory(\"data/train\", batch_size=32)\n",
        "label_map = (generator.class_indices)\n",
        "label_map"
      ],
      "execution_count": 9,
      "outputs": [
        {
          "output_type": "stream",
          "text": [
            "Found 2994 images belonging to 2 classes.\n"
          ],
          "name": "stdout"
        },
        {
          "output_type": "execute_result",
          "data": {
            "text/plain": [
              "{'blueCheese': 0, 'notBlueCheese': 1}"
            ]
          },
          "metadata": {
            "tags": []
          },
          "execution_count": 9
        }
      ]
    },
    {
      "cell_type": "markdown",
      "metadata": {
        "id": "gqrJ0LjrWYAF"
      },
      "source": [
        "## Load a previously trained model"
      ]
    },
    {
      "cell_type": "code",
      "metadata": {
        "id": "D9EqY_wnMOZM"
      },
      "source": [
        "# from tensorflow import keras\n",
        "# classifier = keras.models.load_model(ROOT_DIR + 'my_model')"
      ],
      "execution_count": 10,
      "outputs": []
    },
    {
      "cell_type": "markdown",
      "metadata": {
        "id": "g5wEvevdWdfW"
      },
      "source": [
        "## Make predictions"
      ]
    },
    {
      "cell_type": "code",
      "metadata": {
        "id": "Opy0uqfQ2R9g",
        "colab": {
          "base_uri": "https://localhost:8080/"
        },
        "outputId": "3a1357e8-1fe5-4be3-c78b-1b9b2c2ab371"
      },
      "source": [
        "# resize image\n",
        "test_image = load_img('data/test/notBlueCheese/red_leicester101.jpg', target_size = (256, 256))\n",
        "test_image = img_to_array(test_image)\n",
        "test_image = np.expand_dims(test_image, axis = 0)\n",
        "result = classifier.predict(test_image)\n",
        "print('Predicted class: ', int(result[0][0]))\n",
        "\n",
        "predictions = classifier.predict(test_data)\n",
        "predicted_classes = np.argmax(predictions, axis=1)\n",
        "\n",
        "true_classes = test_data.classes\n",
        "class_labels = list(test_data.class_indices.keys())\n",
        "\n",
        "report = metrics.classification_report(true_classes, predicted_classes, target_names=class_labels)\n",
        "report\n",
        "\n",
        "confusion_matrix = metrics.confusion_matrix(y_true=true_classes, y_pred=predicted_classes)\n",
        "confusion_matrix"
      ],
      "execution_count": 11,
      "outputs": [
        {
          "output_type": "stream",
          "text": [
            "Predicted class:  0\n"
          ],
          "name": "stdout"
        },
        {
          "output_type": "stream",
          "text": [
            "/usr/local/lib/python3.7/dist-packages/PIL/Image.py:960: UserWarning: Palette images with Transparency expressed in bytes should be converted to RGBA images\n",
            "  \"Palette images with Transparency expressed in bytes should be \"\n"
          ],
          "name": "stderr"
        },
        {
          "output_type": "execute_result",
          "data": {
            "text/plain": [
              "array([[44, 51],\n",
              "       [48, 45]])"
            ]
          },
          "metadata": {
            "tags": []
          },
          "execution_count": 11
        }
      ]
    },
    {
      "cell_type": "code",
      "metadata": {
        "id": "2YCuMf6aIxts",
        "colab": {
          "base_uri": "https://localhost:8080/",
          "height": 350
        },
        "outputId": "7f18c974-7a5a-496b-ba95-87b6f2e95079"
      },
      "source": [
        "test_loss, test_acc = classifier.evaluate(test_data, verbose=2)\n",
        "plt.plot(history.history['accuracy'], label='accuracy')\n",
        "plt.plot(history.history['val_accuracy'], label = 'val_accuracy')\n",
        "plt.xlabel('Epoch')\n",
        "plt.ylabel('Accuracy')\n",
        "plt.ylim([0.5, 1])\n",
        "plt.legend(loc='lower right')\n",
        "\n",
        "print('Accuracy: ', test_acc)"
      ],
      "execution_count": 12,
      "outputs": [
        {
          "output_type": "stream",
          "text": [
            "/usr/local/lib/python3.7/dist-packages/PIL/Image.py:960: UserWarning: Palette images with Transparency expressed in bytes should be converted to RGBA images\n",
            "  \"Palette images with Transparency expressed in bytes should be \"\n"
          ],
          "name": "stderr"
        },
        {
          "output_type": "stream",
          "text": [
            "6/6 - 2s - loss: 0.2710 - accuracy: 0.9202\n",
            "Accuracy:  0.9202127456665039\n"
          ],
          "name": "stdout"
        },
        {
          "output_type": "display_data",
          "data": {
            "image/png": "[encoded data removed]",
            "text/plain": [
              "<Figure size 432x288 with 1 Axes>"
            ]
          },
          "metadata": {
            "tags": [],
            "needs_background": "light"
          }
        }
      ]
    },
    {
      "cell_type": "markdown",
      "metadata": {
        "id": "M_juV7qmWO8v"
      },
      "source": [
        "## Save the model"
      ]
    },
    {
      "cell_type": "code",
      "metadata": {
        "id": "SPGYg3WzSYGK",
        "colab": {
          "base_uri": "https://localhost:8080/"
        },
        "outputId": "f3a05286-0d5f-4701-ae2b-ecd9e784a13f"
      },
      "source": [
        "model_name = 'my_model8'\n",
        "model_dir = ROOT_DIR + model_name + '/'\n",
        "if not os.path.isdir(model_dir):\n",
        "  os.mkdir(model_dir)\n",
        "\n",
        "with open(f'{model_dir}/{model_name}.txt', 'w') as file:\n",
        "    with redirect_stdout(file):\n",
        "        classifier.summary()\n",
        "\n",
        "test_loss, test_acc = classifier.evaluate(test_data, verbose=2)\n",
        "with open(f'{model_dir}/{model_name}.txt', 'a') as file:\n",
        "  file.write(f'\\nAccuracy: {test_acc}')\n",
        "  file.write(f'\\nReport\\n: {report}')\n",
        "  file.write(f'\\nConfusion Matrix\\n: {confusion_matrix}')\n",
        "  \n",
        "classifier.save(model_dir)"
      ],
      "execution_count": 13,
      "outputs": [
        {
          "output_type": "stream",
          "text": [
            "/usr/local/lib/python3.7/dist-packages/PIL/Image.py:960: UserWarning: Palette images with Transparency expressed in bytes should be converted to RGBA images\n",
            "  \"Palette images with Transparency expressed in bytes should be \"\n"
          ],
          "name": "stderr"
        },
        {
          "output_type": "stream",
          "text": [
            "6/6 - 2s - loss: 0.2710 - accuracy: 0.9202\n",
            "INFO:tensorflow:Assets written to: /content/drive/MyDrive/my_model7/assets\n"
          ],
          "name": "stdout"
        }
      ]
    }
  ]
}