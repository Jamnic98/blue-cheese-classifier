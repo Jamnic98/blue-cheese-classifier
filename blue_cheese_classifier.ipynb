{
  "nbformat": 4,
  "nbformat_minor": 0,
  "metadata": {
    "colab": {
      "name": "blue_cheese_classifier.ipynb",
      "provenance": [],
      "include_colab_link": true
    },
    "language_info": {
      "name": "python"
    },
    "kernelspec": {
      "name": "python3",
      "display_name": "Python 3"
    }
  },
  "cells": [
    {
      "cell_type": "markdown",
      "metadata": {
        "id": "view-in-github",
        "colab_type": "text"
      },
      "source": [
        "<a href=\"https://colab.research.google.com/github/Jamnic98/blue-cheese-classifier/blob/main/blue_cheese_classifier.ipynb\" target=\"_parent\"><img src=\"https://colab.research.google.com/assets/colab-badge.svg\" alt=\"Open In Colab\"/></a>"
      ]
    },
    {
      "cell_type": "code",
      "metadata": {
        "id": "sLRp99la-75E",
        "colab": {
          "base_uri": "https://localhost:8080/"
        },
        "outputId": "c0782e22-6510-403c-dbda-1712e45675a8"
      },
      "source": [
        "# mount the google drive\n",
        "from google.colab import drive\n",
        "drive.mount('/content/drive')"
      ],
      "execution_count": 1,
      "outputs": [
        {
          "output_type": "stream",
          "text": [
            "Mounted at /content/drive\n"
          ],
          "name": "stdout"
        }
      ]
    },
    {
      "cell_type": "code",
      "metadata": {
        "id": "2cA570f-L8uG",
        "colab": {
          "base_uri": "https://localhost:8080/"
        },
        "outputId": "14fac04f-efc5-4341-9c6f-f1d5fc41d319"
      },
      "source": [
        "%cd drive/MyDrive/"
      ],
      "execution_count": 2,
      "outputs": [
        {
          "output_type": "stream",
          "text": [
            "/content/drive/MyDrive\n"
          ],
          "name": "stdout"
        }
      ]
    },
    {
      "cell_type": "code",
      "metadata": {
        "id": "iv8dF7s23psO"
      },
      "source": [
        "import os\n",
        "import numpy as np\n",
        "import shutil\n",
        "import random\n",
        "\n",
        "class_names = ['blueCheese', 'notBlueCheese']\n",
        "root_dir = '/content/drive/MyDrive/'\n",
        "val_ratio = 0.15\n",
        "test_ratio = 0.05\n",
        "\n",
        "all_cheese_image_dirs = {class_names[0]: [], class_names[1]: []}\n",
        "\n",
        "for class_name in class_names:\n",
        "  train_URI = root_dir +'data/train/' + class_name\n",
        "  if not os.path.isdir(train_URI):\n",
        "    os.makedirs(train_URI)\n",
        "  \n",
        "  test_URI = root_dir +'data/test/' + class_name\n",
        "  if not os.path.isdir(test_URI):\n",
        "    os.makedirs(test_URI)\n",
        "  \n",
        "  val_URI = root_dir +'data/val/' + class_name\n",
        "  if not os.path.isdir(val_URI):\n",
        "    os.makedirs(val_URI)\n",
        "\n",
        "  cheeses = os.listdir(root_dir + class_name)\n",
        "\n",
        "  for cheese_name in cheeses:\n",
        "    cheese_dir = root_dir + class_name + '/' + cheese_name\n",
        "\n",
        "    all_cheese_image_dirs[class_name].extend(\n",
        "      [cheese_dir + '/'+ name for name in os.listdir(cheese_dir)]\n",
        "      )  "
      ],
      "execution_count": 3,
      "outputs": []
    },
    {
      "cell_type": "code",
      "metadata": {
        "id": "q2B9aZZ47NGV",
        "colab": {
          "base_uri": "https://localhost:8080/"
        },
        "outputId": "b137d3ac-462a-43bd-aec1-7e59b704f7ae"
      },
      "source": [
        "for class_name in class_names:\n",
        "  cheese_image_dirs = all_cheese_image_dirs[class_name]\n",
        "\n",
        "  np.random.shuffle(cheese_image_dirs)\n",
        "\n",
        "  train_FileNames, val_FileNames, test_FileNames = np.split(\n",
        "    np.array(cheese_image_dirs),\n",
        "    [int(len(cheese_image_dirs)* (1 - (val_ratio + test_ratio))), \n",
        "    int(len(cheese_image_dirs)* (1 - test_ratio))]\n",
        "  )\n",
        "\n",
        "  print('In folder :', class_name)\n",
        "  print('Total images: ', len(cheese_image_dirs))\n",
        "  print('Training: ', len(train_FileNames))\n",
        "  print('Validation: ', len(val_FileNames))\n",
        "  print('Testing: ', len(test_FileNames))\n",
        "  print('\\n')\n",
        "\n",
        "  # # Copy-pasting images\n",
        "  # for train_FileName in train_FileNames.tolist():\n",
        "  #   shutil.copy(train_FileName, root_dir +'data/train/' + class_name)\n",
        "\n",
        "  # for val_FileName in val_FileNames.tolist():\n",
        "  #   shutil.copy(val_FileName, root_dir +'data/val/' + class_name)\n",
        "\n",
        "  # for test_FileName in test_FileNames.tolist():\n",
        "  #   shutil.copy(test_FileName, root_dir +'data/test/' + class_name)"
      ],
      "execution_count": 4,
      "outputs": [
        {
          "output_type": "stream",
          "text": [
            "In folder : blueCheese\n",
            "Total images:  1896\n",
            "Training:  1516\n",
            "Validation:  285\n",
            "Testing:  95\n",
            "\n",
            "\n",
            "In folder : notBlueCheese\n",
            "Total images:  1848\n",
            "Training:  1478\n",
            "Validation:  277\n",
            "Testing:  93\n",
            "\n",
            "\n"
          ],
          "name": "stdout"
        }
      ]
    },
    {
      "cell_type": "code",
      "metadata": {
        "id": "WDwQv-U2uwmo",
        "colab": {
          "base_uri": "https://localhost:8080/"
        },
        "outputId": "4390732f-9471-45a5-8b60-dd26c2f6901d"
      },
      "source": [
        "# use ImageDataGenerator to preprocess the data\n",
        "from keras.preprocessing.image import ImageDataGenerator\n",
        "\n",
        "augmented_images_dir=root_dir + 'augmented_images/'\n",
        "if not os.path.isdir(augmented_images_dir):\n",
        "  os.mkdir(augmented_images_dir)\n",
        "\n",
        "# augment the data that we have\n",
        "train_datagen = ImageDataGenerator(rescale=1./255,\n",
        "                                   shear_range=0.1,\n",
        "                                   zoom_range=0.1,\n",
        "                                   rotation_range=15,\n",
        "                                   horizontal_flip=True)\n",
        "test_datagen = ImageDataGenerator(rescale = 1./255)\n",
        "\n",
        "# prepare training data\n",
        "augmented_train_images_dir = augmented_images_dir + 'train'\n",
        "if not os.path.isdir(augmented_train_images_dir):\n",
        "  os.mkdir(augmented_train_images_dir)\n",
        "training_data = train_datagen.flow_from_directory('data/train',\n",
        "                                                  #save_to_dir=augmented_train_images_dir,\n",
        "                                                  target_size=(64, 64),\n",
        "                                                  batch_size=32,\n",
        "                                                  class_mode='categorical'\n",
        "                                                  )\n",
        "\n",
        "# prepare test data\n",
        "augmented_test_images_dir = augmented_images_dir + 'test'\n",
        "if not os.path.isdir(augmented_test_images_dir):\n",
        "  os.mkdir(augmented_test_images_dir)\n",
        "test_data = test_datagen.flow_from_directory('data/test',\n",
        "                                              #save_to_dir=augmented_test_images_dir,\n",
        "                                              target_size = (64, 64),\n",
        "                                              batch_size = 32,\n",
        "                                              class_mode = 'categorical'\n",
        "                                              )\n",
        "\n",
        "# prepare validation data\n",
        "augmented_val_images_dir = augmented_images_dir + 'val'\n",
        "if not os.path.isdir(augmented_val_images_dir):\n",
        "  os.mkdir(augmented_val_images_dir)\n",
        "validation_data = test_datagen.flow_from_directory('data/val',\n",
        "                                                    #save_to_dir=augmented_val_images_dir,\n",
        "                                                    target_size = (64, 64),\n",
        "                                                    batch_size = 32,\n",
        "                                                    class_mode = 'categorical'\n",
        "                                                    )"
      ],
      "execution_count": 5,
      "outputs": [
        {
          "output_type": "stream",
          "text": [
            "Found 2994 images belonging to 2 classes.\n",
            "Found 188 images belonging to 2 classes.\n",
            "Found 562 images belonging to 2 classes.\n"
          ],
          "name": "stdout"
        }
      ]
    },
    {
      "cell_type": "code",
      "metadata": {
        "id": "uNw0VHNr1Oam"
      },
      "source": [
        "### Build the model\n",
        "# Importing the Keras libraries and packages\n",
        "from keras.models import Sequential\n",
        "from keras.layers import Conv2D\n",
        "from keras.layers import MaxPooling2D\n",
        "from keras.layers import Flatten\n",
        "from keras.layers import Dense\n",
        "\n",
        "# Initialising the CNN\n",
        "classifier = Sequential()\n",
        "\n",
        "# Step 1 - Convolution\n",
        "# make 32 feature detectors with a size of 3x3\n",
        "# choose the input-image's format to be 64x64 with 3 channels\n",
        "classifier.add(Conv2D(32, (3, 3), input_shape=(64, 64, 3), activation=\"relu\"))\n",
        "\n",
        "# Step 2 - Pooling\n",
        "classifier.add(MaxPooling2D(pool_size = (2, 2)))\n",
        "\n",
        "# Adding a second convolutional layer\n",
        "classifier.add(Conv2D(32, (3, 3), activation = 'relu'))\n",
        "classifier.add(MaxPooling2D(pool_size = (2, 2)))\n",
        "\n",
        "# Step 3 - Flattening\n",
        "classifier.add(Flatten())\n",
        "\n",
        "# Step 4 - Full connection\n",
        "classifier.add(Dense(activation=\"relu\", units=128))\n",
        "classifier.add(Dense(activation=\"softmax\", units=2))\n",
        "\n",
        "# Compiling the CNN\n",
        "classifier.compile(optimizer = 'adam', loss = 'categorical_crossentropy', metrics = ['accuracy'])"
      ],
      "execution_count": 6,
      "outputs": []
    },
    {
      "cell_type": "markdown",
      "metadata": {
        "id": "o3umvda_2CK7"
      },
      "source": [
        "### **Change code below this message**"
      ]
    },
    {
      "cell_type": "code",
      "metadata": {
        "id": "XMC2H2lL1Yno",
        "colab": {
          "base_uri": "https://localhost:8080/"
        },
        "outputId": "f4036ac2-f409-494e-c802-007f6fd8463f"
      },
      "source": [
        "classifier.fit(training_data,\n",
        "               #steps_per_epoch = (100),\n",
        "               epochs=15,\n",
        "               validation_data=validation_data,\n",
        "               validation_steps=10)"
      ],
      "execution_count": 42,
      "outputs": [
        {
          "output_type": "stream",
          "text": [
            "/usr/local/lib/python3.7/dist-packages/PIL/Image.py:960: UserWarning: Palette images with Transparency expressed in bytes should be converted to RGBA images\n",
            "  \"Palette images with Transparency expressed in bytes should be \"\n"
          ],
          "name": "stderr"
        },
        {
          "output_type": "stream",
          "text": [
            "Epoch 1/15\n",
            "11/94 [==>...........................] - ETA: 44s - loss: 0.3825 - accuracy: 0.8324"
          ],
          "name": "stdout"
        },
        {
          "output_type": "stream",
          "text": [
            "/usr/local/lib/python3.7/dist-packages/PIL/TiffImagePlugin.py:770: UserWarning: Possibly corrupt EXIF data.  Expecting to read 19 bytes but only got 18. Skipping tag 42036\n",
            "  \" Skipping tag %s\" % (size, len(data), tag)\n"
          ],
          "name": "stderr"
        },
        {
          "output_type": "stream",
          "text": [
            "94/94 [==============================] - 57s 603ms/step - loss: 0.3251 - accuracy: 0.8560 - val_loss: 0.3476 - val_accuracy: 0.8594\n",
            "Epoch 2/15\n",
            "94/94 [==============================] - 56s 599ms/step - loss: 0.2955 - accuracy: 0.8647 - val_loss: 0.4480 - val_accuracy: 0.8188\n",
            "Epoch 3/15\n",
            "94/94 [==============================] - 57s 603ms/step - loss: 0.2768 - accuracy: 0.8838 - val_loss: 0.3799 - val_accuracy: 0.8188\n",
            "Epoch 4/15\n",
            "94/94 [==============================] - 57s 605ms/step - loss: 0.2401 - accuracy: 0.9005 - val_loss: 0.4321 - val_accuracy: 0.8594\n",
            "Epoch 5/15\n",
            "94/94 [==============================] - 55s 589ms/step - loss: 0.2314 - accuracy: 0.9061 - val_loss: 0.3675 - val_accuracy: 0.8687\n",
            "Epoch 6/15\n",
            "94/94 [==============================] - 56s 597ms/step - loss: 0.2172 - accuracy: 0.9095 - val_loss: 0.3745 - val_accuracy: 0.8687\n",
            "Epoch 7/15\n",
            "94/94 [==============================] - 55s 586ms/step - loss: 0.1983 - accuracy: 0.9182 - val_loss: 0.2434 - val_accuracy: 0.9062\n",
            "Epoch 8/15\n",
            "94/94 [==============================] - 56s 599ms/step - loss: 0.1833 - accuracy: 0.9245 - val_loss: 0.3542 - val_accuracy: 0.8781\n",
            "Epoch 9/15\n",
            "94/94 [==============================] - 55s 589ms/step - loss: 0.1656 - accuracy: 0.9322 - val_loss: 0.3377 - val_accuracy: 0.8687\n",
            "Epoch 10/15\n",
            "94/94 [==============================] - 55s 583ms/step - loss: 0.1686 - accuracy: 0.9349 - val_loss: 0.4010 - val_accuracy: 0.8594\n",
            "Epoch 11/15\n",
            "94/94 [==============================] - 55s 591ms/step - loss: 0.1624 - accuracy: 0.9365 - val_loss: 0.3725 - val_accuracy: 0.8813\n",
            "Epoch 12/15\n",
            "94/94 [==============================] - 55s 578ms/step - loss: 0.1813 - accuracy: 0.9289 - val_loss: 0.3735 - val_accuracy: 0.8406\n",
            "Epoch 13/15\n",
            "94/94 [==============================] - 57s 600ms/step - loss: 0.1232 - accuracy: 0.9526 - val_loss: 0.3483 - val_accuracy: 0.8844\n",
            "Epoch 14/15\n",
            "94/94 [==============================] - 55s 583ms/step - loss: 0.1250 - accuracy: 0.9509 - val_loss: 0.3385 - val_accuracy: 0.8906\n",
            "Epoch 15/15\n",
            "94/94 [==============================] - 56s 598ms/step - loss: 0.1117 - accuracy: 0.9576 - val_loss: 0.4311 - val_accuracy: 0.8844\n"
          ],
          "name": "stdout"
        },
        {
          "output_type": "execute_result",
          "data": {
            "text/plain": [
              "<keras.callbacks.History at 0x7fa7d45aa7d0>"
            ]
          },
          "metadata": {
            "tags": []
          },
          "execution_count": 42
        }
      ]
    },
    {
      "cell_type": "code",
      "metadata": {
        "id": "l_2pHjyq1wRu",
        "colab": {
          "base_uri": "https://localhost:8080/"
        },
        "outputId": "09498a9c-12bc-4103-bbec-e3ce88471827"
      },
      "source": [
        "generator= train_datagen.flow_from_directory(\"data/train\", batch_size=32)\n",
        "label_map = (generator.class_indices)\n",
        "label_map"
      ],
      "execution_count": 43,
      "outputs": [
        {
          "output_type": "stream",
          "text": [
            "Found 2994 images belonging to 2 classes.\n"
          ],
          "name": "stdout"
        },
        {
          "output_type": "execute_result",
          "data": {
            "text/plain": [
              "{'blueCheese': 0, 'notBlueCheese': 1}"
            ]
          },
          "metadata": {
            "tags": []
          },
          "execution_count": 43
        }
      ]
    },
    {
      "cell_type": "code",
      "metadata": {
        "id": "Opy0uqfQ2R9g",
        "colab": {
          "base_uri": "https://localhost:8080/"
        },
        "outputId": "44f7c0c9-e8c8-469b-b249-005069c4bd13"
      },
      "source": [
        "## make predictions\n",
        "import numpy as np\n",
        "from keras.preprocessing import image\n",
        "# we have to resize our image if we haven't already\n",
        "test_image = image.load_img('data/test/notBlueCheese/mozzarella37.jpg', target_size = (64, 64))\n",
        "test_image = image.img_to_array(test_image)\n",
        "test_image = np.expand_dims(test_image, axis = 0)\n",
        "result = classifier.predict(test_image)\n",
        "print('Predicted class: ', int(result[0][0]))\n",
        "\n",
        "predictions = classifier.predict(test_data)\n",
        "# Get most likely class\n",
        "predicted_classes = np.argmax(predictions, axis=1)\n",
        "\n",
        "true_classes = test_data.classes\n",
        "class_labels = list(test_data.class_indices.keys())\n",
        "\n",
        "\n",
        "import sklearn.metrics as metrics\n",
        "report = metrics.classification_report(true_classes, predicted_classes, target_names=class_labels)\n",
        "print(report)\n",
        "\n",
        "confusion_matrix = metrics.confusion_matrix(y_true=true_classes, y_pred=predicted_classes)\n",
        "confusion_matrix\n",
        "\n",
        "score = classifier.evaluate(test_data)\n",
        "score"
      ],
      "execution_count": 44,
      "outputs": [
        {
          "output_type": "stream",
          "text": [
            "Predicted class:  0\n"
          ],
          "name": "stdout"
        },
        {
          "output_type": "stream",
          "text": [
            "/usr/local/lib/python3.7/dist-packages/PIL/Image.py:960: UserWarning: Palette images with Transparency expressed in bytes should be converted to RGBA images\n",
            "  \"Palette images with Transparency expressed in bytes should be \"\n"
          ],
          "name": "stderr"
        },
        {
          "output_type": "stream",
          "text": [
            "               precision    recall  f1-score   support\n",
            "\n",
            "   blueCheese       0.49      0.46      0.48        95\n",
            "notBlueCheese       0.48      0.52      0.50        93\n",
            "\n",
            "     accuracy                           0.49       188\n",
            "    macro avg       0.49      0.49      0.49       188\n",
            " weighted avg       0.49      0.49      0.49       188\n",
            "\n",
            "6/6 [==============================] - 2s 310ms/step - loss: 0.2936 - accuracy: 0.8936\n"
          ],
          "name": "stdout"
        },
        {
          "output_type": "execute_result",
          "data": {
            "text/plain": [
              "[0.29355162382125854, 0.8936170339584351]"
            ]
          },
          "metadata": {
            "tags": []
          },
          "execution_count": 44
        }
      ]
    }
  ]
}