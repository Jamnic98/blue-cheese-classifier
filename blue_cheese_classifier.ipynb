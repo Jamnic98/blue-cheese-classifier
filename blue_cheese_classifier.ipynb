{
  "nbformat": 4,
  "nbformat_minor": 0,
  "metadata": {
    "colab": {
      "name": "blue_cheese_classifier.ipynb",
      "provenance": [],
      "include_colab_link": true
    },
    "language_info": {
      "name": "python"
    },
    "kernelspec": {
      "name": "python3",
      "display_name": "Python 3"
    }
  },
  "cells": [
    {
      "cell_type": "markdown",
      "metadata": {
        "id": "view-in-github",
        "colab_type": "text"
      },
      "source": [
        "<a href=\"https://colab.research.google.com/github/Jamnic98/blue-cheese-classifier/blob/main/blue_cheese_classifier.ipynb\" target=\"_parent\"><img src=\"https://colab.research.google.com/assets/colab-badge.svg\" alt=\"Open In Colab\"/></a>"
      ]
    },
    {
      "cell_type": "code",
      "metadata": {
        "id": "sLRp99la-75E",
        "colab": {
          "base_uri": "https://localhost:8080/"
        },
        "outputId": "7fed7f6e-aa22-4d2b-dd9d-277ef4049f13"
      },
      "source": [
        "# mount the google drive\n",
        "from google.colab import drive\n",
        "drive.mount('/content/drive')"
      ],
      "execution_count": 58,
      "outputs": [
        {
          "output_type": "stream",
          "text": [
            "Drive already mounted at /content/drive; to attempt to forcibly remount, call drive.mount(\"/content/drive\", force_remount=True).\n"
          ],
          "name": "stdout"
        }
      ]
    },
    {
      "cell_type": "code",
      "metadata": {
        "id": "2cA570f-L8uG",
        "colab": {
          "base_uri": "https://localhost:8080/"
        },
        "outputId": "6226a83b-65a9-40a0-a646-902516762ece"
      },
      "source": [
        "%cd drive/MyDrive/"
      ],
      "execution_count": 59,
      "outputs": [
        {
          "output_type": "stream",
          "text": [
            "[Errno 2] No such file or directory: 'drive/MyDrive/'\n",
            "/content/drive/MyDrive\n"
          ],
          "name": "stdout"
        }
      ]
    },
    {
      "cell_type": "code",
      "metadata": {
        "id": "iv8dF7s23psO"
      },
      "source": [
        "import os\n",
        "import numpy as np\n",
        "import shutil\n",
        "import random\n",
        "\n",
        "class_names = ['blueCheese', 'notBlueCheese']\n",
        "root_dir = '/content/drive/MyDrive/'\n",
        "val_ratio = 0.15\n",
        "test_ratio = 0.05\n",
        "\n",
        "all_cheese_image_dirs = {class_names[0]: [], class_names[1]: []}\n",
        "\n",
        "for class_name in class_names:\n",
        "  train_URI = root_dir +'data/train/' + class_name\n",
        "  if not os.path.isdir(train_URI):\n",
        "    os.makedirs(train_URI)\n",
        "  \n",
        "  test_URI = root_dir +'data/test/' + class_name\n",
        "  if not os.path.isdir(test_URI):\n",
        "    os.makedirs(test_URI)\n",
        "  \n",
        "  val_URI = root_dir +'data/val/' + class_name\n",
        "  if not os.path.isdir(val_URI):\n",
        "    os.makedirs(val_URI)\n",
        "\n",
        "  cheeses = os.listdir(root_dir + class_name)\n",
        "\n",
        "  for cheese_name in cheeses:\n",
        "    cheese_dir = root_dir + class_name + '/' + cheese_name\n",
        "\n",
        "    all_cheese_image_dirs[class_name].extend(\n",
        "      [cheese_dir + '/'+ name for name in os.listdir(cheese_dir)]\n",
        "      )  "
      ],
      "execution_count": 60,
      "outputs": []
    },
    {
      "cell_type": "code",
      "metadata": {
        "id": "q2B9aZZ47NGV",
        "colab": {
          "base_uri": "https://localhost:8080/"
        },
        "outputId": "003c92cd-6e7c-48c0-d0e2-a2313b3c054a"
      },
      "source": [
        "for class_name in class_names:\n",
        "  cheese_image_dirs = all_cheese_image_dirs[class_name]\n",
        "\n",
        "  np.random.shuffle(cheese_image_dirs)\n",
        "\n",
        "  train_FileNames, val_FileNames, test_FileNames = np.split(\n",
        "    np.array(cheese_image_dirs),\n",
        "    [int(len(cheese_image_dirs)* (1 - (val_ratio + test_ratio))), \n",
        "    int(len(cheese_image_dirs)* (1 - test_ratio))]\n",
        "  )\n",
        "\n",
        "  print('In folder :', class_name)\n",
        "  print('Total images: ', len(cheese_image_dirs))\n",
        "  print('Training: ', len(train_FileNames))\n",
        "  print('Validation: ', len(val_FileNames))\n",
        "  print('Testing: ', len(test_FileNames))\n",
        "  print('\\n')\n",
        "\n",
        "  # # Copy-pasting images\n",
        "  # for train_FileName in train_FileNames.tolist():\n",
        "  #   shutil.copy(train_FileName, root_dir +'data/train/' + class_name)\n",
        "\n",
        "  # for val_FileName in val_FileNames.tolist():\n",
        "  #   shutil.copy(val_FileName, root_dir +'data/val/' + class_name)\n",
        "\n",
        "  # for test_FileName in test_FileNames.tolist():\n",
        "  #   shutil.copy(test_FileName, root_dir +'data/test/' + class_name)"
      ],
      "execution_count": 61,
      "outputs": [
        {
          "output_type": "stream",
          "text": [
            "In folder : blueCheese\n",
            "Total images:  1896\n",
            "Training:  1516\n",
            "Validation:  285\n",
            "Testing:  95\n",
            "\n",
            "\n",
            "In folder : notBlueCheese\n",
            "Total images:  1848\n",
            "Training:  1478\n",
            "Validation:  277\n",
            "Testing:  93\n",
            "\n",
            "\n"
          ],
          "name": "stdout"
        }
      ]
    },
    {
      "cell_type": "code",
      "metadata": {
        "id": "WDwQv-U2uwmo",
        "outputId": "e785a563-899e-4ce5-8eb9-b31a543880bd",
        "colab": {
          "base_uri": "https://localhost:8080/"
        }
      },
      "source": [
        "# use ImageDataGenerator to preprocess the data\n",
        "from keras.preprocessing.image import ImageDataGenerator\n",
        "\n",
        "augmented_images_dir=root_dir + 'augmented_images/'\n",
        "if not os.path.isdir(augmented_images_dir):\n",
        "  os.mkdir(augmented_images_dir)\n",
        "\n",
        "# augment the data that we have\n",
        "train_datagen = ImageDataGenerator(rescale=1./255,\n",
        "                                   shear_range=0.1,\n",
        "                                   zoom_range=0.1,\n",
        "                                   rotation_range=15,\n",
        "                                   horizontal_flip=True)\n",
        "test_datagen = ImageDataGenerator(rescale = 1./255)\n",
        "\n",
        "# prepare training data\n",
        "augmented_train_images_dir = augmented_images_dir + 'train'\n",
        "if not os.path.isdir(augmented_train_images_dir):\n",
        "  os.mkdir(augmented_train_images_dir)\n",
        "training_data = train_datagen.flow_from_directory('data/train',\n",
        "                                                  #save_to_dir=augmented_train_images_dir,\n",
        "                                                  target_size=(64, 64),\n",
        "                                                  batch_size=32,\n",
        "                                                  class_mode='categorical'\n",
        "                                                  )\n",
        "\n",
        "# prepare test data\n",
        "augmented_test_images_dir = augmented_images_dir + 'test'\n",
        "if not os.path.isdir(augmented_test_images_dir):\n",
        "  os.mkdir(augmented_test_images_dir)\n",
        "test_data = test_datagen.flow_from_directory('data/test',\n",
        "                                              #save_to_dir=augmented_test_images_dir,\n",
        "                                              target_size = (64, 64),\n",
        "                                              batch_size = 32,\n",
        "                                              class_mode = 'categorical'\n",
        "                                              )\n",
        "\n",
        "# prepare validation data\n",
        "augmented_val_images_dir = augmented_images_dir + 'val'\n",
        "if not os.path.isdir(augmented_val_images_dir):\n",
        "  os.mkdir(augmented_val_images_dir)\n",
        "validation_data = test_datagen.flow_from_directory('data/val',\n",
        "                                                    #save_to_dir=augmented_val_images_dir,\n",
        "                                                    target_size = (64, 64),\n",
        "                                                    batch_size = 32,\n",
        "                                                    class_mode = 'categorical'\n",
        "                                                    )"
      ],
      "execution_count": 62,
      "outputs": [
        {
          "output_type": "stream",
          "text": [
            "Found 2994 images belonging to 2 classes.\n",
            "Found 188 images belonging to 2 classes.\n",
            "Found 562 images belonging to 2 classes.\n"
          ],
          "name": "stdout"
        }
      ]
    },
    {
      "cell_type": "code",
      "metadata": {
        "id": "uNw0VHNr1Oam"
      },
      "source": [
        "### Build the model\n",
        "# Importing the Keras libraries and packages\n",
        "from keras.models import Sequential\n",
        "from keras.layers import Conv2D\n",
        "from keras.layers import MaxPooling2D\n",
        "from keras.layers import Flatten\n",
        "from keras.layers import Dense\n",
        "\n",
        "# Initialising the CNN\n",
        "classifier = Sequential()\n",
        "\n",
        "# Step 1 - Convolution\n",
        "# make 32 feature detectors with a size of 3x3\n",
        "# choose the input-image's format to be 64x64 with 3 channels\n",
        "classifier.add(Conv2D(32, (3, 3), input_shape=(64, 64, 3), activation=\"relu\"))\n",
        "\n",
        "# Step 2 - Pooling\n",
        "classifier.add(MaxPooling2D(pool_size = (2, 2)))\n",
        "\n",
        "# Adding a second convolutional layer\n",
        "classifier.add(Conv2D(32, (3, 3), activation = 'relu'))\n",
        "classifier.add(MaxPooling2D(pool_size = (2, 2)))\n",
        "\n",
        "# Step 3 - Flattening\n",
        "classifier.add(Flatten())\n",
        "\n",
        "# Step 4 - Full connection\n",
        "classifier.add(Dense(activation=\"relu\", units=128))\n",
        "classifier.add(Dense(activation=\"softmax\", units=2))\n",
        "\n",
        "# Compiling the CNN\n",
        "classifier.compile(optimizer = 'adam', loss = 'categorical_crossentropy', metrics = ['accuracy'])"
      ],
      "execution_count": 63,
      "outputs": []
    },
    {
      "cell_type": "markdown",
      "metadata": {
        "id": "o3umvda_2CK7"
      },
      "source": [
        "### **Change code below this message**"
      ]
    },
    {
      "cell_type": "code",
      "metadata": {
        "id": "XMC2H2lL1Yno",
        "outputId": "c3edf115-de3d-4c04-ddd7-ac254285efd6",
        "colab": {
          "base_uri": "https://localhost:8080/"
        }
      },
      "source": [
        "classifier.fit(training_data,\n",
        "               # steps_per_epoch = (100),\n",
        "               epochs = 15,\n",
        "               validation_data = validation_data,\n",
        "               validation_steps = 10)"
      ],
      "execution_count": 64,
      "outputs": [
        {
          "output_type": "stream",
          "text": [
            "Epoch 1/15\n",
            "13/94 [===>..........................] - ETA: 1:14 - loss: 0.8402 - accuracy: 0.5018"
          ],
          "name": "stdout"
        },
        {
          "output_type": "stream",
          "text": [
            "/usr/local/lib/python3.7/dist-packages/PIL/Image.py:960: UserWarning: Palette images with Transparency expressed in bytes should be converted to RGBA images\n",
            "  \"Palette images with Transparency expressed in bytes should be \"\n"
          ],
          "name": "stderr"
        },
        {
          "output_type": "stream",
          "text": [
            "53/94 [===============>..............] - ETA: 38s - loss: 0.7399 - accuracy: 0.5531"
          ],
          "name": "stdout"
        },
        {
          "output_type": "stream",
          "text": [
            "/usr/local/lib/python3.7/dist-packages/PIL/TiffImagePlugin.py:770: UserWarning: Possibly corrupt EXIF data.  Expecting to read 19 bytes but only got 18. Skipping tag 42036\n",
            "  \" Skipping tag %s\" % (size, len(data), tag)\n"
          ],
          "name": "stderr"
        },
        {
          "output_type": "stream",
          "text": [
            "94/94 [==============================] - 99s 1s/step - loss: 0.7073 - accuracy: 0.5805 - val_loss: 0.5855 - val_accuracy: 0.7156\n",
            "Epoch 2/15\n",
            "94/94 [==============================] - 97s 1s/step - loss: 0.5998 - accuracy: 0.6842 - val_loss: 0.5236 - val_accuracy: 0.7563\n",
            "Epoch 3/15\n",
            "94/94 [==============================] - 97s 1s/step - loss: 0.5844 - accuracy: 0.6852 - val_loss: 0.5811 - val_accuracy: 0.7281\n",
            "Epoch 4/15\n",
            "94/94 [==============================] - 96s 1s/step - loss: 0.5770 - accuracy: 0.6962 - val_loss: 0.4904 - val_accuracy: 0.7437\n",
            "Epoch 5/15\n",
            "94/94 [==============================] - 96s 1s/step - loss: 0.5077 - accuracy: 0.7486 - val_loss: 0.5016 - val_accuracy: 0.7656\n",
            "Epoch 6/15\n",
            "94/94 [==============================] - 97s 1s/step - loss: 0.4998 - accuracy: 0.7323 - val_loss: 0.4869 - val_accuracy: 0.7656\n",
            "Epoch 7/15\n",
            "94/94 [==============================] - 96s 1s/step - loss: 0.4897 - accuracy: 0.7505 - val_loss: 0.5093 - val_accuracy: 0.7625\n",
            "Epoch 8/15\n",
            "94/94 [==============================] - 97s 1s/step - loss: 0.4518 - accuracy: 0.7784 - val_loss: 0.5423 - val_accuracy: 0.7250\n",
            "Epoch 9/15\n",
            "94/94 [==============================] - 98s 1s/step - loss: 0.4513 - accuracy: 0.7748 - val_loss: 0.7013 - val_accuracy: 0.6938\n",
            "Epoch 10/15\n",
            "94/94 [==============================] - 96s 1s/step - loss: 0.4185 - accuracy: 0.8068 - val_loss: 0.5149 - val_accuracy: 0.7437\n",
            "Epoch 11/15\n",
            "94/94 [==============================] - 97s 1s/step - loss: 0.3898 - accuracy: 0.8195 - val_loss: 0.5872 - val_accuracy: 0.7063\n",
            "Epoch 12/15\n",
            "94/94 [==============================] - 97s 1s/step - loss: 0.3994 - accuracy: 0.8084 - val_loss: 0.4042 - val_accuracy: 0.8219\n",
            "Epoch 13/15\n",
            "94/94 [==============================] - 97s 1s/step - loss: 0.3670 - accuracy: 0.8394 - val_loss: 0.3775 - val_accuracy: 0.8375\n",
            "Epoch 14/15\n",
            "94/94 [==============================] - 98s 1s/step - loss: 0.3553 - accuracy: 0.8263 - val_loss: 0.3326 - val_accuracy: 0.8531\n",
            "Epoch 15/15\n",
            "94/94 [==============================] - 98s 1s/step - loss: 0.3107 - accuracy: 0.8636 - val_loss: 0.3937 - val_accuracy: 0.8031\n"
          ],
          "name": "stdout"
        },
        {
          "output_type": "execute_result",
          "data": {
            "text/plain": [
              "<keras.callbacks.History at 0x7f325b141050>"
            ]
          },
          "metadata": {
            "tags": []
          },
          "execution_count": 64
        }
      ]
    },
    {
      "cell_type": "code",
      "metadata": {
        "id": "l_2pHjyq1wRu",
        "outputId": "dcb571af-fc52-4a52-baa0-3a0313c42c33",
        "colab": {
          "base_uri": "https://localhost:8080/"
        }
      },
      "source": [
        "generator= train_datagen.flow_from_directory(\"data/train\", batch_size=32)\n",
        "label_map = (generator.class_indices)\n",
        "label_map"
      ],
      "execution_count": 65,
      "outputs": [
        {
          "output_type": "stream",
          "text": [
            "Found 2994 images belonging to 2 classes.\n"
          ],
          "name": "stdout"
        },
        {
          "output_type": "execute_result",
          "data": {
            "text/plain": [
              "{'blueCheese': 0, 'notBlueCheese': 1}"
            ]
          },
          "metadata": {
            "tags": []
          },
          "execution_count": 65
        }
      ]
    },
    {
      "cell_type": "code",
      "metadata": {
        "id": "Opy0uqfQ2R9g",
        "outputId": "a0ffa438-5713-44bc-8ce3-2677b34bae6c",
        "colab": {
          "base_uri": "https://localhost:8080/"
        }
      },
      "source": [
        "from IPython.display import Image\n",
        "Image('data/test/blueCheese/stilton92.jpg')\n",
        "\n",
        "## make predictions\n",
        "import numpy as np\n",
        "from keras.preprocessing import image\n",
        "# we have to resize our image if we haven't already\n",
        "test_image = image.load_img('data/test/blueCheese/stilton92.jpg', target_size = (64, 64))\n",
        "test_image = image.img_to_array(test_image)\n",
        "test_image = np.expand_dims(test_image, axis = 0)\n",
        "result = classifier.predict(test_image)\n",
        "print('Predicted class: ', int(result[0][0]))\n",
        "\n",
        "predictions = classifier.predict(test_data)\n",
        "# Get most likely class\n",
        "predicted_classes = np.argmax(predictions, axis=1)\n",
        "\n",
        "true_classes = test_data.classes\n",
        "class_labels = list(test_data.class_indices.keys())\n",
        "\n",
        "\n",
        "import sklearn.metrics as metrics\n",
        "report = metrics.classification_report(true_classes, predicted_classes, target_names=class_labels)\n",
        "print(report)\n",
        "\n",
        "confusion_matrix = metrics.confusion_matrix(y_true=true_classes, y_pred=predicted_classes)\n",
        "confusion_matrix"
      ],
      "execution_count": 66,
      "outputs": [
        {
          "output_type": "stream",
          "text": [
            "Predicted class:  1\n"
          ],
          "name": "stdout"
        },
        {
          "output_type": "stream",
          "text": [
            "/usr/local/lib/python3.7/dist-packages/PIL/Image.py:960: UserWarning: Palette images with Transparency expressed in bytes should be converted to RGBA images\n",
            "  \"Palette images with Transparency expressed in bytes should be \"\n"
          ],
          "name": "stderr"
        },
        {
          "output_type": "stream",
          "text": [
            "               precision    recall  f1-score   support\n",
            "\n",
            "   blueCheese       0.53      0.41      0.46        95\n",
            "notBlueCheese       0.51      0.63      0.57        93\n",
            "\n",
            "     accuracy                           0.52       188\n",
            "    macro avg       0.52      0.52      0.52       188\n",
            " weighted avg       0.52      0.52      0.52       188\n",
            "\n"
          ],
          "name": "stdout"
        },
        {
          "output_type": "execute_result",
          "data": {
            "text/plain": [
              "array([[39, 56],\n",
              "       [34, 59]])"
            ]
          },
          "metadata": {
            "tags": []
          },
          "execution_count": 66
        }
      ]
    }
  ]
}