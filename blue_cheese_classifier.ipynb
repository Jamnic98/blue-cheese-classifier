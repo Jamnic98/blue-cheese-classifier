{
  "nbformat": 4,
  "nbformat_minor": 0,
  "metadata": {
    "colab": {
      "name": "blue_cheese_classifier.ipynb",
      "provenance": [],
      "include_colab_link": true
    },
    "language_info": {
      "name": "python"
    },
    "kernelspec": {
      "name": "python3",
      "display_name": "Python 3"
    }
  },
  "cells": [
    {
      "cell_type": "markdown",
      "metadata": {
        "id": "view-in-github",
        "colab_type": "text"
      },
      "source": [
        "<a href=\"https://colab.research.google.com/github/Jamnic98/blue-cheese-classifier/blob/main/blue_cheese_classifier.ipynb\" target=\"_parent\"><img src=\"https://colab.research.google.com/assets/colab-badge.svg\" alt=\"Open In Colab\"/></a>"
      ]
    },
    {
      "cell_type": "code",
      "metadata": {
        "id": "sLRp99la-75E",
        "colab": {
          "base_uri": "https://localhost:8080/"
        },
        "outputId": "494d140f-dbda-481e-c3a4-198a261cb56e"
      },
      "source": [
        "# mount the google drive\n",
        "from google.colab import drive\n",
        "drive.mount('/content/drive')"
      ],
      "execution_count": 7,
      "outputs": [
        {
          "output_type": "stream",
          "text": [
            "Drive already mounted at /content/drive; to attempt to forcibly remount, call drive.mount(\"/content/drive\", force_remount=True).\n"
          ],
          "name": "stdout"
        }
      ]
    },
    {
      "cell_type": "code",
      "metadata": {
        "id": "2cA570f-L8uG",
        "outputId": "12e74882-817a-4948-8026-be4ac2206c83",
        "colab": {
          "base_uri": "https://localhost:8080/"
        }
      },
      "source": [
        "%cd drive/MyDrive/"
      ],
      "execution_count": 8,
      "outputs": [
        {
          "output_type": "stream",
          "text": [
            "[Errno 2] No such file or directory: 'drive/MyDrive/'\n",
            "/content/drive/MyDrive\n"
          ],
          "name": "stdout"
        }
      ]
    },
    {
      "cell_type": "code",
      "metadata": {
        "id": "iv8dF7s23psO"
      },
      "source": [
        "import os\n",
        "import numpy as np\n",
        "import shutil\n",
        "import random\n",
        "\n",
        "class_names = ['blueCheese', 'notBlueCheese']\n",
        "root_dir = '/content/drive/MyDrive/'\n",
        "val_ratio = 0.15\n",
        "test_ratio = 0.05\n",
        "\n",
        "all_cheese_image_dirs = {class_names[0]: [], class_names[1]: []}\n",
        "\n",
        "for class_name in class_names:\n",
        "  train_URI = root_dir +'train/' + class_name\n",
        "  if not os.path.isdir(train_URI):\n",
        "    os.makedirs(train_URI)\n",
        "  \n",
        "  test_URI = root_dir +'test/' + class_name\n",
        "  if not os.path.isdir(test_URI):\n",
        "    os.makedirs(test_URI)\n",
        "  \n",
        "  val_URI = root_dir +'val/' + class_name\n",
        "  if not os.path.isdir(val_URI):\n",
        "    os.makedirs(val_URI)\n",
        "\n",
        "  cheeses = os.listdir(root_dir + class_name)\n",
        "\n",
        "  for cheese_name in cheeses:\n",
        "    cheese_dir = root_dir + class_name + '/' + cheese_name\n",
        "\n",
        "    all_cheese_image_dirs[class_name].extend(\n",
        "      [cheese_dir + '/'+ name for name in os.listdir(cheese_dir)]\n",
        "      )  "
      ],
      "execution_count": 9,
      "outputs": []
    },
    {
      "cell_type": "code",
      "metadata": {
        "id": "q2B9aZZ47NGV",
        "colab": {
          "base_uri": "https://localhost:8080/"
        },
        "outputId": "5683b942-b043-42b0-9663-bc05ca3636fc"
      },
      "source": [
        "for class_name in class_names:\n",
        "  cheese_image_dirs = all_cheese_image_dirs[class_name]\n",
        "\n",
        "  np.random.shuffle(cheese_image_dirs)\n",
        "\n",
        "  train_FileNames, val_FileNames, test_FileNames = np.split(\n",
        "    np.array(cheese_image_dirs),\n",
        "    [int(len(cheese_image_dirs)* (1 - (val_ratio + test_ratio))), \n",
        "    int(len(cheese_image_dirs)* (1 - test_ratio))]\n",
        "  )\n",
        "\n",
        "  print('In folder :', class_name)\n",
        "  print('Total images: ', len(cheese_image_dirs))\n",
        "  print('Training: ', len(train_FileNames))\n",
        "  print('Validation: ', len(val_FileNames))\n",
        "  print('Testing: ', len(test_FileNames))\n",
        "  print('\\n')\n",
        "\n",
        "  # # Copy-pasting images\n",
        "  # for train_FileName in train_FileNames.tolist():\n",
        "  #   shutil.copy(train_FileName, root_dir +'train/' + class_name)\n",
        "\n",
        "  # for val_FileName in val_FileNames.tolist():\n",
        "  #   shutil.copy(val_FileName, root_dir +'val/' + class_name)\n",
        "\n",
        "  # for test_FileName in test_FileNames.tolist():\n",
        "  #   shutil.copy(test_FileName, root_dir +'test/' + class_name)"
      ],
      "execution_count": 11,
      "outputs": [
        {
          "output_type": "stream",
          "text": [
            "In folder : blueCheese\n",
            "Total images:  1896\n",
            "Training:  1516\n",
            "Validation:  285\n",
            "Testing:  95\n",
            "\n",
            "\n",
            "In folder : notBlueCheese\n",
            "Total images:  1848\n",
            "Training:  1478\n",
            "Validation:  277\n",
            "Testing:  93\n",
            "\n",
            "\n"
          ],
          "name": "stdout"
        }
      ]
    },
    {
      "cell_type": "code",
      "metadata": {
        "id": "gVMs27SYB7If"
      },
      "source": [
        ""
      ],
      "execution_count": 10,
      "outputs": []
    }
  ]
}