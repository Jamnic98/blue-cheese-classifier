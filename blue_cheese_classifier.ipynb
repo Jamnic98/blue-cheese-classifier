{
  "nbformat": 4,
  "nbformat_minor": 0,
  "metadata": {
    "colab": {
      "name": "blue_cheese_classifier.ipynb",
      "provenance": [],
      "include_colab_link": true
    },
    "language_info": {
      "name": "python"
    },
    "kernelspec": {
      "name": "python3",
      "display_name": "Python 3"
    },
    "accelerator": "GPU"
  },
  "cells": [
    {
      "cell_type": "markdown",
      "metadata": {
        "id": "view-in-github",
        "colab_type": "text"
      },
      "source": [
        "<a href=\"https://colab.research.google.com/github/Jamnic98/blue-cheese-classifier/blob/main/blue_cheese_classifier.ipynb\" target=\"_parent\"><img src=\"https://colab.research.google.com/assets/colab-badge.svg\" alt=\"Open In Colab\"/></a>"
      ]
    },
    {
      "cell_type": "markdown",
      "metadata": {
        "id": "rZFY0P2bK-Rw"
      },
      "source": [
        "## Import modules, mount the google drive and establish constants"
      ]
    },
    {
      "cell_type": "code",
      "metadata": {
        "id": "sLRp99la-75E",
        "colab": {
          "base_uri": "https://localhost:8080/"
        },
        "outputId": "4a446431-5cc0-4ab7-ec8c-a8323e589e44"
      },
      "source": [
        "# import modules\n",
        "import os\n",
        "import numpy as np\n",
        "import shutil\n",
        "import sklearn.metrics as metrics\n",
        "import matplotlib.pyplot as plt\n",
        "from keras.preprocessing.image import ImageDataGenerator, load_img, img_to_array\n",
        "from keras.callbacks import EarlyStopping\n",
        "from keras.models import Sequential\n",
        "from keras.layers import Conv2D\n",
        "from keras.layers import MaxPooling2D\n",
        "from keras.layers import Flatten\n",
        "from keras.layers import Dense\n",
        "from contextlib import redirect_stdout\n",
        "\n",
        "# mount the google drive and change directory\n",
        "from google.colab import drive\n",
        "drive.mount('/content/drive')\n",
        "%cd drive/MyDrive/\n",
        "\n",
        "# constants\n",
        "VAL_RATIO = 0.05\n",
        "TEST_RATIO = 0.10\n",
        "ROOT_DIR = '/content/drive/MyDrive/'\n",
        "CLASS_NAMES = ['blueCheese', 'notBlueCheese']"
      ],
      "execution_count": 1,
      "outputs": [
        {
          "output_type": "stream",
          "text": [
            "Mounted at /content/drive\n",
            "/content/drive/MyDrive\n"
          ],
          "name": "stdout"
        }
      ]
    },
    {
      "cell_type": "markdown",
      "metadata": {
        "id": "h5VHWKSYVQQX"
      },
      "source": [
        "## Split images into train, test and validation folders"
      ]
    },
    {
      "cell_type": "code",
      "metadata": {
        "id": "iv8dF7s23psO"
      },
      "source": [
        "data_dir = ROOT_DIR +'data/'\n",
        "if not os.path.isdir(data_dir):\n",
        "    os.mkdir(data_dir)\n",
        "\n",
        "for class_name in CLASS_NAMES:\n",
        "  # create train folders\n",
        "  train_dir = data_dir + 'train/'\n",
        "  if not os.path.isdir(train_dir):\n",
        "    os.mkdir(train_dir)\n",
        "  class_train_dir = train_dir + class_name\n",
        "  if not os.path.isdir(class_train_dir):\n",
        "    os.mkdir(class_train_dir)\n",
        "  # create test folders\n",
        "  test_dir = data_dir + 'test/'\n",
        "  if not os.path.isdir(test_dir):\n",
        "    os.mkdir(test_dir)\n",
        "  class_test_dir = test_dir + class_name\n",
        "  if not os.path.isdir(class_test_dir):\n",
        "    os.mkdir(class_test_dir)\n",
        "  # create validation folders\n",
        "  val_dir = data_dir + 'val/'\n",
        "  if not os.path.isdir(val_dir):\n",
        "    os.mkdir(val_dir)\n",
        "  class_val_dir = val_dir + class_name\n",
        "  if not os.path.isdir(class_val_dir):\n",
        "    os.mkdir(class_val_dir)\n",
        "\n",
        "  image_URIs = []\n",
        "  # compile a complete list of image URIs\n",
        "  cheese_names = os.listdir(ROOT_DIR + class_name)\n",
        "  for cheese_name in cheese_names:\n",
        "    cheese_dir = ROOT_DIR + 'cheeses/' + class_name + '/'\n",
        "    image_URIs.extend(\n",
        "      [cheese_dir + cheese_image for cheese_image in os.listdir(cheese_dir)]\n",
        "    )\n",
        "\n",
        "  # shuffle image URIs\n",
        "  np.random.shuffle(image_URIs)\n",
        "\n",
        "  # split the data into train, test and validation sets\n",
        "  train_URIs, test_URIs, val_URIs = np.split(\n",
        "    np.array(image_URIs),\n",
        "    [int(len(image_URIs)* (1 - (VAL_RATIO + TEST_RATIO))), \n",
        "    int(len(image_URIs)* (1 - VAL_RATIO))]\n",
        "  )\n",
        "\n",
        "  # # Copy-pasting images\n",
        "  # for train_FileName in train_URIs.tolist():\n",
        "  #   shutil.copy(train_FileName, class_train_dir)\n",
        "  # for test_FileName in test_URIs.tolist():\n",
        "  #   shutil.copy(test_FileName, class_test_dir)\n",
        "  # for val_FileName in val_URIs.tolist():\n",
        "  #   shutil.copy(val_FileName, class_val_dir)\n"
      ],
      "execution_count": 2,
      "outputs": []
    },
    {
      "cell_type": "markdown",
      "metadata": {
        "id": "racVhw4gVLbh"
      },
      "source": [
        "## Generate augmented images and prepare training, testing and validation data"
      ]
    },
    {
      "cell_type": "code",
      "metadata": {
        "id": "WDwQv-U2uwmo",
        "colab": {
          "base_uri": "https://localhost:8080/"
        },
        "outputId": "39fb405f-fb37-4749-c398-4e3a3401b2e1"
      },
      "source": [
        "augmented_images_dir = ROOT_DIR + 'augmented_images/'\n",
        "if not os.path.isdir(augmented_images_dir):\n",
        "  os.mkdir(augmented_images_dir)\n",
        "\n",
        "# augment the data that we have\n",
        "train_datagen = ImageDataGenerator(rescale=1./255,\n",
        "                                   shear_range=0.3,\n",
        "                                   zoom_range=0.3,\n",
        "                                   rotation_range=45,\n",
        "                                   horizontal_flip=True,\n",
        "                                   vertical_flip=True)\n",
        "\n",
        "test_datagen = ImageDataGenerator(rescale=1./255)\n",
        "\n",
        "# prepare training data\n",
        "augmented_train_images_dir = augmented_images_dir + 'train/'\n",
        "if not os.path.isdir(augmented_train_images_dir):\n",
        "  os.mkdir(augmented_train_images_dir)\n",
        "training_data = train_datagen.flow_from_directory('data/train',\n",
        "                                                  # save_to_dir=augmented_train_images_dir,\n",
        "                                                  target_size=(256, 256),\n",
        "                                                  batch_size=32,\n",
        "                                                  class_mode='categorical'\n",
        "                                                  )\n",
        "\n",
        "# prepare test data\n",
        "augmented_test_images_dir = augmented_images_dir + 'test/'\n",
        "if not os.path.isdir(augmented_test_images_dir):\n",
        "  os.mkdir(augmented_test_images_dir)\n",
        "test_data = test_datagen.flow_from_directory('data/test',\n",
        "                                              # save_to_dir=augmented_test_images_dir,\n",
        "                                              target_size = (256, 256),\n",
        "                                              batch_size = 32,\n",
        "                                              class_mode = 'categorical'\n",
        "                                              )\n",
        "\n",
        "# prepare validation data\n",
        "augmented_val_images_dir = augmented_images_dir + 'val/'\n",
        "if not os.path.isdir(augmented_val_images_dir):\n",
        "  os.mkdir(augmented_val_images_dir)\n",
        "validation_data = test_datagen.flow_from_directory('data/val',\n",
        "                                                    # save_to_dir=augmented_val_images_dir,\n",
        "                                                    target_size = (256, 256),\n",
        "                                                    batch_size = 32,\n",
        "                                                    class_mode = 'categorical'\n",
        "                                                    )"
      ],
      "execution_count": 3,
      "outputs": [
        {
          "output_type": "stream",
          "text": [
            "Found 1206 images belonging to 2 classes.\n",
            "Found 964 images belonging to 2 classes.\n",
            "Found 484 images belonging to 2 classes.\n"
          ],
          "name": "stdout"
        }
      ]
    },
    {
      "cell_type": "markdown",
      "metadata": {
        "id": "iRLX5u8AvTgL"
      },
      "source": [
        "## Build the model"
      ]
    },
    {
      "cell_type": "code",
      "metadata": {
        "id": "uNw0VHNr1Oam"
      },
      "source": [
        "# Initialising the CNN\n",
        "classifier = Sequential()\n",
        "\n",
        "# Step 1 - Convolution\n",
        "# make 32 feature detectors with a size of 3x3\n",
        "# choose the input-image's format to be 256x256 with 3 channels\n",
        "classifier.add(Conv2D(32, (3, 3), input_shape=(256, 256, 3), activation=\"relu\"))\n",
        "\n",
        "# Step 2 - Pooling\n",
        "classifier.add(MaxPooling2D(pool_size=(2, 2)))\n",
        "\n",
        "# Adding a second convolutional layer\n",
        "classifier.add(Conv2D(64, (3, 3), activation='relu'))\n",
        "classifier.add(MaxPooling2D(pool_size=(2, 2)))\n",
        "\n",
        "classifier.add(Conv2D(128, (3, 3), activation='relu'))\n",
        "classifier.add(MaxPooling2D(pool_size=(2, 2)))\n",
        "\n",
        "# Step 3 - Flattening\n",
        "classifier.add(Flatten())\n",
        "\n",
        "# Step 4 - Full connection\n",
        "classifier.add(Dense(activation=\"relu\", units=128))\n",
        "classifier.add(Dense(activation=\"softmax\", units=2))\n",
        "\n",
        "# Compiling the CNN\n",
        "classifier.compile(optimizer='adam', loss='binary_crossentropy', metrics=['accuracy'])"
      ],
      "execution_count": 4,
      "outputs": []
    },
    {
      "cell_type": "markdown",
      "metadata": {
        "id": "o3umvda_2CK7"
      },
      "source": [
        "## Train the model"
      ]
    },
    {
      "cell_type": "code",
      "metadata": {
        "id": "XMC2H2lL1Yno",
        "colab": {
          "base_uri": "https://localhost:8080/"
        },
        "outputId": "765a5315-a367-45dc-9d01-6b1b79868559"
      },
      "source": [
        "history = classifier.fit(training_data,\n",
        "               #steps_per_epoch = (10),\n",
        "               epochs=200,\n",
        "               validation_data=validation_data,\n",
        "               validation_steps=10,\n",
        "               callbacks=[EarlyStopping(monitor='loss', patience=5)])"
      ],
      "execution_count": 5,
      "outputs": [
        {
          "output_type": "stream",
          "text": [
            "Epoch 1/200\n",
            "38/38 [==============================] - 118s 2s/step - loss: 1.0894 - accuracy: 0.5468 - val_loss: 0.6443 - val_accuracy: 0.6094\n",
            "Epoch 2/200\n",
            "38/38 [==============================] - 73s 2s/step - loss: 0.6425 - accuracy: 0.6452 - val_loss: 0.6211 - val_accuracy: 0.6219\n",
            "Epoch 3/200\n",
            "38/38 [==============================] - 74s 2s/step - loss: 0.6300 - accuracy: 0.6023 - val_loss: 0.6135 - val_accuracy: 0.6406\n",
            "Epoch 4/200\n",
            "38/38 [==============================] - 73s 2s/step - loss: 0.6562 - accuracy: 0.6007 - val_loss: 0.6431 - val_accuracy: 0.6031\n",
            "Epoch 5/200\n",
            "38/38 [==============================] - 73s 2s/step - loss: 0.6138 - accuracy: 0.6645 - val_loss: 0.5944 - val_accuracy: 0.6219\n",
            "Epoch 6/200\n",
            "38/38 [==============================] - 73s 2s/step - loss: 0.6139 - accuracy: 0.6904 - val_loss: 0.5816 - val_accuracy: 0.6687\n",
            "Epoch 7/200\n",
            "38/38 [==============================] - 73s 2s/step - loss: 0.6164 - accuracy: 0.6753 - val_loss: 0.6320 - val_accuracy: 0.6562\n",
            "Epoch 8/200\n",
            "38/38 [==============================] - 75s 2s/step - loss: 0.5807 - accuracy: 0.7098 - val_loss: 0.5110 - val_accuracy: 0.7656\n",
            "Epoch 9/200\n",
            "38/38 [==============================] - 73s 2s/step - loss: 0.5395 - accuracy: 0.7453 - val_loss: 0.5557 - val_accuracy: 0.7437\n",
            "Epoch 10/200\n",
            "38/38 [==============================] - 73s 2s/step - loss: 0.5516 - accuracy: 0.7053 - val_loss: 0.5404 - val_accuracy: 0.7156\n",
            "Epoch 11/200\n",
            "38/38 [==============================] - 73s 2s/step - loss: 0.5130 - accuracy: 0.7241 - val_loss: 0.5348 - val_accuracy: 0.7625\n",
            "Epoch 12/200\n",
            "38/38 [==============================] - 75s 2s/step - loss: 0.5103 - accuracy: 0.7866 - val_loss: 0.4735 - val_accuracy: 0.7594\n",
            "Epoch 13/200\n",
            "38/38 [==============================] - 73s 2s/step - loss: 0.5076 - accuracy: 0.7629 - val_loss: 0.4635 - val_accuracy: 0.8438\n",
            "Epoch 14/200\n",
            "38/38 [==============================] - 73s 2s/step - loss: 0.4603 - accuracy: 0.7906 - val_loss: 0.5175 - val_accuracy: 0.7719\n",
            "Epoch 15/200\n",
            "38/38 [==============================] - 73s 2s/step - loss: 0.5002 - accuracy: 0.7786 - val_loss: 0.4179 - val_accuracy: 0.8375\n",
            "Epoch 16/200\n",
            "38/38 [==============================] - 75s 2s/step - loss: 0.4609 - accuracy: 0.7955 - val_loss: 0.4852 - val_accuracy: 0.7844\n",
            "Epoch 17/200\n",
            "38/38 [==============================] - 73s 2s/step - loss: 0.4480 - accuracy: 0.8144 - val_loss: 0.4065 - val_accuracy: 0.8469\n",
            "Epoch 18/200\n",
            "38/38 [==============================] - 73s 2s/step - loss: 0.4492 - accuracy: 0.7865 - val_loss: 0.4050 - val_accuracy: 0.8375\n",
            "Epoch 19/200\n",
            "38/38 [==============================] - 73s 2s/step - loss: 0.4032 - accuracy: 0.8170 - val_loss: 0.4370 - val_accuracy: 0.8062\n",
            "Epoch 20/200\n",
            "38/38 [==============================] - 74s 2s/step - loss: 0.4072 - accuracy: 0.8428 - val_loss: 0.3845 - val_accuracy: 0.8344\n",
            "Epoch 21/200\n",
            "38/38 [==============================] - 75s 2s/step - loss: 0.3921 - accuracy: 0.8313 - val_loss: 0.3710 - val_accuracy: 0.8500\n",
            "Epoch 22/200\n",
            "38/38 [==============================] - 74s 2s/step - loss: 0.4094 - accuracy: 0.8318 - val_loss: 0.3635 - val_accuracy: 0.8344\n",
            "Epoch 23/200\n",
            "38/38 [==============================] - 74s 2s/step - loss: 0.3657 - accuracy: 0.8492 - val_loss: 0.3792 - val_accuracy: 0.8469\n",
            "Epoch 24/200\n",
            "38/38 [==============================] - 73s 2s/step - loss: 0.3975 - accuracy: 0.8288 - val_loss: 0.4155 - val_accuracy: 0.8156\n",
            "Epoch 25/200\n",
            "38/38 [==============================] - 75s 2s/step - loss: 0.4088 - accuracy: 0.8169 - val_loss: 0.3465 - val_accuracy: 0.8562\n",
            "Epoch 26/200\n",
            "38/38 [==============================] - 74s 2s/step - loss: 0.3546 - accuracy: 0.8439 - val_loss: 0.3376 - val_accuracy: 0.8469\n",
            "Epoch 27/200\n",
            "38/38 [==============================] - 74s 2s/step - loss: 0.3418 - accuracy: 0.8584 - val_loss: 0.2868 - val_accuracy: 0.8938\n",
            "Epoch 28/200\n",
            "38/38 [==============================] - 74s 2s/step - loss: 0.3262 - accuracy: 0.8599 - val_loss: 0.3733 - val_accuracy: 0.8469\n",
            "Epoch 29/200\n",
            "38/38 [==============================] - 73s 2s/step - loss: 0.3459 - accuracy: 0.8497 - val_loss: 0.3040 - val_accuracy: 0.8687\n",
            "Epoch 30/200\n",
            "38/38 [==============================] - 74s 2s/step - loss: 0.3449 - accuracy: 0.8483 - val_loss: 0.2843 - val_accuracy: 0.8813\n",
            "Epoch 31/200\n",
            "38/38 [==============================] - 73s 2s/step - loss: 0.3282 - accuracy: 0.8598 - val_loss: 0.2487 - val_accuracy: 0.8969\n",
            "Epoch 32/200\n",
            "38/38 [==============================] - 74s 2s/step - loss: 0.3146 - accuracy: 0.8571 - val_loss: 0.2992 - val_accuracy: 0.8906\n",
            "Epoch 33/200\n",
            "38/38 [==============================] - 74s 2s/step - loss: 0.3261 - accuracy: 0.8655 - val_loss: 0.2480 - val_accuracy: 0.8875\n",
            "Epoch 34/200\n",
            "38/38 [==============================] - 76s 2s/step - loss: 0.3105 - accuracy: 0.8648 - val_loss: 0.2779 - val_accuracy: 0.8844\n",
            "Epoch 35/200\n",
            "38/38 [==============================] - 73s 2s/step - loss: 0.2929 - accuracy: 0.8763 - val_loss: 0.3365 - val_accuracy: 0.8687\n",
            "Epoch 36/200\n",
            "38/38 [==============================] - 73s 2s/step - loss: 0.3717 - accuracy: 0.8319 - val_loss: 0.2405 - val_accuracy: 0.8969\n",
            "Epoch 37/200\n",
            "38/38 [==============================] - 74s 2s/step - loss: 0.3074 - accuracy: 0.8577 - val_loss: 0.2879 - val_accuracy: 0.8781\n",
            "Epoch 38/200\n",
            "38/38 [==============================] - 74s 2s/step - loss: 0.3187 - accuracy: 0.8755 - val_loss: 0.2333 - val_accuracy: 0.9031\n",
            "Epoch 39/200\n",
            "38/38 [==============================] - 75s 2s/step - loss: 0.2785 - accuracy: 0.8786 - val_loss: 0.2481 - val_accuracy: 0.8938\n",
            "Epoch 40/200\n",
            "38/38 [==============================] - 73s 2s/step - loss: 0.2598 - accuracy: 0.8969 - val_loss: 0.2424 - val_accuracy: 0.9000\n",
            "Epoch 41/200\n",
            "38/38 [==============================] - 73s 2s/step - loss: 0.2848 - accuracy: 0.8860 - val_loss: 0.2076 - val_accuracy: 0.9187\n",
            "Epoch 42/200\n",
            "38/38 [==============================] - 74s 2s/step - loss: 0.2805 - accuracy: 0.8881 - val_loss: 0.2377 - val_accuracy: 0.8938\n",
            "Epoch 43/200\n",
            "38/38 [==============================] - 75s 2s/step - loss: 0.2670 - accuracy: 0.8907 - val_loss: 0.2880 - val_accuracy: 0.8813\n",
            "Epoch 44/200\n",
            "38/38 [==============================] - 73s 2s/step - loss: 0.3004 - accuracy: 0.8822 - val_loss: 0.2198 - val_accuracy: 0.9062\n",
            "Epoch 45/200\n",
            "38/38 [==============================] - 73s 2s/step - loss: 0.2756 - accuracy: 0.8918 - val_loss: 0.2032 - val_accuracy: 0.9281\n"
          ],
          "name": "stdout"
        }
      ]
    },
    {
      "cell_type": "code",
      "metadata": {
        "id": "l_2pHjyq1wRu",
        "colab": {
          "base_uri": "https://localhost:8080/"
        },
        "outputId": "86015a42-6169-4a54-fc8a-0e195dc53efb"
      },
      "source": [
        "generator = train_datagen.flow_from_directory(\"data/train\", batch_size=32)\n",
        "label_map = (generator.class_indices)\n",
        "label_map"
      ],
      "execution_count": 6,
      "outputs": [
        {
          "output_type": "stream",
          "text": [
            "Found 1206 images belonging to 2 classes.\n"
          ],
          "name": "stdout"
        },
        {
          "output_type": "execute_result",
          "data": {
            "text/plain": [
              "{'blueCheese': 0, 'notBlueCheese': 1}"
            ]
          },
          "metadata": {
            "tags": []
          },
          "execution_count": 6
        }
      ]
    },
    {
      "cell_type": "markdown",
      "metadata": {
        "id": "gqrJ0LjrWYAF"
      },
      "source": [
        "## Load a previously trained model"
      ]
    },
    {
      "cell_type": "code",
      "metadata": {
        "id": "D9EqY_wnMOZM"
      },
      "source": [
        "# from tensorflow import keras\n",
        "# classifier = keras.models.load_model(ROOT_DIR + 'my_model')"
      ],
      "execution_count": 7,
      "outputs": []
    },
    {
      "cell_type": "markdown",
      "metadata": {
        "id": "g5wEvevdWdfW"
      },
      "source": [
        "## Make predictions"
      ]
    },
    {
      "cell_type": "code",
      "metadata": {
        "id": "Opy0uqfQ2R9g",
        "colab": {
          "base_uri": "https://localhost:8080/"
        },
        "outputId": "52f7393b-5e00-4108-f578-114e139b1471"
      },
      "source": [
        "# resize image\n",
        "test_image = load_img('data/test/blueCheese/bleu_de_gex67.jpg', target_size = (256, 256))\n",
        "test_image = img_to_array(test_image)\n",
        "test_image = np.expand_dims(test_image, axis = 0)\n",
        "result = classifier.predict(test_image)\n",
        "print('Predicted class: ', int(result[0][0]))\n",
        "\n",
        "predictions = classifier.predict(test_data)\n",
        "predicted_classes = np.argmax(predictions, axis=1)\n",
        "\n",
        "true_classes = test_data.classes\n",
        "class_labels = list(test_data.class_indices.keys())\n",
        "\n",
        "report = metrics.classification_report(true_classes, predicted_classes, target_names=class_labels)\n",
        "print(report)\n",
        "\n",
        "confusion_matrix = metrics.confusion_matrix(y_true=true_classes, y_pred=predicted_classes)\n",
        "confusion_matrix"
      ],
      "execution_count": 12,
      "outputs": [
        {
          "output_type": "stream",
          "text": [
            "Predicted class:  0\n",
            "               precision    recall  f1-score   support\n",
            "\n",
            "   blueCheese       0.53      0.51      0.52       652\n",
            "notBlueCheese       0.45      0.47      0.46       554\n",
            "\n",
            "     accuracy                           0.49      1206\n",
            "    macro avg       0.49      0.49      0.49      1206\n",
            " weighted avg       0.49      0.49      0.49      1206\n",
            "\n"
          ],
          "name": "stdout"
        },
        {
          "output_type": "execute_result",
          "data": {
            "text/plain": [
              "array([[332, 320],\n",
              "       [295, 259]])"
            ]
          },
          "metadata": {
            "tags": []
          },
          "execution_count": 12
        }
      ]
    },
    {
      "cell_type": "code",
      "metadata": {
        "id": "2YCuMf6aIxts",
        "colab": {
          "base_uri": "https://localhost:8080/",
          "height": 317
        },
        "outputId": "94ebca95-a70e-4a39-c421-2fb1b057df6d"
      },
      "source": [
        "test_loss, test_acc = classifier.evaluate(test_data, verbose=2)\n",
        "plt.plot(history.history['accuracy'], label='accuracy')\n",
        "plt.plot(history.history['val_accuracy'], label = 'val_accuracy')\n",
        "plt.xlabel('Epoch')\n",
        "plt.ylabel('Accuracy')\n",
        "plt.ylim([0.5, 1])\n",
        "plt.legend(loc='lower right')\n",
        "\n",
        "print('Accuracy: ', test_acc)"
      ],
      "execution_count": 9,
      "outputs": [
        {
          "output_type": "stream",
          "text": [
            "31/31 - 32s - loss: 0.2230 - accuracy: 0.9243\n",
            "Accuracy:  0.9242738485336304\n"
          ],
          "name": "stdout"
        },
        {
          "output_type": "display_data",
          "data": {
            "image/png": "[encoded data removed]",
            "text/plain": [
              "<Figure size 432x288 with 1 Axes>"
            ]
          },
          "metadata": {
            "tags": [],
            "needs_background": "light"
          }
        }
      ]
    },
    {
      "cell_type": "markdown",
      "metadata": {
        "id": "M_juV7qmWO8v"
      },
      "source": [
        "## Save the model"
      ]
    },
    {
      "cell_type": "code",
      "metadata": {
        "id": "SPGYg3WzSYGK",
        "colab": {
          "base_uri": "https://localhost:8080/"
        },
        "outputId": "f2269aef-8cb4-49ff-88f6-0ae428c25aec"
      },
      "source": [
        "model_name = 'my_model9'\n",
        "model_dir = ROOT_DIR + model_name + '/'\n",
        "if not os.path.isdir(model_dir):\n",
        "  os.mkdir(model_dir)\n",
        "\n",
        "with open(f'{model_dir}/{model_name}.txt', 'w') as file:\n",
        "    with redirect_stdout(file):\n",
        "        classifier.summary()\n",
        "\n",
        "test_loss, test_acc = classifier.evaluate(test_data, verbose=2)\n",
        "with open(f'{model_dir}/{model_name}.txt', 'a') as file:\n",
        "  file.write(f'\\nAccuracy: {test_acc}')\n",
        "  file.write(f'\\nReport\\n: {report}')\n",
        "  file.write(f'\\nConfusion Matrix\\n: {confusion_matrix}')\n",
        "  \n",
        "classifier.save(model_dir)"
      ],
      "execution_count": 10,
      "outputs": [
        {
          "output_type": "stream",
          "text": [
            "31/31 - 33s - loss: 0.2230 - accuracy: 0.9243\n",
            "INFO:tensorflow:Assets written to: /content/drive/MyDrive/my_model9/assets\n"
          ],
          "name": "stdout"
        }
      ]
    }
  ]
}