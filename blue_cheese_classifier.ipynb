{
  "nbformat": 4,
  "nbformat_minor": 0,
  "metadata": {
    "colab": {
      "name": "blue_cheese_classifier.ipynb",
      "provenance": [],
      "include_colab_link": true
    },
    "language_info": {
      "name": "python"
    },
    "kernelspec": {
      "name": "python3",
      "display_name": "Python 3"
    }
  },
  "cells": [
    {
      "cell_type": "markdown",
      "metadata": {
        "id": "view-in-github",
        "colab_type": "text"
      },
      "source": [
        "<a href=\"https://colab.research.google.com/github/Jamnic98/blue-cheese-classifier/blob/main/blue_cheese_classifier.ipynb\" target=\"_parent\"><img src=\"https://colab.research.google.com/assets/colab-badge.svg\" alt=\"Open In Colab\"/></a>"
      ]
    },
    {
      "cell_type": "code",
      "metadata": {
        "id": "sLRp99la-75E",
        "colab": {
          "base_uri": "https://localhost:8080/"
        },
        "outputId": "82633d18-e441-4650-90a5-d8560ea3e374"
      },
      "source": [
        "# mount the google drive\n",
        "from google.colab import drive\n",
        "drive.mount('/content/drive')"
      ],
      "execution_count": 1,
      "outputs": [
        {
          "output_type": "stream",
          "text": [
            "Mounted at /content/drive\n"
          ],
          "name": "stdout"
        }
      ]
    },
    {
      "cell_type": "code",
      "metadata": {
        "id": "2cA570f-L8uG",
        "colab": {
          "base_uri": "https://localhost:8080/"
        },
        "outputId": "a8f2fc48-23e5-419f-813f-a3cf113433b1"
      },
      "source": [
        "%cd drive/MyDrive/"
      ],
      "execution_count": 2,
      "outputs": [
        {
          "output_type": "stream",
          "text": [
            "/content/drive/MyDrive\n"
          ],
          "name": "stdout"
        }
      ]
    },
    {
      "cell_type": "code",
      "metadata": {
        "id": "iv8dF7s23psO"
      },
      "source": [
        "import os\n",
        "import numpy as np\n",
        "import shutil\n",
        "import random\n",
        "\n",
        "class_names = ['blueCheese', 'notBlueCheese']\n",
        "root_dir = '/content/drive/MyDrive/'\n",
        "val_ratio = 0.15\n",
        "test_ratio = 0.05\n",
        "\n",
        "all_cheese_image_dirs = {class_names[0]: [], class_names[1]: []}\n",
        "\n",
        "for class_name in class_names:\n",
        "  train_URI = root_dir +'data/train/' + class_name\n",
        "  if not os.path.isdir(train_URI):\n",
        "    os.makedirs(train_URI)\n",
        "  \n",
        "  test_URI = root_dir +'data/test/' + class_name\n",
        "  if not os.path.isdir(test_URI):\n",
        "    os.makedirs(test_URI)\n",
        "  \n",
        "  val_URI = root_dir +'data/val/' + class_name\n",
        "  if not os.path.isdir(val_URI):\n",
        "    os.makedirs(val_URI)\n",
        "\n",
        "  cheeses = os.listdir(root_dir + class_name)\n",
        "\n",
        "  for cheese_name in cheeses:\n",
        "    cheese_dir = root_dir + class_name + '/' + cheese_name\n",
        "\n",
        "    all_cheese_image_dirs[class_name].extend(\n",
        "      [cheese_dir + '/'+ name for name in os.listdir(cheese_dir)]\n",
        "      )  "
      ],
      "execution_count": 3,
      "outputs": []
    },
    {
      "cell_type": "code",
      "metadata": {
        "id": "q2B9aZZ47NGV",
        "colab": {
          "base_uri": "https://localhost:8080/"
        },
        "outputId": "39de2d24-80b6-4e78-e512-f2681c4dcccf"
      },
      "source": [
        "for class_name in class_names:\n",
        "  cheese_image_dirs = all_cheese_image_dirs[class_name]\n",
        "\n",
        "  np.random.shuffle(cheese_image_dirs)\n",
        "\n",
        "  train_FileNames, val_FileNames, test_FileNames = np.split(\n",
        "    np.array(cheese_image_dirs),\n",
        "    [int(len(cheese_image_dirs)* (1 - (val_ratio + test_ratio))), \n",
        "    int(len(cheese_image_dirs)* (1 - test_ratio))]\n",
        "  )\n",
        "\n",
        "  print('In folder :', class_name)\n",
        "  print('Total images: ', len(cheese_image_dirs))\n",
        "  print('Training: ', len(train_FileNames))\n",
        "  print('Validation: ', len(val_FileNames))\n",
        "  print('Testing: ', len(test_FileNames))\n",
        "  print('\\n')\n",
        "\n",
        "  # # Copy-pasting images\n",
        "  # for train_FileName in train_FileNames.tolist():\n",
        "  #   shutil.copy(train_FileName, root_dir +'data/train/' + class_name)\n",
        "\n",
        "  # for val_FileName in val_FileNames.tolist():\n",
        "  #   shutil.copy(val_FileName, root_dir +'data/val/' + class_name)\n",
        "\n",
        "  # for test_FileName in test_FileNames.tolist():\n",
        "  #   shutil.copy(test_FileName, root_dir +'data/test/' + class_name)"
      ],
      "execution_count": 4,
      "outputs": [
        {
          "output_type": "stream",
          "text": [
            "In folder : blueCheese\n",
            "Total images:  1896\n",
            "Training:  1516\n",
            "Validation:  285\n",
            "Testing:  95\n",
            "\n",
            "\n",
            "In folder : notBlueCheese\n",
            "Total images:  1848\n",
            "Training:  1478\n",
            "Validation:  277\n",
            "Testing:  93\n",
            "\n",
            "\n"
          ],
          "name": "stdout"
        }
      ]
    },
    {
      "cell_type": "code",
      "metadata": {
        "id": "WDwQv-U2uwmo",
        "colab": {
          "base_uri": "https://localhost:8080/"
        },
        "outputId": "b5d819fd-578a-4502-9aaf-d372fb24185a"
      },
      "source": [
        "# use ImageDataGenerator to preprocess the data\n",
        "from keras.preprocessing.image import ImageDataGenerator\n",
        "\n",
        "augmented_images_dir=root_dir + 'augmented_images/'\n",
        "if not os.path.isdir(augmented_images_dir):\n",
        "  os.mkdir(augmented_images_dir)\n",
        "\n",
        "# augment the data that we have\n",
        "train_datagen = ImageDataGenerator(rescale=1./255,\n",
        "                                   shear_range=0.1,\n",
        "                                   zoom_range=0.1,\n",
        "                                   rotation_range=15,\n",
        "                                   horizontal_flip=True)\n",
        "test_datagen = ImageDataGenerator(rescale = 1./255)\n",
        "\n",
        "# prepare training data\n",
        "augmented_train_images_dir = augmented_images_dir + 'train'\n",
        "if not os.path.isdir(augmented_train_images_dir):\n",
        "  os.mkdir(augmented_train_images_dir)\n",
        "training_data = train_datagen.flow_from_directory('data/train',\n",
        "                                                  #save_to_dir=augmented_train_images_dir,\n",
        "                                                  target_size=(64, 64),\n",
        "                                                  batch_size=32,\n",
        "                                                  class_mode='categorical'\n",
        "                                                  )\n",
        "\n",
        "# prepare test data\n",
        "augmented_test_images_dir = augmented_images_dir + 'test'\n",
        "if not os.path.isdir(augmented_test_images_dir):\n",
        "  os.mkdir(augmented_test_images_dir)\n",
        "test_data = test_datagen.flow_from_directory('data/test',\n",
        "                                              #save_to_dir=augmented_test_images_dir,\n",
        "                                              target_size = (64, 64),\n",
        "                                              batch_size = 32,\n",
        "                                              class_mode = 'categorical'\n",
        "                                              )\n",
        "\n",
        "# prepare validation data\n",
        "augmented_val_images_dir = augmented_images_dir + 'val'\n",
        "if not os.path.isdir(augmented_val_images_dir):\n",
        "  os.mkdir(augmented_val_images_dir)\n",
        "validation_data = test_datagen.flow_from_directory('data/val',\n",
        "                                                    #save_to_dir=augmented_val_images_dir,\n",
        "                                                    target_size = (64, 64),\n",
        "                                                    batch_size = 32,\n",
        "                                                    class_mode = 'categorical'\n",
        "                                                    )"
      ],
      "execution_count": 5,
      "outputs": [
        {
          "output_type": "stream",
          "text": [
            "Found 2994 images belonging to 2 classes.\n",
            "Found 188 images belonging to 2 classes.\n",
            "Found 562 images belonging to 2 classes.\n"
          ],
          "name": "stdout"
        }
      ]
    },
    {
      "cell_type": "code",
      "metadata": {
        "id": "uNw0VHNr1Oam"
      },
      "source": [
        "### Build the model\n",
        "# Importing the Keras libraries and packages\n",
        "from keras.models import Sequential\n",
        "from keras.layers import Conv2D\n",
        "from keras.layers import MaxPooling2D\n",
        "from keras.layers import Flatten\n",
        "from keras.layers import Dense\n",
        "\n",
        "# Initialising the CNN\n",
        "classifier = Sequential()\n",
        "\n",
        "# Step 1 - Convolution\n",
        "# make 32 feature detectors with a size of 3x3\n",
        "# choose the input-image's format to be 64x64 with 3 channels\n",
        "classifier.add(Conv2D(32, (3, 3), input_shape=(64, 64, 3), activation=\"relu\"))\n",
        "\n",
        "# Step 2 - Pooling\n",
        "classifier.add(MaxPooling2D(pool_size = (2, 2)))\n",
        "\n",
        "# Adding a second convolutional layer\n",
        "classifier.add(Conv2D(32, (3, 3), activation = 'relu'))\n",
        "classifier.add(MaxPooling2D(pool_size = (2, 2)))\n",
        "\n",
        "# Step 3 - Flattening\n",
        "classifier.add(Flatten())\n",
        "\n",
        "# Step 4 - Full connection\n",
        "classifier.add(Dense(activation=\"relu\", units=128))\n",
        "classifier.add(Dense(activation=\"softmax\", units=2))\n",
        "\n",
        "# Compiling the CNN\n",
        "classifier.compile(optimizer = 'adam', loss = 'categorical_crossentropy', metrics = ['accuracy'])"
      ],
      "execution_count": 6,
      "outputs": []
    },
    {
      "cell_type": "markdown",
      "metadata": {
        "id": "o3umvda_2CK7"
      },
      "source": [
        "### **Change code below this message**"
      ]
    },
    {
      "cell_type": "code",
      "metadata": {
        "id": "XMC2H2lL1Yno",
        "colab": {
          "base_uri": "https://localhost:8080/"
        },
        "outputId": "e6d8996b-9ba8-48ce-ce1f-7fc7f0c19b8d"
      },
      "source": [
        "history = classifier.fit(training_data,\n",
        "               #steps_per_epoch = (100),\n",
        "               epochs=15,\n",
        "               validation_data=validation_data,\n",
        "               validation_steps=10)"
      ],
      "execution_count": 7,
      "outputs": [
        {
          "output_type": "stream",
          "text": [
            "Epoch 1/15\n",
            " 1/94 [..............................] - ETA: 35:49 - loss: 0.6846 - accuracy: 0.5625"
          ],
          "name": "stdout"
        },
        {
          "output_type": "stream",
          "text": [
            "/usr/local/lib/python3.7/dist-packages/PIL/Image.py:960: UserWarning: Palette images with Transparency expressed in bytes should be converted to RGBA images\n",
            "  \"Palette images with Transparency expressed in bytes should be \"\n"
          ],
          "name": "stderr"
        },
        {
          "output_type": "stream",
          "text": [
            "24/94 [======>.......................] - ETA: 8:27 - loss: 0.9604 - accuracy: 0.5211"
          ],
          "name": "stdout"
        },
        {
          "output_type": "stream",
          "text": [
            "/usr/local/lib/python3.7/dist-packages/PIL/TiffImagePlugin.py:770: UserWarning: Possibly corrupt EXIF data.  Expecting to read 19 bytes but only got 18. Skipping tag 42036\n",
            "  \" Skipping tag %s\" % (size, len(data), tag)\n"
          ],
          "name": "stderr"
        },
        {
          "output_type": "stream",
          "text": [
            "94/94 [==============================] - 775s 8s/step - loss: 0.7676 - accuracy: 0.5745 - val_loss: 0.5746 - val_accuracy: 0.7031\n",
            "Epoch 2/15\n",
            "94/94 [==============================] - 86s 913ms/step - loss: 0.6040 - accuracy: 0.6673 - val_loss: 0.5696 - val_accuracy: 0.6656\n",
            "Epoch 3/15\n",
            "94/94 [==============================] - 70s 752ms/step - loss: 0.5702 - accuracy: 0.6958 - val_loss: 0.6993 - val_accuracy: 0.6125\n",
            "Epoch 4/15\n",
            "94/94 [==============================] - 61s 647ms/step - loss: 0.5686 - accuracy: 0.6936 - val_loss: 0.6276 - val_accuracy: 0.6719\n",
            "Epoch 5/15\n",
            "94/94 [==============================] - 59s 628ms/step - loss: 0.5358 - accuracy: 0.7131 - val_loss: 0.4767 - val_accuracy: 0.7469\n",
            "Epoch 6/15\n",
            "94/94 [==============================] - 58s 616ms/step - loss: 0.5015 - accuracy: 0.7446 - val_loss: 0.4960 - val_accuracy: 0.7531\n",
            "Epoch 7/15\n",
            "94/94 [==============================] - 57s 609ms/step - loss: 0.4851 - accuracy: 0.7650 - val_loss: 0.5256 - val_accuracy: 0.7719\n",
            "Epoch 8/15\n",
            "94/94 [==============================] - 58s 616ms/step - loss: 0.4595 - accuracy: 0.7811 - val_loss: 0.4369 - val_accuracy: 0.8031\n",
            "Epoch 9/15\n",
            "94/94 [==============================] - 58s 617ms/step - loss: 0.4402 - accuracy: 0.7877 - val_loss: 0.4248 - val_accuracy: 0.8125\n",
            "Epoch 10/15\n",
            "94/94 [==============================] - 57s 608ms/step - loss: 0.3962 - accuracy: 0.8211 - val_loss: 0.4053 - val_accuracy: 0.8000\n",
            "Epoch 11/15\n",
            "94/94 [==============================] - 58s 613ms/step - loss: 0.4112 - accuracy: 0.7936 - val_loss: 0.3883 - val_accuracy: 0.8094\n",
            "Epoch 12/15\n",
            "94/94 [==============================] - 57s 607ms/step - loss: 0.3662 - accuracy: 0.8341 - val_loss: 0.4623 - val_accuracy: 0.7781\n",
            "Epoch 13/15\n",
            "94/94 [==============================] - 58s 619ms/step - loss: 0.3624 - accuracy: 0.8313 - val_loss: 0.3631 - val_accuracy: 0.8281\n",
            "Epoch 14/15\n",
            "94/94 [==============================] - 60s 637ms/step - loss: 0.3629 - accuracy: 0.8471 - val_loss: 0.5630 - val_accuracy: 0.7281\n",
            "Epoch 15/15\n",
            "94/94 [==============================] - 58s 618ms/step - loss: 0.3311 - accuracy: 0.8546 - val_loss: 0.3880 - val_accuracy: 0.8156\n"
          ],
          "name": "stdout"
        }
      ]
    },
    {
      "cell_type": "code",
      "metadata": {
        "id": "l_2pHjyq1wRu",
        "colab": {
          "base_uri": "https://localhost:8080/"
        },
        "outputId": "66bd7dd0-f6fd-464f-d6b5-e186e728b536"
      },
      "source": [
        "generator= train_datagen.flow_from_directory(\"data/train\", batch_size=32)\n",
        "label_map = (generator.class_indices)\n",
        "label_map"
      ],
      "execution_count": 8,
      "outputs": [
        {
          "output_type": "stream",
          "text": [
            "Found 2994 images belonging to 2 classes.\n"
          ],
          "name": "stdout"
        },
        {
          "output_type": "execute_result",
          "data": {
            "text/plain": [
              "{'blueCheese': 0, 'notBlueCheese': 1}"
            ]
          },
          "metadata": {
            "tags": []
          },
          "execution_count": 8
        }
      ]
    },
    {
      "cell_type": "code",
      "metadata": {
        "id": "Opy0uqfQ2R9g",
        "colab": {
          "base_uri": "https://localhost:8080/"
        },
        "outputId": "4807fbee-699e-42f5-8b40-f705bea26b06"
      },
      "source": [
        "## make predictions\n",
        "import numpy as np\n",
        "from keras.preprocessing import image\n",
        "# we have to resize our image if we haven't already\n",
        "test_image = image.load_img('data/test/notBlueCheese/comte103.jpg', target_size = (64, 64))\n",
        "test_image = image.img_to_array(test_image)\n",
        "test_image = np.expand_dims(test_image, axis = 0)\n",
        "result = classifier.predict(test_image)\n",
        "print('Predicted class: ', int(result[0][0]))\n",
        "print(result)\n",
        "\n",
        "predictions = classifier.predict(test_data)\n",
        "# Get most likely class\n",
        "predicted_classes = np.argmax(predictions, axis=1)\n",
        "\n",
        "true_classes = test_data.classes\n",
        "class_labels = list(test_data.class_indices.keys())\n",
        "\n",
        "\n",
        "import sklearn.metrics as metrics\n",
        "report = metrics.classification_report(true_classes, predicted_classes, target_names=class_labels)\n",
        "print(report)\n",
        "\n",
        "confusion_matrix = metrics.confusion_matrix(y_true=true_classes, y_pred=predicted_classes)\n",
        "confusion_matrix"
      ],
      "execution_count": 9,
      "outputs": [
        {
          "output_type": "stream",
          "text": [
            "Predicted class:  0\n",
            "[[0. 1.]]\n"
          ],
          "name": "stdout"
        },
        {
          "output_type": "stream",
          "text": [
            "/usr/local/lib/python3.7/dist-packages/PIL/Image.py:960: UserWarning: Palette images with Transparency expressed in bytes should be converted to RGBA images\n",
            "  \"Palette images with Transparency expressed in bytes should be \"\n"
          ],
          "name": "stderr"
        },
        {
          "output_type": "stream",
          "text": [
            "               precision    recall  f1-score   support\n",
            "\n",
            "   blueCheese       0.50      0.52      0.51        95\n",
            "notBlueCheese       0.49      0.47      0.48        93\n",
            "\n",
            "     accuracy                           0.49       188\n",
            "    macro avg       0.49      0.49      0.49       188\n",
            " weighted avg       0.49      0.49      0.49       188\n",
            "\n"
          ],
          "name": "stdout"
        },
        {
          "output_type": "execute_result",
          "data": {
            "text/plain": [
              "array([[49, 46],\n",
              "       [49, 44]])"
            ]
          },
          "metadata": {
            "tags": []
          },
          "execution_count": 9
        }
      ]
    },
    {
      "cell_type": "code",
      "metadata": {
        "id": "2YCuMf6aIxts",
        "outputId": "4094d8a7-24f2-43a0-a13d-9b539f602e06",
        "colab": {
          "base_uri": "https://localhost:8080/",
          "height": 350
        }
      },
      "source": [
        "import matplotlib.pyplot as plt\n",
        "plt.plot(history.history['accuracy'], label='accuracy')\n",
        "plt.plot(history.history['val_accuracy'], label = 'val_accuracy')\n",
        "plt.xlabel('Epoch')\n",
        "plt.ylabel('Accuracy')\n",
        "plt.ylim([0.5, 1])\n",
        "plt.legend(loc='lower right')\n",
        "\n",
        "test_loss, test_acc = classifier.evaluate(test_data, verbose=2)\n",
        "print('Accuracy: ', test_acc)"
      ],
      "execution_count": 11,
      "outputs": [
        {
          "output_type": "stream",
          "text": [
            "/usr/local/lib/python3.7/dist-packages/PIL/Image.py:960: UserWarning: Palette images with Transparency expressed in bytes should be converted to RGBA images\n",
            "  \"Palette images with Transparency expressed in bytes should be \"\n"
          ],
          "name": "stderr"
        },
        {
          "output_type": "stream",
          "text": [
            "6/6 - 2s - loss: 0.3410 - accuracy: 0.8457\n",
            "Accuracy:  0.8457446694374084\n"
          ],
          "name": "stdout"
        },
        {
          "output_type": "display_data",
          "data": {
            "image/png": "[encoded data removed]",
            "text/plain": [
              "<Figure size 432x288 with 1 Axes>"
            ]
          },
          "metadata": {
            "tags": [],
            "needs_background": "light"
          }
        }
      ]
    },
    {
      "cell_type": "code",
      "metadata": {
        "id": "SPGYg3WzSYGK",
        "outputId": "d205965e-8d9b-4e4b-92e1-388ab699e99a",
        "colab": {
          "base_uri": "https://localhost:8080/"
        }
      },
      "source": [
        "# model_dir = root_dir + 'my_model'\n",
        "\n",
        "# if not os.path.isdir(model_dir):\n",
        "#   os.mkdir(model_dir)\n",
        "\n",
        "# classifier.save(model_dir)"
      ],
      "execution_count": 12,
      "outputs": [
        {
          "output_type": "stream",
          "text": [
            "INFO:tensorflow:Assets written to: /content/drive/MyDrive/my_model/assets\n"
          ],
          "name": "stdout"
        }
      ]
    }
  ]
}