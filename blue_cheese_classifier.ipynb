{
  "nbformat": 4,
  "nbformat_minor": 0,
  "metadata": {
    "colab": {
      "name": "blue_cheese_classifier.ipynb",
      "provenance": [],
      "include_colab_link": true
    },
    "language_info": {
      "name": "python"
    },
    "kernelspec": {
      "name": "python3",
      "display_name": "Python 3"
    },
    "accelerator": "GPU"
  },
  "cells": [
    {
      "cell_type": "markdown",
      "metadata": {
        "id": "view-in-github",
        "colab_type": "text"
      },
      "source": [
        "<a href=\"https://colab.research.google.com/github/Jamnic98/blue-cheese-classifier/blob/main/blue_cheese_classifier.ipynb\" target=\"_parent\"><img src=\"https://colab.research.google.com/assets/colab-badge.svg\" alt=\"Open In Colab\"/></a>"
      ]
    },
    {
      "cell_type": "markdown",
      "metadata": {
        "id": "rZFY0P2bK-Rw"
      },
      "source": [
        "## Import modules, mount the google drive and establish constants"
      ]
    },
    {
      "cell_type": "code",
      "metadata": {
        "id": "sLRp99la-75E",
        "colab": {
          "base_uri": "https://localhost:8080/"
        },
        "outputId": "f105251b-410b-4a44-ac13-690aa91b29ea"
      },
      "source": [
        "# import modules\n",
        "import os\n",
        "import numpy as np\n",
        "import shutil\n",
        "import sklearn.metrics as metrics\n",
        "import matplotlib.pyplot as plt\n",
        "from keras.preprocessing.image import ImageDataGenerator, load_img, img_to_array\n",
        "from keras.callbacks import EarlyStopping\n",
        "from keras.models import Sequential\n",
        "from keras.layers import Conv2D\n",
        "from keras.layers import MaxPooling2D\n",
        "from keras.layers import Flatten\n",
        "from keras.layers import Dense\n",
        "from contextlib import redirect_stdout\n",
        "\n",
        "# mount the google drive and change directory\n",
        "from google.colab import drive\n",
        "drive.mount('/content/drive')\n",
        "%cd drive/MyDrive/\n",
        "\n",
        "# constants\n",
        "VAL_RATIO = 0.05\n",
        "TEST_RATIO = 0.15\n",
        "ROOT_DIR = '/content/drive/MyDrive/'\n",
        "CLASS_NAMES = ['blueCheese', 'notBlueCheese']"
      ],
      "execution_count": 1,
      "outputs": [
        {
          "output_type": "stream",
          "text": [
            "Mounted at /content/drive\n",
            "/content/drive/MyDrive\n"
          ],
          "name": "stdout"
        }
      ]
    },
    {
      "cell_type": "markdown",
      "metadata": {
        "id": "h5VHWKSYVQQX"
      },
      "source": [
        "## Split images into train, test and validation folders"
      ]
    },
    {
      "cell_type": "code",
      "metadata": {
        "id": "iv8dF7s23psO",
        "colab": {
          "base_uri": "https://localhost:8080/",
          "height": 229
        },
        "outputId": "5e1adf11-1373-4b00-89fc-f8a3a66067fc"
      },
      "source": [
        "data_dir = ROOT_DIR +'data/'\n",
        "if not os.path.isdir(data_dir):\n",
        "    os.mkdir(data_dir)\n",
        "\n",
        "for class_name in CLASS_NAMES:\n",
        "  # create train, test and validation folders\n",
        "  train_dir = data_dir + 'train/'\n",
        "  if not os.path.isdir(train_dir):\n",
        "    os.mkdir(train_dir)\n",
        "  class_train_dir = train_dir + class_name\n",
        "  if not os.path.isdir(class_train_dir):\n",
        "    os.mkdir(class_train_dir)\n",
        "\n",
        "  test_dir = data_dir + 'test/'\n",
        "  if not os.path.isdir(test_dir):\n",
        "    os.mkdir(test_dir)\n",
        "  class_test_dir = test_dir + class_name\n",
        "  if not os.path.isdir(class_test_dir):\n",
        "    os.mkdir(class_test_dir)\n",
        "\n",
        "  val_dir = data_dir + 'val/'\n",
        "  if not os.path.isdir(val_dir):\n",
        "    os.mkdir(val_dir)\n",
        "  class_val_dir = val_dir + class_name\n",
        "  if not os.path.isdir(class_val_dir):\n",
        "    os.mkdir(class_val_dir)\n",
        "\n",
        "  # compile a complete list of image URIs\n",
        "  image_URIs = []\n",
        "  cheese_names = os.listdir(ROOT_DIR + class_name)\n",
        "  for cheese_name in cheese_names:\n",
        "    cheese_dir = ROOT_DIR + 'cheeses/' + class_name + '/'\n",
        "    image_URIs.extend(\n",
        "      [cheese_dir + cheese_image for cheese_image in os.listdir(cheese_dir)]\n",
        "    )\n",
        "\n",
        "  # shuffle image URIs\n",
        "  np.random.shuffle(image_URIs)\n",
        "\n",
        "  # split the data into train, test and validation sets\n",
        "  train_URIs, test_URIs, val_URIs = np.split(\n",
        "    np.array(image_URIs),\n",
        "    [int(len(image_URIs)* (1 - (VAL_RATIO + TEST_RATIO))), \n",
        "    int(len(image_URIs)* (1 - VAL_RATIO))]\n",
        "  )\n",
        "\n",
        "  print('In folder:', class_name)\n",
        "  print('Total images: ', len(image_URIs))\n",
        "  print('Training: ', len(train_URIs))\n",
        "  print('Testing: ', len(test_URIs))\n",
        "  print('Validation: ', len(val_URIs))\n",
        "  print('\\n')\n",
        "\n",
        "  # # Copy-pasting images\n",
        "  for train_FileName in train_URIs.tolist():\n",
        "    shutil.copy(train_FileName, train_dir)\n",
        "\n",
        "  for test_FileName in test_URIs.tolist():\n",
        "    shutil.copy(test_FileName, test_dir)\n",
        "\n",
        "  for val_FileName in val_URIs.tolist():\n",
        "    shutil.copy(val_FileName, val_dir)\n"
      ],
      "execution_count": 2,
      "outputs": [
        {
          "output_type": "error",
          "ename": "FileNotFoundError",
          "evalue": "ignored",
          "traceback": [
            "\u001b[0;31m---------------------------------------------------------------------------\u001b[0m",
            "\u001b[0;31mFileNotFoundError\u001b[0m                         Traceback (most recent call last)",
            "\u001b[0;32m<ipython-input-2-f0e9c64ef472>\u001b[0m in \u001b[0;36m<module>\u001b[0;34m()\u001b[0m\n\u001b[1;32m      7\u001b[0m   \u001b[0mtest_dir\u001b[0m \u001b[0;34m=\u001b[0m \u001b[0mdata_dir\u001b[0m \u001b[0;34m+\u001b[0m \u001b[0;34m'test/'\u001b[0m \u001b[0;34m+\u001b[0m \u001b[0mclass_name\u001b[0m\u001b[0;34m\u001b[0m\u001b[0;34m\u001b[0m\u001b[0m\n\u001b[1;32m      8\u001b[0m   \u001b[0;32mif\u001b[0m \u001b[0;32mnot\u001b[0m \u001b[0mos\u001b[0m\u001b[0;34m.\u001b[0m\u001b[0mpath\u001b[0m\u001b[0;34m.\u001b[0m\u001b[0misdir\u001b[0m\u001b[0;34m(\u001b[0m\u001b[0mtest_dir\u001b[0m\u001b[0;34m)\u001b[0m\u001b[0;34m:\u001b[0m\u001b[0;34m\u001b[0m\u001b[0;34m\u001b[0m\u001b[0m\n\u001b[0;32m----> 9\u001b[0;31m     \u001b[0mos\u001b[0m\u001b[0;34m.\u001b[0m\u001b[0mmkdir\u001b[0m\u001b[0;34m(\u001b[0m\u001b[0mtest_dir\u001b[0m\u001b[0;34m)\u001b[0m\u001b[0;34m\u001b[0m\u001b[0;34m\u001b[0m\u001b[0m\n\u001b[0m\u001b[1;32m     10\u001b[0m   \u001b[0mtrain_dir\u001b[0m \u001b[0;34m=\u001b[0m \u001b[0mdata_dir\u001b[0m \u001b[0;34m+\u001b[0m \u001b[0;34m'train/'\u001b[0m \u001b[0;34m+\u001b[0m \u001b[0mclass_name\u001b[0m\u001b[0;34m\u001b[0m\u001b[0;34m\u001b[0m\u001b[0m\n\u001b[1;32m     11\u001b[0m   \u001b[0;32mif\u001b[0m \u001b[0;32mnot\u001b[0m \u001b[0mos\u001b[0m\u001b[0;34m.\u001b[0m\u001b[0mpath\u001b[0m\u001b[0;34m.\u001b[0m\u001b[0misdir\u001b[0m\u001b[0;34m(\u001b[0m\u001b[0mtrain_dir\u001b[0m\u001b[0;34m)\u001b[0m\u001b[0;34m:\u001b[0m\u001b[0;34m\u001b[0m\u001b[0;34m\u001b[0m\u001b[0m\n",
            "\u001b[0;31mFileNotFoundError\u001b[0m: [Errno 2] No such file or directory: '/content/drive/MyDrive/data/test/blueCheese'"
          ]
        }
      ]
    },
    {
      "cell_type": "markdown",
      "metadata": {
        "id": "racVhw4gVLbh"
      },
      "source": [
        "## Generate augmented images and prepare training, testing and validation data"
      ]
    },
    {
      "cell_type": "code",
      "metadata": {
        "id": "WDwQv-U2uwmo"
      },
      "source": [
        "augmented_images_dir = ROOT_DIR + 'augmented_images/'\n",
        "if not os.path.isdir(augmented_images_dir):\n",
        "  os.mkdir(augmented_images_dir)\n",
        "\n",
        "# augment the data that we have\n",
        "train_datagen = ImageDataGenerator(rescale=1./255,\n",
        "                                   shear_range=0.3,\n",
        "                                   zoom_range=0.3,\n",
        "                                   rotation_range=45,\n",
        "                                   horizontal_flip=True,\n",
        "                                   vertical_flip=True)\n",
        "\n",
        "test_datagen = ImageDataGenerator(rescale=1./255)\n",
        "\n",
        "# prepare training data\n",
        "augmented_train_images_dir = augmented_images_dir + 'train/'\n",
        "if not os.path.isdir(augmented_train_images_dir):\n",
        "  os.mkdir(augmented_train_images_dir)\n",
        "training_data = train_datagen.flow_from_directory('data/train',\n",
        "                                                  # save_to_dir=augmented_train_images_dir,\n",
        "                                                  target_size=(256, 256),\n",
        "                                                  batch_size=32,\n",
        "                                                  class_mode='categorical'\n",
        "                                                  )\n",
        "\n",
        "# prepare test data\n",
        "augmented_test_images_dir = augmented_images_dir + 'test/'\n",
        "if not os.path.isdir(augmented_test_images_dir):\n",
        "  os.mkdir(augmented_test_images_dir)\n",
        "test_data = test_datagen.flow_from_directory('data/test',\n",
        "                                              # save_to_dir=augmented_test_images_dir,\n",
        "                                              target_size = (256, 256),\n",
        "                                              batch_size = 32,\n",
        "                                              class_mode = 'categorical'\n",
        "                                              )\n",
        "\n",
        "# prepare validation data\n",
        "augmented_val_images_dir = augmented_images_dir + 'val/'\n",
        "if not os.path.isdir(augmented_val_images_dir):\n",
        "  os.mkdir(augmented_val_images_dir)\n",
        "validation_data = test_datagen.flow_from_directory('data/val',\n",
        "                                                    # save_to_dir=augmented_val_images_dir,\n",
        "                                                    target_size = (256, 256),\n",
        "                                                    batch_size = 32,\n",
        "                                                    class_mode = 'categorical'\n",
        "                                                    )"
      ],
      "execution_count": null,
      "outputs": []
    },
    {
      "cell_type": "markdown",
      "metadata": {
        "id": "iRLX5u8AvTgL"
      },
      "source": [
        "## Build the model"
      ]
    },
    {
      "cell_type": "code",
      "metadata": {
        "id": "uNw0VHNr1Oam"
      },
      "source": [
        "# Initialising the CNN\n",
        "classifier = Sequential()\n",
        "\n",
        "# Step 1 - Convolution\n",
        "# make 32 feature detectors with a size of 3x3\n",
        "# choose the input-image's format to be 256x256 with 3 channels\n",
        "classifier.add(Conv2D(32, (3, 3), input_shape=(256, 256, 3), activation=\"relu\"))\n",
        "\n",
        "# Step 2 - Pooling\n",
        "classifier.add(MaxPooling2D(pool_size = (2, 2)))\n",
        "\n",
        "# Adding a second convolutional layer\n",
        "classifier.add(Conv2D(64, (3, 3), activation = 'relu'))\n",
        "classifier.add(MaxPooling2D(pool_size = (2, 2)))\n",
        "\n",
        "classifier.add(Conv2D(128, (3, 3), activation = 'relu'))\n",
        "classifier.add(MaxPooling2D(pool_size = (2, 2)))\n",
        "\n",
        "# Step 3 - Flattening\n",
        "classifier.add(Flatten())\n",
        "\n",
        "# Step 4 - Full connection\n",
        "classifier.add(Dense(activation=\"relu\", units=128))\n",
        "classifier.add(Dense(activation=\"softmax\", units=2))\n",
        "\n",
        "# Compiling the CNN\n",
        "classifier.compile(optimizer = 'adam', loss = 'binary_crossentropy', metrics = ['accuracy'])"
      ],
      "execution_count": null,
      "outputs": []
    },
    {
      "cell_type": "markdown",
      "metadata": {
        "id": "o3umvda_2CK7"
      },
      "source": [
        "## Train the model"
      ]
    },
    {
      "cell_type": "code",
      "metadata": {
        "id": "XMC2H2lL1Yno"
      },
      "source": [
        "history = classifier.fit(training_data,\n",
        "               #steps_per_epoch = (10),\n",
        "               epochs=100,\n",
        "               validation_data=validation_data,\n",
        "               validation_steps=10,\n",
        "               callbacks=[EarlyStopping(monitor='loss', patience=3)])"
      ],
      "execution_count": null,
      "outputs": []
    },
    {
      "cell_type": "code",
      "metadata": {
        "id": "l_2pHjyq1wRu"
      },
      "source": [
        "generator = train_datagen.flow_from_directory(\"data/train\", batch_size=32)\n",
        "label_map = (generator.class_indices)\n",
        "label_map"
      ],
      "execution_count": null,
      "outputs": []
    },
    {
      "cell_type": "markdown",
      "metadata": {
        "id": "gqrJ0LjrWYAF"
      },
      "source": [
        "## Load a previously trained model"
      ]
    },
    {
      "cell_type": "code",
      "metadata": {
        "id": "D9EqY_wnMOZM"
      },
      "source": [
        "# from tensorflow import keras\n",
        "# classifier = keras.models.load_model(ROOT_DIR + 'my_model')"
      ],
      "execution_count": null,
      "outputs": []
    },
    {
      "cell_type": "markdown",
      "metadata": {
        "id": "g5wEvevdWdfW"
      },
      "source": [
        "## Make predictions"
      ]
    },
    {
      "cell_type": "code",
      "metadata": {
        "id": "Opy0uqfQ2R9g"
      },
      "source": [
        "# resize image\n",
        "test_image = load_img('data/test/notBlueCheese/red_leicester101.jpg', target_size = (256, 256))\n",
        "test_image = img_to_array(test_image)\n",
        "test_image = np.expand_dims(test_image, axis = 0)\n",
        "result = classifier.predict(test_image)\n",
        "print('Predicted class: ', int(result[0][0]))\n",
        "\n",
        "predictions = classifier.predict(test_data)\n",
        "predicted_classes = np.argmax(predictions, axis=1)\n",
        "\n",
        "true_classes = test_data.classes\n",
        "class_labels = list(test_data.class_indices.keys())\n",
        "\n",
        "report = metrics.classification_report(true_classes, predicted_classes, target_names=class_labels)\n",
        "report\n",
        "\n",
        "confusion_matrix = metrics.confusion_matrix(y_true=true_classes, y_pred=predicted_classes)\n",
        "confusion_matrix"
      ],
      "execution_count": null,
      "outputs": []
    },
    {
      "cell_type": "code",
      "metadata": {
        "id": "2YCuMf6aIxts"
      },
      "source": [
        "test_loss, test_acc = classifier.evaluate(test_data, verbose=2)\n",
        "plt.plot(history.history['accuracy'], label='accuracy')\n",
        "plt.plot(history.history['val_accuracy'], label = 'val_accuracy')\n",
        "plt.xlabel('Epoch')\n",
        "plt.ylabel('Accuracy')\n",
        "plt.ylim([0.5, 1])\n",
        "plt.legend(loc='lower right')\n",
        "\n",
        "print('Accuracy: ', test_acc)"
      ],
      "execution_count": null,
      "outputs": []
    },
    {
      "cell_type": "markdown",
      "metadata": {
        "id": "M_juV7qmWO8v"
      },
      "source": [
        "## Save the model"
      ]
    },
    {
      "cell_type": "code",
      "metadata": {
        "id": "SPGYg3WzSYGK"
      },
      "source": [
        "model_name = 'my_model8'\n",
        "model_dir = ROOT_DIR + model_name + '/'\n",
        "if not os.path.isdir(model_dir):\n",
        "  os.mkdir(model_dir)\n",
        "\n",
        "with open(f'{model_dir}/{model_name}.txt', 'w') as file:\n",
        "    with redirect_stdout(file):\n",
        "        classifier.summary()\n",
        "\n",
        "test_loss, test_acc = classifier.evaluate(test_data, verbose=2)\n",
        "with open(f'{model_dir}/{model_name}.txt', 'a') as file:\n",
        "  file.write(f'\\nAccuracy: {test_acc}')\n",
        "  file.write(f'\\nReport\\n: {report}')\n",
        "  file.write(f'\\nConfusion Matrix\\n: {confusion_matrix}')\n",
        "  \n",
        "classifier.save(model_dir)"
      ],
      "execution_count": null,
      "outputs": []
    }
  ]
}